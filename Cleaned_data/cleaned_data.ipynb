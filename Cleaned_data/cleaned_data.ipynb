{
 "metadata": {
  "language_info": {
   "codemirror_mode": {
    "name": "ipython",
    "version": 3
   },
   "file_extension": ".py",
   "mimetype": "text/x-python",
   "name": "python",
   "nbconvert_exporter": "python",
   "pygments_lexer": "ipython3",
   "version": "3.8.3-final"
  },
  "orig_nbformat": 2,
  "kernelspec": {
   "name": "Python 3.8.3 64-bit (conda)",
   "display_name": "Python 3.8.3 64-bit (conda)",
   "metadata": {
    "interpreter": {
     "hash": "344443636c3027c5042750c9c609acdda283a9c43681b128a8c1053e7ad2aa7d"
    }
   }
  }
 },
 "nbformat": 4,
 "nbformat_minor": 2,
 "cells": [
  {
   "cell_type": "code",
   "execution_count": 4,
   "metadata": {},
   "outputs": [],
   "source": [
    "import numpy as np \n",
    "import pandas as pd\n",
    "import csv \n",
    "%matplotlib inline\n",
    "import seaborn as sns\n",
    "import matplotlib.pyplot as plt\n",
    "\n",
    "import os \n",
    "os.chdir(\"/Users/susanchen/Documents/GitHub/skincare_classification/Uncleaned_data\")"
   ]
  },
  {
   "source": [
    "## Loading the 5 data files "
   ],
   "cell_type": "markdown",
   "metadata": {}
  },
  {
   "cell_type": "code",
   "execution_count": 5,
   "metadata": {},
   "outputs": [],
   "source": [
    "oily = pd.read_csv(\"Oily.csv\")\n",
    "dry = pd.read_csv('Dry.csv')\n",
    "norm = pd.read_csv('Normal.csv')\n",
    "combo = pd.read_csv('Combination.csv')\n",
    "sen = pd.read_csv(\"Sensitive.csv\")"
   ]
  },
  {
   "source": [
    "#### For each dataset, we add columns (Oily, Dry, Normal, and Combination) to represent what skin type the product is suitable for. A value of 1 represents suitability, i.e. 1 in the Dry column means the product suits dry skin types. "
   ],
   "cell_type": "markdown",
   "metadata": {}
  },
  {
   "cell_type": "code",
   "execution_count": 15,
   "metadata": {},
   "outputs": [],
   "source": [
    "oily[\"Oily\"] = 1\n",
    "oily[\"Dry\"] = 0\n",
    "oily[\"Normal\"] = 0\n",
    "oily[\"Combination\"] = 0\n",
    "oily[\"Sensitive\"] = 0"
   ]
  },
  {
   "cell_type": "code",
   "execution_count": 16,
   "metadata": {},
   "outputs": [],
   "source": [
    "dry[\"Oily\"] = 0\n",
    "dry[\"Dry\"] = 1\n",
    "dry[\"Normal\"] = 0\n",
    "dry[\"Combination\"] = 0\n",
    "dry[\"Sensitive\"] = 0"
   ]
  },
  {
   "cell_type": "code",
   "execution_count": 17,
   "metadata": {},
   "outputs": [],
   "source": [
    "norm[\"Oily\"] = 0\n",
    "norm[\"Dry\"] = 0\n",
    "norm[\"Normal\"] = 1\n",
    "norm[\"Combination\"] = 0\n",
    "norm[\"Sensitive\"] = 0"
   ]
  },
  {
   "cell_type": "code",
   "execution_count": 18,
   "metadata": {},
   "outputs": [],
   "source": [
    "combo[\"Oily\"] = 0\n",
    "combo[\"Dry\"] = 0\n",
    "combo[\"Normal\"] = 0\n",
    "combo[\"Combination\"] = 1\n",
    "combo[\"Sensitive\"] = 0"
   ]
  },
  {
   "cell_type": "code",
   "execution_count": 19,
   "metadata": {},
   "outputs": [],
   "source": [
    "sen[\"Oily\"] = 0\n",
    "sen[\"Dry\"] = 0\n",
    "sen[\"Normal\"] = 0\n",
    "sen[\"Combination\"] = 0\n",
    "sen[\"Sensitive\"] = 1"
   ]
  },
  {
   "source": [
    "#### Merge the five dataframes into one."
   ],
   "cell_type": "markdown",
   "metadata": {}
  },
  {
   "cell_type": "code",
   "execution_count": 35,
   "metadata": {},
   "outputs": [],
   "source": [
    "frames= [oily, dry, norm, combo, sen]\n",
    "Master = pd.concat(frames)"
   ]
  },
  {
   "cell_type": "code",
   "execution_count": 36,
   "metadata": {},
   "outputs": [
    {
     "output_type": "execute_result",
     "data": {
      "text/plain": [
       "                                                Product              Brand  \\\n",
       "0                      Glycolic Acid 7% Toning Solution       The Ordinary   \n",
       "1             The Microdelivery Exfoliating Facial Wash         Philosophy   \n",
       "2                          AHA/BHA Exfoliating Cleanser              Murad   \n",
       "3                              Anti-Aging Cleansing Gel  Peter Thomas Roth   \n",
       "4                             Hydrating Facial Cleanser             CeraVe   \n",
       "...                                                 ...                ...   \n",
       "1291  Labotica Aqua Tree Charcoal Pore Deep Cleansin...            Leaders   \n",
       "1292                                        Desert Mist             ARCONA   \n",
       "1293                           Cleansing Micellar Water           Erborian   \n",
       "1294                                    Water Beam Mask         DEARPACKER   \n",
       "1295                     Shaking Protein Hydrating Mask         DEARPACKER   \n",
       "\n",
       "                                            Ingredients  Price  Oily  Dry  \\\n",
       "0     Aqua (Water), Glycolic Acid, Rosa Damascena Fl...   8.70     1    0   \n",
       "1     Aqua/Water/Eau, Solum Diatomeae/Diatomaceous E...  29.00     1    0   \n",
       "2     Water (Aqua), Sodium Laureth Sulfate, Cocamido...  40.00     1    0   \n",
       "3     Water/Aqua/Eau, Sodium Laureth Sulfate, Cocami...  39.00     1    0   \n",
       "4     Purified Water, Glycerin, Behentrimonium Metho...  13.49     1    0   \n",
       "...                                                 ...    ...   ...  ...   \n",
       "1291  Water, Stearic Acid, Glycerin, Lauric Acid, My...  10.00     0    0   \n",
       "1292  Aqua (Distilled Water), Hamamelis Virginiana (...  40.00     0    0   \n",
       "1293  Aqua/Water, Peg-7 Glyceryl Cocoate, Butylene G...  26.00     0    0   \n",
       "1294  Water, Glycerin, 1,2-Hexanediol, Niacinamide, ...   4.00     0    0   \n",
       "1295  Pouch 1: Aqua, Butylene Glycol, Glycerin, 1,2-...  16.00     0    0   \n",
       "\n",
       "      Normal  Combination  Sensitive  \n",
       "0          0            0          0  \n",
       "1          0            0          0  \n",
       "2          0            0          0  \n",
       "3          0            0          0  \n",
       "4          0            0          0  \n",
       "...      ...          ...        ...  \n",
       "1291       0            0          1  \n",
       "1292       0            0          1  \n",
       "1293       0            0          1  \n",
       "1294       0            0          1  \n",
       "1295       0            0          1  \n",
       "\n",
       "[8439 rows x 9 columns]"
      ],
      "text/html": "<div>\n<style scoped>\n    .dataframe tbody tr th:only-of-type {\n        vertical-align: middle;\n    }\n\n    .dataframe tbody tr th {\n        vertical-align: top;\n    }\n\n    .dataframe thead th {\n        text-align: right;\n    }\n</style>\n<table border=\"1\" class=\"dataframe\">\n  <thead>\n    <tr style=\"text-align: right;\">\n      <th></th>\n      <th>Product</th>\n      <th>Brand</th>\n      <th>Ingredients</th>\n      <th>Price</th>\n      <th>Oily</th>\n      <th>Dry</th>\n      <th>Normal</th>\n      <th>Combination</th>\n      <th>Sensitive</th>\n    </tr>\n  </thead>\n  <tbody>\n    <tr>\n      <th>0</th>\n      <td>Glycolic Acid 7% Toning Solution</td>\n      <td>The Ordinary</td>\n      <td>Aqua (Water), Glycolic Acid, Rosa Damascena Fl...</td>\n      <td>8.70</td>\n      <td>1</td>\n      <td>0</td>\n      <td>0</td>\n      <td>0</td>\n      <td>0</td>\n    </tr>\n    <tr>\n      <th>1</th>\n      <td>The Microdelivery Exfoliating Facial Wash</td>\n      <td>Philosophy</td>\n      <td>Aqua/Water/Eau, Solum Diatomeae/Diatomaceous E...</td>\n      <td>29.00</td>\n      <td>1</td>\n      <td>0</td>\n      <td>0</td>\n      <td>0</td>\n      <td>0</td>\n    </tr>\n    <tr>\n      <th>2</th>\n      <td>AHA/BHA Exfoliating Cleanser</td>\n      <td>Murad</td>\n      <td>Water (Aqua), Sodium Laureth Sulfate, Cocamido...</td>\n      <td>40.00</td>\n      <td>1</td>\n      <td>0</td>\n      <td>0</td>\n      <td>0</td>\n      <td>0</td>\n    </tr>\n    <tr>\n      <th>3</th>\n      <td>Anti-Aging Cleansing Gel</td>\n      <td>Peter Thomas Roth</td>\n      <td>Water/Aqua/Eau, Sodium Laureth Sulfate, Cocami...</td>\n      <td>39.00</td>\n      <td>1</td>\n      <td>0</td>\n      <td>0</td>\n      <td>0</td>\n      <td>0</td>\n    </tr>\n    <tr>\n      <th>4</th>\n      <td>Hydrating Facial Cleanser</td>\n      <td>CeraVe</td>\n      <td>Purified Water, Glycerin, Behentrimonium Metho...</td>\n      <td>13.49</td>\n      <td>1</td>\n      <td>0</td>\n      <td>0</td>\n      <td>0</td>\n      <td>0</td>\n    </tr>\n    <tr>\n      <th>...</th>\n      <td>...</td>\n      <td>...</td>\n      <td>...</td>\n      <td>...</td>\n      <td>...</td>\n      <td>...</td>\n      <td>...</td>\n      <td>...</td>\n      <td>...</td>\n    </tr>\n    <tr>\n      <th>1291</th>\n      <td>Labotica Aqua Tree Charcoal Pore Deep Cleansin...</td>\n      <td>Leaders</td>\n      <td>Water, Stearic Acid, Glycerin, Lauric Acid, My...</td>\n      <td>10.00</td>\n      <td>0</td>\n      <td>0</td>\n      <td>0</td>\n      <td>0</td>\n      <td>1</td>\n    </tr>\n    <tr>\n      <th>1292</th>\n      <td>Desert Mist</td>\n      <td>ARCONA</td>\n      <td>Aqua (Distilled Water), Hamamelis Virginiana (...</td>\n      <td>40.00</td>\n      <td>0</td>\n      <td>0</td>\n      <td>0</td>\n      <td>0</td>\n      <td>1</td>\n    </tr>\n    <tr>\n      <th>1293</th>\n      <td>Cleansing Micellar Water</td>\n      <td>Erborian</td>\n      <td>Aqua/Water, Peg-7 Glyceryl Cocoate, Butylene G...</td>\n      <td>26.00</td>\n      <td>0</td>\n      <td>0</td>\n      <td>0</td>\n      <td>0</td>\n      <td>1</td>\n    </tr>\n    <tr>\n      <th>1294</th>\n      <td>Water Beam Mask</td>\n      <td>DEARPACKER</td>\n      <td>Water, Glycerin, 1,2-Hexanediol, Niacinamide, ...</td>\n      <td>4.00</td>\n      <td>0</td>\n      <td>0</td>\n      <td>0</td>\n      <td>0</td>\n      <td>1</td>\n    </tr>\n    <tr>\n      <th>1295</th>\n      <td>Shaking Protein Hydrating Mask</td>\n      <td>DEARPACKER</td>\n      <td>Pouch 1: Aqua, Butylene Glycol, Glycerin, 1,2-...</td>\n      <td>16.00</td>\n      <td>0</td>\n      <td>0</td>\n      <td>0</td>\n      <td>0</td>\n      <td>1</td>\n    </tr>\n  </tbody>\n</table>\n<p>8439 rows × 9 columns</p>\n</div>"
     },
     "metadata": {},
     "execution_count": 36
    }
   ],
   "source": [
    "Master"
   ]
  },
  {
   "source": [
    "## Removing Duplicates and Product Sets\n",
    "\n",
    "Some products are suitable for more than one skin type. We will need to check which rows are duplicates, set them aside, and extract valuable information from them."
   ],
   "cell_type": "markdown",
   "metadata": {}
  },
  {
   "cell_type": "code",
   "execution_count": 62,
   "metadata": {},
   "outputs": [],
   "source": [
    "# Remove Duplicates\n",
    "duplicates_Master = Master.duplicated(subset = 'Product', keep = 'first')\n",
    "# create a dataframe for duplicates\n",
    "duplicates = Master[duplicates_Master]\n",
    "# create a dataframe for the new data\n",
    "df = Master[~duplicates_Master]"
   ]
  },
  {
   "cell_type": "code",
   "execution_count": 64,
   "metadata": {},
   "outputs": [
    {
     "output_type": "execute_result",
     "data": {
      "text/plain": [
       "                                                Product              Brand  \\\n",
       "0                      Glycolic Acid 7% Toning Solution       The Ordinary   \n",
       "1             The Microdelivery Exfoliating Facial Wash         Philosophy   \n",
       "2                          AHA/BHA Exfoliating Cleanser              Murad   \n",
       "3                              Anti-Aging Cleansing Gel  Peter Thomas Roth   \n",
       "4                             Hydrating Facial Cleanser             CeraVe   \n",
       "...                                                 ...                ...   \n",
       "1059                Instant Hydration Facial Sheet Mask   Andalou Naturals   \n",
       "1065                        Prep Cicaronic SOS Ampoules                SNP   \n",
       "1115                    Pro-Collagen Hydra-Gel Eye Mask             ELEMIS   \n",
       "1151  ADVANCED Ceramide Capsules Daily Youth Restori...    Elizabeth Arden   \n",
       "1163                    Calm + Restore Triple Oat Serum             Aveeno   \n",
       "\n",
       "                                            Ingredients  Price  Oily  Dry  \\\n",
       "0     Aqua (Water), Glycolic Acid, Rosa Damascena Fl...   8.70     1    0   \n",
       "1     Aqua/Water/Eau, Solum Diatomeae/Diatomaceous E...  29.00     1    0   \n",
       "2     Water (Aqua), Sodium Laureth Sulfate, Cocamido...  40.00     1    0   \n",
       "3     Water/Aqua/Eau, Sodium Laureth Sulfate, Cocami...  39.00     1    0   \n",
       "4     Purified Water, Glycerin, Behentrimonium Metho...  13.49     1    0   \n",
       "...                                                 ...    ...   ...  ...   \n",
       "1059  Aloe Barbadensis Leaf Juice*, Purified Water (...   4.99     0    0   \n",
       "1065  Water, Glycerin, Butylene Glycol, Glycereth-26...  16.00     0    0   \n",
       "1115  Aqua/Water/Eau, Glycerin, Ceratonia Siliqua Gu...  76.00     0    0   \n",
       "1151  Cyclopentasiloxane, Isononyl Isononanoate, Iso...  63.00     0    0   \n",
       "1163  Water, Glycerin, Butylene Glycol, Bis-PEG-18 M...  23.99     0    0   \n",
       "\n",
       "      Normal  Combination  Sensitive  \n",
       "0          0            0          0  \n",
       "1          0            0          0  \n",
       "2          0            0          0  \n",
       "3          0            0          0  \n",
       "4          0            0          0  \n",
       "...      ...          ...        ...  \n",
       "1059       0            0          1  \n",
       "1065       0            0          1  \n",
       "1115       0            0          1  \n",
       "1151       0            0          1  \n",
       "1163       0            0          1  \n",
       "\n",
       "[2041 rows x 9 columns]"
      ],
      "text/html": "<div>\n<style scoped>\n    .dataframe tbody tr th:only-of-type {\n        vertical-align: middle;\n    }\n\n    .dataframe tbody tr th {\n        vertical-align: top;\n    }\n\n    .dataframe thead th {\n        text-align: right;\n    }\n</style>\n<table border=\"1\" class=\"dataframe\">\n  <thead>\n    <tr style=\"text-align: right;\">\n      <th></th>\n      <th>Product</th>\n      <th>Brand</th>\n      <th>Ingredients</th>\n      <th>Price</th>\n      <th>Oily</th>\n      <th>Dry</th>\n      <th>Normal</th>\n      <th>Combination</th>\n      <th>Sensitive</th>\n    </tr>\n  </thead>\n  <tbody>\n    <tr>\n      <th>0</th>\n      <td>Glycolic Acid 7% Toning Solution</td>\n      <td>The Ordinary</td>\n      <td>Aqua (Water), Glycolic Acid, Rosa Damascena Fl...</td>\n      <td>8.70</td>\n      <td>1</td>\n      <td>0</td>\n      <td>0</td>\n      <td>0</td>\n      <td>0</td>\n    </tr>\n    <tr>\n      <th>1</th>\n      <td>The Microdelivery Exfoliating Facial Wash</td>\n      <td>Philosophy</td>\n      <td>Aqua/Water/Eau, Solum Diatomeae/Diatomaceous E...</td>\n      <td>29.00</td>\n      <td>1</td>\n      <td>0</td>\n      <td>0</td>\n      <td>0</td>\n      <td>0</td>\n    </tr>\n    <tr>\n      <th>2</th>\n      <td>AHA/BHA Exfoliating Cleanser</td>\n      <td>Murad</td>\n      <td>Water (Aqua), Sodium Laureth Sulfate, Cocamido...</td>\n      <td>40.00</td>\n      <td>1</td>\n      <td>0</td>\n      <td>0</td>\n      <td>0</td>\n      <td>0</td>\n    </tr>\n    <tr>\n      <th>3</th>\n      <td>Anti-Aging Cleansing Gel</td>\n      <td>Peter Thomas Roth</td>\n      <td>Water/Aqua/Eau, Sodium Laureth Sulfate, Cocami...</td>\n      <td>39.00</td>\n      <td>1</td>\n      <td>0</td>\n      <td>0</td>\n      <td>0</td>\n      <td>0</td>\n    </tr>\n    <tr>\n      <th>4</th>\n      <td>Hydrating Facial Cleanser</td>\n      <td>CeraVe</td>\n      <td>Purified Water, Glycerin, Behentrimonium Metho...</td>\n      <td>13.49</td>\n      <td>1</td>\n      <td>0</td>\n      <td>0</td>\n      <td>0</td>\n      <td>0</td>\n    </tr>\n    <tr>\n      <th>...</th>\n      <td>...</td>\n      <td>...</td>\n      <td>...</td>\n      <td>...</td>\n      <td>...</td>\n      <td>...</td>\n      <td>...</td>\n      <td>...</td>\n      <td>...</td>\n    </tr>\n    <tr>\n      <th>1059</th>\n      <td>Instant Hydration Facial Sheet Mask</td>\n      <td>Andalou Naturals</td>\n      <td>Aloe Barbadensis Leaf Juice*, Purified Water (...</td>\n      <td>4.99</td>\n      <td>0</td>\n      <td>0</td>\n      <td>0</td>\n      <td>0</td>\n      <td>1</td>\n    </tr>\n    <tr>\n      <th>1065</th>\n      <td>Prep Cicaronic SOS Ampoules</td>\n      <td>SNP</td>\n      <td>Water, Glycerin, Butylene Glycol, Glycereth-26...</td>\n      <td>16.00</td>\n      <td>0</td>\n      <td>0</td>\n      <td>0</td>\n      <td>0</td>\n      <td>1</td>\n    </tr>\n    <tr>\n      <th>1115</th>\n      <td>Pro-Collagen Hydra-Gel Eye Mask</td>\n      <td>ELEMIS</td>\n      <td>Aqua/Water/Eau, Glycerin, Ceratonia Siliqua Gu...</td>\n      <td>76.00</td>\n      <td>0</td>\n      <td>0</td>\n      <td>0</td>\n      <td>0</td>\n      <td>1</td>\n    </tr>\n    <tr>\n      <th>1151</th>\n      <td>ADVANCED Ceramide Capsules Daily Youth Restori...</td>\n      <td>Elizabeth Arden</td>\n      <td>Cyclopentasiloxane, Isononyl Isononanoate, Iso...</td>\n      <td>63.00</td>\n      <td>0</td>\n      <td>0</td>\n      <td>0</td>\n      <td>0</td>\n      <td>1</td>\n    </tr>\n    <tr>\n      <th>1163</th>\n      <td>Calm + Restore Triple Oat Serum</td>\n      <td>Aveeno</td>\n      <td>Water, Glycerin, Butylene Glycol, Bis-PEG-18 M...</td>\n      <td>23.99</td>\n      <td>0</td>\n      <td>0</td>\n      <td>0</td>\n      <td>0</td>\n      <td>1</td>\n    </tr>\n  </tbody>\n</table>\n<p>2041 rows × 9 columns</p>\n</div>"
     },
     "metadata": {},
     "execution_count": 64
    }
   ],
   "source": [
    "# take a look at df to make sure everything checks out\n",
    "df"
   ]
  },
  {
   "source": [
    "#### Properly copy the one-hot encoding for skin types from the Duplicates dataframe to df. The result should be a dataframe with products that have 1's in more than one skin type column. "
   ],
   "cell_type": "markdown",
   "metadata": {}
  },
  {
   "cell_type": "code",
   "execution_count": 81,
   "metadata": {},
   "outputs": [],
   "source": [
    "for i in range(len(duplicates)):\n",
    "\n",
    "    ## check if product is also suitable for Oily skin types \n",
    "    if (duplicates.iloc[i][4] == 1):\n",
    "        prod = duplicates.iloc[i][0]\n",
    "        df.loc[df['Product'] == prod,['Oily']] = 1\n",
    "        \n",
    "    ## check if product is also suitable for Dry skin types \n",
    "    elif (duplicates.iloc[i][5] == 1):\n",
    "        prod = duplicates.iloc[i][0]\n",
    "        df.loc[df[\"Product\"] == prod, ['Dry']] == 1\n",
    "    \n",
    "    ## check if product is also suitable for Normal skin types \n",
    "    elif (duplicates.iloc[i][6] == 1):\n",
    "        prod = duplicates.iloc[i][0]\n",
    "        df.loc[df['Product'] == prod,['Normal']] = 1\n",
    "\n",
    "    ## check if product is also suitable for Combination skin types \n",
    "    elif (duplicates.iloc[i][7] == 1):\n",
    "        prod = duplicates.iloc[i][0]\n",
    "        df.loc[df[\"Product\"] == prod, ['Combination']] == 1\n",
    "    \n",
    "    ## check if product is also suitable for Sensitive skin types \n",
    "    elif (duplicates.iloc[i][8] == 1):\n",
    "        prod = duplicates.iloc[i][0]\n",
    "        df.loc[df[\"Product\"] == prod, ['Sensitive']] == 1"
   ]
  },
  {
   "cell_type": "code",
   "execution_count": 88,
   "metadata": {},
   "outputs": [
    {
     "output_type": "execute_result",
     "data": {
      "text/plain": [
       "                                       Product              Brand  \\\n",
       "0             Glycolic Acid 7% Toning Solution       The Ordinary   \n",
       "1    The Microdelivery Exfoliating Facial Wash         Philosophy   \n",
       "2                 AHA/BHA Exfoliating Cleanser              Murad   \n",
       "3                     Anti-Aging Cleansing Gel  Peter Thomas Roth   \n",
       "4                    Hydrating Facial Cleanser             CeraVe   \n",
       "5                         Essential-C Cleanser              Murad   \n",
       "6                            Squalane Cleanser       The Ordinary   \n",
       "7  Purity Made Simple One-Step Facial Cleanser         Philosophy   \n",
       "8            Power Calm Hydrating Gel Cleanser       PEACH & LILY   \n",
       "9                           Daily Microfoliant        Dermalogica   \n",
       "\n",
       "                                         Ingredients  Price  Oily  Dry  \\\n",
       "0  Aqua (Water), Glycolic Acid, Rosa Damascena Fl...   8.70     1    0   \n",
       "1  Aqua/Water/Eau, Solum Diatomeae/Diatomaceous E...  29.00     1    0   \n",
       "2  Water (Aqua), Sodium Laureth Sulfate, Cocamido...  40.00     1    0   \n",
       "3  Water/Aqua/Eau, Sodium Laureth Sulfate, Cocami...  39.00     1    0   \n",
       "4  Purified Water, Glycerin, Behentrimonium Metho...  13.49     1    0   \n",
       "5  Water (Aqua), Cocamidopropyl Betaine, Disodium...  40.00     1    0   \n",
       "6  Squalane, Aqua (Water), Coco-caprylate/caprate...   7.90     1    0   \n",
       "7  Aqua/Water/Eau, Sodium Lauroamphoacetate, Sodi...  25.00     1    0   \n",
       "8  DI Water, Glycerin, Sorbitol, Coco-Glucoside, ...  28.00     1    0   \n",
       "9  Microcrystalline Cellulose, Magnesium Oxide, S...  59.00     1    0   \n",
       "\n",
       "   Normal  Combination  Sensitive  \n",
       "0       1            0          0  \n",
       "1       1            0          0  \n",
       "2       1            0          0  \n",
       "3       1            0          0  \n",
       "4       1            0          0  \n",
       "5       1            0          0  \n",
       "6       1            0          0  \n",
       "7       1            0          0  \n",
       "8       1            0          0  \n",
       "9       1            0          0  "
      ],
      "text/html": "<div>\n<style scoped>\n    .dataframe tbody tr th:only-of-type {\n        vertical-align: middle;\n    }\n\n    .dataframe tbody tr th {\n        vertical-align: top;\n    }\n\n    .dataframe thead th {\n        text-align: right;\n    }\n</style>\n<table border=\"1\" class=\"dataframe\">\n  <thead>\n    <tr style=\"text-align: right;\">\n      <th></th>\n      <th>Product</th>\n      <th>Brand</th>\n      <th>Ingredients</th>\n      <th>Price</th>\n      <th>Oily</th>\n      <th>Dry</th>\n      <th>Normal</th>\n      <th>Combination</th>\n      <th>Sensitive</th>\n    </tr>\n  </thead>\n  <tbody>\n    <tr>\n      <th>0</th>\n      <td>Glycolic Acid 7% Toning Solution</td>\n      <td>The Ordinary</td>\n      <td>Aqua (Water), Glycolic Acid, Rosa Damascena Fl...</td>\n      <td>8.70</td>\n      <td>1</td>\n      <td>0</td>\n      <td>1</td>\n      <td>0</td>\n      <td>0</td>\n    </tr>\n    <tr>\n      <th>1</th>\n      <td>The Microdelivery Exfoliating Facial Wash</td>\n      <td>Philosophy</td>\n      <td>Aqua/Water/Eau, Solum Diatomeae/Diatomaceous E...</td>\n      <td>29.00</td>\n      <td>1</td>\n      <td>0</td>\n      <td>1</td>\n      <td>0</td>\n      <td>0</td>\n    </tr>\n    <tr>\n      <th>2</th>\n      <td>AHA/BHA Exfoliating Cleanser</td>\n      <td>Murad</td>\n      <td>Water (Aqua), Sodium Laureth Sulfate, Cocamido...</td>\n      <td>40.00</td>\n      <td>1</td>\n      <td>0</td>\n      <td>1</td>\n      <td>0</td>\n      <td>0</td>\n    </tr>\n    <tr>\n      <th>3</th>\n      <td>Anti-Aging Cleansing Gel</td>\n      <td>Peter Thomas Roth</td>\n      <td>Water/Aqua/Eau, Sodium Laureth Sulfate, Cocami...</td>\n      <td>39.00</td>\n      <td>1</td>\n      <td>0</td>\n      <td>1</td>\n      <td>0</td>\n      <td>0</td>\n    </tr>\n    <tr>\n      <th>4</th>\n      <td>Hydrating Facial Cleanser</td>\n      <td>CeraVe</td>\n      <td>Purified Water, Glycerin, Behentrimonium Metho...</td>\n      <td>13.49</td>\n      <td>1</td>\n      <td>0</td>\n      <td>1</td>\n      <td>0</td>\n      <td>0</td>\n    </tr>\n    <tr>\n      <th>5</th>\n      <td>Essential-C Cleanser</td>\n      <td>Murad</td>\n      <td>Water (Aqua), Cocamidopropyl Betaine, Disodium...</td>\n      <td>40.00</td>\n      <td>1</td>\n      <td>0</td>\n      <td>1</td>\n      <td>0</td>\n      <td>0</td>\n    </tr>\n    <tr>\n      <th>6</th>\n      <td>Squalane Cleanser</td>\n      <td>The Ordinary</td>\n      <td>Squalane, Aqua (Water), Coco-caprylate/caprate...</td>\n      <td>7.90</td>\n      <td>1</td>\n      <td>0</td>\n      <td>1</td>\n      <td>0</td>\n      <td>0</td>\n    </tr>\n    <tr>\n      <th>7</th>\n      <td>Purity Made Simple One-Step Facial Cleanser</td>\n      <td>Philosophy</td>\n      <td>Aqua/Water/Eau, Sodium Lauroamphoacetate, Sodi...</td>\n      <td>25.00</td>\n      <td>1</td>\n      <td>0</td>\n      <td>1</td>\n      <td>0</td>\n      <td>0</td>\n    </tr>\n    <tr>\n      <th>8</th>\n      <td>Power Calm Hydrating Gel Cleanser</td>\n      <td>PEACH &amp; LILY</td>\n      <td>DI Water, Glycerin, Sorbitol, Coco-Glucoside, ...</td>\n      <td>28.00</td>\n      <td>1</td>\n      <td>0</td>\n      <td>1</td>\n      <td>0</td>\n      <td>0</td>\n    </tr>\n    <tr>\n      <th>9</th>\n      <td>Daily Microfoliant</td>\n      <td>Dermalogica</td>\n      <td>Microcrystalline Cellulose, Magnesium Oxide, S...</td>\n      <td>59.00</td>\n      <td>1</td>\n      <td>0</td>\n      <td>1</td>\n      <td>0</td>\n      <td>0</td>\n    </tr>\n  </tbody>\n</table>\n</div>"
     },
     "metadata": {},
     "execution_count": 88
    }
   ],
   "source": [
    "# examine df \n",
    "df.head(10)"
   ]
  },
  {
   "cell_type": "code",
   "execution_count": 90,
   "metadata": {},
   "outputs": [],
   "source": [
    "# save dataframe as Master\n",
    "df.to_csv('Master.csv', index= False)"
   ]
  },
  {
   "cell_type": "code",
   "execution_count": null,
   "metadata": {},
   "outputs": [],
   "source": []
  }
 ]
}