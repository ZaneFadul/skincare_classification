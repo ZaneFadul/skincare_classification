{
 "metadata": {
  "language_info": {
   "codemirror_mode": {
    "name": "ipython",
    "version": 3
   },
   "file_extension": ".py",
   "mimetype": "text/x-python",
   "name": "python",
   "nbconvert_exporter": "python",
   "pygments_lexer": "ipython3",
   "version": "3.8.3-final"
  },
  "orig_nbformat": 2,
  "kernelspec": {
   "name": "Python 3.8.3 64-bit ('anaconda3': virtualenv)",
   "display_name": "Python 3.8.3 64-bit ('anaconda3': virtualenv)",
   "metadata": {
    "interpreter": {
     "hash": "344443636c3027c5042750c9c609acdda283a9c43681b128a8c1053e7ad2aa7d"
    }
   }
  }
 },
 "nbformat": 4,
 "nbformat_minor": 2,
 "cells": [
  {
   "cell_type": "code",
   "execution_count": 3,
   "metadata": {},
   "outputs": [],
   "source": [
    "import numpy as np \n",
    "import pandas as pd\n",
    "import csv \n",
    "%matplotlib inline\n",
    "import seaborn as sns\n",
    "import matplotlib.pyplot as plt\n",
    "\n",
    "import os \n",
    "os.chdir(\"/Users/susanchen/Documents/GitHub/skincare_classification/Data_sets\")"
   ]
  },
  {
   "source": [
    "## 1.0 Load the 5 data files "
   ],
   "cell_type": "markdown",
   "metadata": {}
  },
  {
   "cell_type": "code",
   "execution_count": 74,
   "metadata": {},
   "outputs": [],
   "source": [
    "oily = pd.read_csv(\"Oily.csv\")\n",
    "dry = pd.read_csv('Dry.csv')\n",
    "norm = pd.read_csv('Normal.csv')\n",
    "combo = pd.read_csv('Combination.csv')\n",
    "sen = pd.read_csv(\"Sensitive.csv\")"
   ]
  },
  {
   "source": [
    "## 1.1 For each data set, create a \"Skin Type\" column containing the suitable skin type informatiom. "
   ],
   "cell_type": "markdown",
   "metadata": {}
  },
  {
   "cell_type": "code",
   "execution_count": 75,
   "metadata": {},
   "outputs": [],
   "source": [
    "sen[\"Skin Type\"] = 'Sensitive'\n",
    "oily[\"Skin Type\"] = 'Oily'\n",
    "norm[\"Skin Type\"] = 'Normal'\n",
    "dry[\"Skin Type\"] = 'Dry'\n",
    "combo[\"Skin Type\"] = 'Combination'"
   ]
  },
  {
   "source": [
    "### Take a look at one of the datasets"
   ],
   "cell_type": "markdown",
   "metadata": {}
  },
  {
   "cell_type": "code",
   "execution_count": 76,
   "metadata": {},
   "outputs": [
    {
     "output_type": "execute_result",
     "data": {
      "text/plain": [
       "                                        Product             Brand  \\\n",
       "0              Glycolic Acid 7% Toning Solution      The Ordinary   \n",
       "1                                 Face Cleanser  First Aid Beauty   \n",
       "2     The Microdelivery Exfoliating Facial Wash        Philosophy   \n",
       "3                  AHA/BHA Exfoliating Cleanser             Murad   \n",
       "4                       Foaming Facial Cleanser            CeraVe   \n",
       "...                                         ...               ...   \n",
       "1877                         Velvet Blur Primer               VDL   \n",
       "1878                   Cleansing Micellar Water          Erborian   \n",
       "1879                            Water Beam Mask        DEARPACKER   \n",
       "1880                   Hi Bye Vita-Peel Essence         Banila Co   \n",
       "1881             Shaking Protein Hydrating Mask        DEARPACKER   \n",
       "\n",
       "                                            Ingredients  Price Skin Type  \n",
       "0     Aqua (Water), Glycolic Acid, Rosa Damascena Fl...   8.70    Normal  \n",
       "1     Water/Aqua/Eau, Sodium Cocoyl Isethionate, Gly...  21.00    Normal  \n",
       "2     Aqua/Water/Eau, Solum Diatomeae/Diatomaceous E...  29.00    Normal  \n",
       "3     Water (Aqua), Sodium Laureth Sulfate, Cocamido...  40.00    Normal  \n",
       "4     Purified Water, Glycerin, Behentrimonium Metho...  14.99    Normal  \n",
       "...                                                 ...    ...       ...  \n",
       "1877                                                NaN  32.00    Normal  \n",
       "1878  Aqua/Water, Peg-7 Glyceryl Cocoate, Butylene G...  26.00    Normal  \n",
       "1879  Water, Glycerin, 1,2-Hexanediol, Niacinamide, ...   4.00    Normal  \n",
       "1880  Water, Butylene Glycol, Glycerin, Dipropylene ...  24.00    Normal  \n",
       "1881  Pouch 1: Aqua, Butylene Glycol, Glycerin, 1,2-...  16.00    Normal  \n",
       "\n",
       "[1882 rows x 5 columns]"
      ],
      "text/html": "<div>\n<style scoped>\n    .dataframe tbody tr th:only-of-type {\n        vertical-align: middle;\n    }\n\n    .dataframe tbody tr th {\n        vertical-align: top;\n    }\n\n    .dataframe thead th {\n        text-align: right;\n    }\n</style>\n<table border=\"1\" class=\"dataframe\">\n  <thead>\n    <tr style=\"text-align: right;\">\n      <th></th>\n      <th>Product</th>\n      <th>Brand</th>\n      <th>Ingredients</th>\n      <th>Price</th>\n      <th>Skin Type</th>\n    </tr>\n  </thead>\n  <tbody>\n    <tr>\n      <th>0</th>\n      <td>Glycolic Acid 7% Toning Solution</td>\n      <td>The Ordinary</td>\n      <td>Aqua (Water), Glycolic Acid, Rosa Damascena Fl...</td>\n      <td>8.70</td>\n      <td>Normal</td>\n    </tr>\n    <tr>\n      <th>1</th>\n      <td>Face Cleanser</td>\n      <td>First Aid Beauty</td>\n      <td>Water/Aqua/Eau, Sodium Cocoyl Isethionate, Gly...</td>\n      <td>21.00</td>\n      <td>Normal</td>\n    </tr>\n    <tr>\n      <th>2</th>\n      <td>The Microdelivery Exfoliating Facial Wash</td>\n      <td>Philosophy</td>\n      <td>Aqua/Water/Eau, Solum Diatomeae/Diatomaceous E...</td>\n      <td>29.00</td>\n      <td>Normal</td>\n    </tr>\n    <tr>\n      <th>3</th>\n      <td>AHA/BHA Exfoliating Cleanser</td>\n      <td>Murad</td>\n      <td>Water (Aqua), Sodium Laureth Sulfate, Cocamido...</td>\n      <td>40.00</td>\n      <td>Normal</td>\n    </tr>\n    <tr>\n      <th>4</th>\n      <td>Foaming Facial Cleanser</td>\n      <td>CeraVe</td>\n      <td>Purified Water, Glycerin, Behentrimonium Metho...</td>\n      <td>14.99</td>\n      <td>Normal</td>\n    </tr>\n    <tr>\n      <th>...</th>\n      <td>...</td>\n      <td>...</td>\n      <td>...</td>\n      <td>...</td>\n      <td>...</td>\n    </tr>\n    <tr>\n      <th>1877</th>\n      <td>Velvet Blur Primer</td>\n      <td>VDL</td>\n      <td>NaN</td>\n      <td>32.00</td>\n      <td>Normal</td>\n    </tr>\n    <tr>\n      <th>1878</th>\n      <td>Cleansing Micellar Water</td>\n      <td>Erborian</td>\n      <td>Aqua/Water, Peg-7 Glyceryl Cocoate, Butylene G...</td>\n      <td>26.00</td>\n      <td>Normal</td>\n    </tr>\n    <tr>\n      <th>1879</th>\n      <td>Water Beam Mask</td>\n      <td>DEARPACKER</td>\n      <td>Water, Glycerin, 1,2-Hexanediol, Niacinamide, ...</td>\n      <td>4.00</td>\n      <td>Normal</td>\n    </tr>\n    <tr>\n      <th>1880</th>\n      <td>Hi Bye Vita-Peel Essence</td>\n      <td>Banila Co</td>\n      <td>Water, Butylene Glycol, Glycerin, Dipropylene ...</td>\n      <td>24.00</td>\n      <td>Normal</td>\n    </tr>\n    <tr>\n      <th>1881</th>\n      <td>Shaking Protein Hydrating Mask</td>\n      <td>DEARPACKER</td>\n      <td>Pouch 1: Aqua, Butylene Glycol, Glycerin, 1,2-...</td>\n      <td>16.00</td>\n      <td>Normal</td>\n    </tr>\n  </tbody>\n</table>\n<p>1882 rows × 5 columns</p>\n</div>"
     },
     "metadata": {},
     "execution_count": 76
    }
   ],
   "source": [
    "norm\n"
   ]
  },
  {
   "source": [
    "## 1.2 Merge the five dataframes into one."
   ],
   "cell_type": "markdown",
   "metadata": {}
  },
  {
   "cell_type": "code",
   "execution_count": 9,
   "metadata": {},
   "outputs": [],
   "source": [
    "frames= [oily, dry, norm, combo, sen]\n",
    "Master = pd.concat(frames)"
   ]
  },
  {
   "cell_type": "code",
   "execution_count": 10,
   "metadata": {},
   "outputs": [
    {
     "output_type": "execute_result",
     "data": {
      "text/plain": [
       "                                                Product              Brand  \\\n",
       "0                      Glycolic Acid 7% Toning Solution       The Ordinary   \n",
       "1             The Microdelivery Exfoliating Facial Wash         Philosophy   \n",
       "2                          AHA/BHA Exfoliating Cleanser              Murad   \n",
       "3                              Anti-Aging Cleansing Gel  Peter Thomas Roth   \n",
       "4                             Hydrating Facial Cleanser             CeraVe   \n",
       "...                                                 ...                ...   \n",
       "1291  Labotica Aqua Tree Charcoal Pore Deep Cleansin...            Leaders   \n",
       "1292                                        Desert Mist             ARCONA   \n",
       "1293                           Cleansing Micellar Water           Erborian   \n",
       "1294                                    Water Beam Mask         DEARPACKER   \n",
       "1295                     Shaking Protein Hydrating Mask         DEARPACKER   \n",
       "\n",
       "                                            Ingredients  Price  Skin Type  \n",
       "0     Aqua (Water), Glycolic Acid, Rosa Damascena Fl...   8.70       Oily  \n",
       "1     Aqua/Water/Eau, Solum Diatomeae/Diatomaceous E...  29.00       Oily  \n",
       "2     Water (Aqua), Sodium Laureth Sulfate, Cocamido...  40.00       Oily  \n",
       "3     Water/Aqua/Eau, Sodium Laureth Sulfate, Cocami...  39.00       Oily  \n",
       "4     Purified Water, Glycerin, Behentrimonium Metho...  13.49       Oily  \n",
       "...                                                 ...    ...        ...  \n",
       "1291  Water, Stearic Acid, Glycerin, Lauric Acid, My...  10.00  Sensitive  \n",
       "1292  Aqua (Distilled Water), Hamamelis Virginiana (...  40.00  Sensitive  \n",
       "1293  Aqua/Water, Peg-7 Glyceryl Cocoate, Butylene G...  26.00  Sensitive  \n",
       "1294  Water, Glycerin, 1,2-Hexanediol, Niacinamide, ...   4.00  Sensitive  \n",
       "1295  Pouch 1: Aqua, Butylene Glycol, Glycerin, 1,2-...  16.00  Sensitive  \n",
       "\n",
       "[8439 rows x 5 columns]"
      ],
      "text/html": "<div>\n<style scoped>\n    .dataframe tbody tr th:only-of-type {\n        vertical-align: middle;\n    }\n\n    .dataframe tbody tr th {\n        vertical-align: top;\n    }\n\n    .dataframe thead th {\n        text-align: right;\n    }\n</style>\n<table border=\"1\" class=\"dataframe\">\n  <thead>\n    <tr style=\"text-align: right;\">\n      <th></th>\n      <th>Product</th>\n      <th>Brand</th>\n      <th>Ingredients</th>\n      <th>Price</th>\n      <th>Skin Type</th>\n    </tr>\n  </thead>\n  <tbody>\n    <tr>\n      <th>0</th>\n      <td>Glycolic Acid 7% Toning Solution</td>\n      <td>The Ordinary</td>\n      <td>Aqua (Water), Glycolic Acid, Rosa Damascena Fl...</td>\n      <td>8.70</td>\n      <td>Oily</td>\n    </tr>\n    <tr>\n      <th>1</th>\n      <td>The Microdelivery Exfoliating Facial Wash</td>\n      <td>Philosophy</td>\n      <td>Aqua/Water/Eau, Solum Diatomeae/Diatomaceous E...</td>\n      <td>29.00</td>\n      <td>Oily</td>\n    </tr>\n    <tr>\n      <th>2</th>\n      <td>AHA/BHA Exfoliating Cleanser</td>\n      <td>Murad</td>\n      <td>Water (Aqua), Sodium Laureth Sulfate, Cocamido...</td>\n      <td>40.00</td>\n      <td>Oily</td>\n    </tr>\n    <tr>\n      <th>3</th>\n      <td>Anti-Aging Cleansing Gel</td>\n      <td>Peter Thomas Roth</td>\n      <td>Water/Aqua/Eau, Sodium Laureth Sulfate, Cocami...</td>\n      <td>39.00</td>\n      <td>Oily</td>\n    </tr>\n    <tr>\n      <th>4</th>\n      <td>Hydrating Facial Cleanser</td>\n      <td>CeraVe</td>\n      <td>Purified Water, Glycerin, Behentrimonium Metho...</td>\n      <td>13.49</td>\n      <td>Oily</td>\n    </tr>\n    <tr>\n      <th>...</th>\n      <td>...</td>\n      <td>...</td>\n      <td>...</td>\n      <td>...</td>\n      <td>...</td>\n    </tr>\n    <tr>\n      <th>1291</th>\n      <td>Labotica Aqua Tree Charcoal Pore Deep Cleansin...</td>\n      <td>Leaders</td>\n      <td>Water, Stearic Acid, Glycerin, Lauric Acid, My...</td>\n      <td>10.00</td>\n      <td>Sensitive</td>\n    </tr>\n    <tr>\n      <th>1292</th>\n      <td>Desert Mist</td>\n      <td>ARCONA</td>\n      <td>Aqua (Distilled Water), Hamamelis Virginiana (...</td>\n      <td>40.00</td>\n      <td>Sensitive</td>\n    </tr>\n    <tr>\n      <th>1293</th>\n      <td>Cleansing Micellar Water</td>\n      <td>Erborian</td>\n      <td>Aqua/Water, Peg-7 Glyceryl Cocoate, Butylene G...</td>\n      <td>26.00</td>\n      <td>Sensitive</td>\n    </tr>\n    <tr>\n      <th>1294</th>\n      <td>Water Beam Mask</td>\n      <td>DEARPACKER</td>\n      <td>Water, Glycerin, 1,2-Hexanediol, Niacinamide, ...</td>\n      <td>4.00</td>\n      <td>Sensitive</td>\n    </tr>\n    <tr>\n      <th>1295</th>\n      <td>Shaking Protein Hydrating Mask</td>\n      <td>DEARPACKER</td>\n      <td>Pouch 1: Aqua, Butylene Glycol, Glycerin, 1,2-...</td>\n      <td>16.00</td>\n      <td>Sensitive</td>\n    </tr>\n  </tbody>\n</table>\n<p>8439 rows × 5 columns</p>\n</div>"
     },
     "metadata": {},
     "execution_count": 10
    }
   ],
   "source": [
    "Master"
   ]
  },
  {
   "source": [
    "## 1.3  Create 5 skin type dummy columns\n",
    "### Turn the Skin Type column into 5 dummy columns (Oily, Dry, Normal, and Combination) to represent what skin type the product is suitable for. A value of 1 represents suitability, i.e. 1 in the Dry column means the product suits dry skin types. "
   ],
   "cell_type": "markdown",
   "metadata": {}
  },
  {
   "cell_type": "code",
   "execution_count": 79,
   "metadata": {},
   "outputs": [],
   "source": [
    "skin_type = pd.get_dummies(Master[\"Skin Type\"])\n",
    "Master[skin_type.columns]   = skin_type\n",
    "#Master.drop(columns=[\"DayOfWeek\"],inplace=True)"
   ]
  },
  {
   "cell_type": "code",
   "execution_count": 81,
   "metadata": {},
   "outputs": [
    {
     "output_type": "execute_result",
     "data": {
      "text/plain": [
       "                                                Product              Brand  \\\n",
       "0                      Glycolic Acid 7% Toning Solution       The Ordinary   \n",
       "1             The Microdelivery Exfoliating Facial Wash         Philosophy   \n",
       "2                          AHA/BHA Exfoliating Cleanser              Murad   \n",
       "3                              Anti-Aging Cleansing Gel  Peter Thomas Roth   \n",
       "4                             Hydrating Facial Cleanser             CeraVe   \n",
       "...                                                 ...                ...   \n",
       "1291  Labotica Aqua Tree Charcoal Pore Deep Cleansin...            Leaders   \n",
       "1292                                        Desert Mist             ARCONA   \n",
       "1293                           Cleansing Micellar Water           Erborian   \n",
       "1294                                    Water Beam Mask         DEARPACKER   \n",
       "1295                     Shaking Protein Hydrating Mask         DEARPACKER   \n",
       "\n",
       "                                            Ingredients  Price  Skin Type  \\\n",
       "0     Aqua (Water), Glycolic Acid, Rosa Damascena Fl...   8.70       Oily   \n",
       "1     Aqua/Water/Eau, Solum Diatomeae/Diatomaceous E...  29.00       Oily   \n",
       "2     Water (Aqua), Sodium Laureth Sulfate, Cocamido...  40.00       Oily   \n",
       "3     Water/Aqua/Eau, Sodium Laureth Sulfate, Cocami...  39.00       Oily   \n",
       "4     Purified Water, Glycerin, Behentrimonium Metho...  13.49       Oily   \n",
       "...                                                 ...    ...        ...   \n",
       "1291  Water, Stearic Acid, Glycerin, Lauric Acid, My...  10.00  Sensitive   \n",
       "1292  Aqua (Distilled Water), Hamamelis Virginiana (...  40.00  Sensitive   \n",
       "1293  Aqua/Water, Peg-7 Glyceryl Cocoate, Butylene G...  26.00  Sensitive   \n",
       "1294  Water, Glycerin, 1,2-Hexanediol, Niacinamide, ...   4.00  Sensitive   \n",
       "1295  Pouch 1: Aqua, Butylene Glycol, Glycerin, 1,2-...  16.00  Sensitive   \n",
       "\n",
       "      Combination  Dry  Normal  Oily  Sensitive  \n",
       "0               0    0       0     1          0  \n",
       "1               0    0       0     1          0  \n",
       "2               0    0       0     1          0  \n",
       "3               0    0       0     1          0  \n",
       "4               0    0       0     1          0  \n",
       "...           ...  ...     ...   ...        ...  \n",
       "1291            0    0       0     0          1  \n",
       "1292            0    0       0     0          1  \n",
       "1293            0    0       0     0          1  \n",
       "1294            0    0       0     0          1  \n",
       "1295            0    0       0     0          1  \n",
       "\n",
       "[8439 rows x 10 columns]"
      ],
      "text/html": "<div>\n<style scoped>\n    .dataframe tbody tr th:only-of-type {\n        vertical-align: middle;\n    }\n\n    .dataframe tbody tr th {\n        vertical-align: top;\n    }\n\n    .dataframe thead th {\n        text-align: right;\n    }\n</style>\n<table border=\"1\" class=\"dataframe\">\n  <thead>\n    <tr style=\"text-align: right;\">\n      <th></th>\n      <th>Product</th>\n      <th>Brand</th>\n      <th>Ingredients</th>\n      <th>Price</th>\n      <th>Skin Type</th>\n      <th>Combination</th>\n      <th>Dry</th>\n      <th>Normal</th>\n      <th>Oily</th>\n      <th>Sensitive</th>\n    </tr>\n  </thead>\n  <tbody>\n    <tr>\n      <th>0</th>\n      <td>Glycolic Acid 7% Toning Solution</td>\n      <td>The Ordinary</td>\n      <td>Aqua (Water), Glycolic Acid, Rosa Damascena Fl...</td>\n      <td>8.70</td>\n      <td>Oily</td>\n      <td>0</td>\n      <td>0</td>\n      <td>0</td>\n      <td>1</td>\n      <td>0</td>\n    </tr>\n    <tr>\n      <th>1</th>\n      <td>The Microdelivery Exfoliating Facial Wash</td>\n      <td>Philosophy</td>\n      <td>Aqua/Water/Eau, Solum Diatomeae/Diatomaceous E...</td>\n      <td>29.00</td>\n      <td>Oily</td>\n      <td>0</td>\n      <td>0</td>\n      <td>0</td>\n      <td>1</td>\n      <td>0</td>\n    </tr>\n    <tr>\n      <th>2</th>\n      <td>AHA/BHA Exfoliating Cleanser</td>\n      <td>Murad</td>\n      <td>Water (Aqua), Sodium Laureth Sulfate, Cocamido...</td>\n      <td>40.00</td>\n      <td>Oily</td>\n      <td>0</td>\n      <td>0</td>\n      <td>0</td>\n      <td>1</td>\n      <td>0</td>\n    </tr>\n    <tr>\n      <th>3</th>\n      <td>Anti-Aging Cleansing Gel</td>\n      <td>Peter Thomas Roth</td>\n      <td>Water/Aqua/Eau, Sodium Laureth Sulfate, Cocami...</td>\n      <td>39.00</td>\n      <td>Oily</td>\n      <td>0</td>\n      <td>0</td>\n      <td>0</td>\n      <td>1</td>\n      <td>0</td>\n    </tr>\n    <tr>\n      <th>4</th>\n      <td>Hydrating Facial Cleanser</td>\n      <td>CeraVe</td>\n      <td>Purified Water, Glycerin, Behentrimonium Metho...</td>\n      <td>13.49</td>\n      <td>Oily</td>\n      <td>0</td>\n      <td>0</td>\n      <td>0</td>\n      <td>1</td>\n      <td>0</td>\n    </tr>\n    <tr>\n      <th>...</th>\n      <td>...</td>\n      <td>...</td>\n      <td>...</td>\n      <td>...</td>\n      <td>...</td>\n      <td>...</td>\n      <td>...</td>\n      <td>...</td>\n      <td>...</td>\n      <td>...</td>\n    </tr>\n    <tr>\n      <th>1291</th>\n      <td>Labotica Aqua Tree Charcoal Pore Deep Cleansin...</td>\n      <td>Leaders</td>\n      <td>Water, Stearic Acid, Glycerin, Lauric Acid, My...</td>\n      <td>10.00</td>\n      <td>Sensitive</td>\n      <td>0</td>\n      <td>0</td>\n      <td>0</td>\n      <td>0</td>\n      <td>1</td>\n    </tr>\n    <tr>\n      <th>1292</th>\n      <td>Desert Mist</td>\n      <td>ARCONA</td>\n      <td>Aqua (Distilled Water), Hamamelis Virginiana (...</td>\n      <td>40.00</td>\n      <td>Sensitive</td>\n      <td>0</td>\n      <td>0</td>\n      <td>0</td>\n      <td>0</td>\n      <td>1</td>\n    </tr>\n    <tr>\n      <th>1293</th>\n      <td>Cleansing Micellar Water</td>\n      <td>Erborian</td>\n      <td>Aqua/Water, Peg-7 Glyceryl Cocoate, Butylene G...</td>\n      <td>26.00</td>\n      <td>Sensitive</td>\n      <td>0</td>\n      <td>0</td>\n      <td>0</td>\n      <td>0</td>\n      <td>1</td>\n    </tr>\n    <tr>\n      <th>1294</th>\n      <td>Water Beam Mask</td>\n      <td>DEARPACKER</td>\n      <td>Water, Glycerin, 1,2-Hexanediol, Niacinamide, ...</td>\n      <td>4.00</td>\n      <td>Sensitive</td>\n      <td>0</td>\n      <td>0</td>\n      <td>0</td>\n      <td>0</td>\n      <td>1</td>\n    </tr>\n    <tr>\n      <th>1295</th>\n      <td>Shaking Protein Hydrating Mask</td>\n      <td>DEARPACKER</td>\n      <td>Pouch 1: Aqua, Butylene Glycol, Glycerin, 1,2-...</td>\n      <td>16.00</td>\n      <td>Sensitive</td>\n      <td>0</td>\n      <td>0</td>\n      <td>0</td>\n      <td>0</td>\n      <td>1</td>\n    </tr>\n  </tbody>\n</table>\n<p>8439 rows × 10 columns</p>\n</div>"
     },
     "metadata": {},
     "execution_count": 81
    }
   ],
   "source": [
    "Master"
   ]
  },
  {
   "source": [
    "## 1.4 Removing Duplicates and Product Sets\n",
    "\n",
    "### Some products are suitable for more than one skin type. We will need to check which rows (products) are duplicates, set them aside, and extract the skin type information from them."
   ],
   "cell_type": "markdown",
   "metadata": {}
  },
  {
   "cell_type": "code",
   "execution_count": 82,
   "metadata": {},
   "outputs": [],
   "source": [
    "# Remove Duplicates\n",
    "duplicates_Master = Master.duplicated(subset = 'Product', keep = 'first')\n",
    "# create a dataframe for duplicates\n",
    "duplicates = Master[duplicates_Master]\n",
    "# create a dataframe for the new data\n",
    "df = Master[~duplicates_Master]"
   ]
  },
  {
   "cell_type": "code",
   "execution_count": 83,
   "metadata": {},
   "outputs": [
    {
     "output_type": "execute_result",
     "data": {
      "text/plain": [
       "                                                Product              Brand  \\\n",
       "0                      Glycolic Acid 7% Toning Solution       The Ordinary   \n",
       "1             The Microdelivery Exfoliating Facial Wash         Philosophy   \n",
       "2                          AHA/BHA Exfoliating Cleanser              Murad   \n",
       "3                              Anti-Aging Cleansing Gel  Peter Thomas Roth   \n",
       "4                             Hydrating Facial Cleanser             CeraVe   \n",
       "...                                                 ...                ...   \n",
       "1059                Instant Hydration Facial Sheet Mask   Andalou Naturals   \n",
       "1065                        Prep Cicaronic SOS Ampoules                SNP   \n",
       "1115                    Pro-Collagen Hydra-Gel Eye Mask             ELEMIS   \n",
       "1151  ADVANCED Ceramide Capsules Daily Youth Restori...    Elizabeth Arden   \n",
       "1163                    Calm + Restore Triple Oat Serum             Aveeno   \n",
       "\n",
       "                                            Ingredients  Price  Skin Type  \\\n",
       "0     Aqua (Water), Glycolic Acid, Rosa Damascena Fl...   8.70       Oily   \n",
       "1     Aqua/Water/Eau, Solum Diatomeae/Diatomaceous E...  29.00       Oily   \n",
       "2     Water (Aqua), Sodium Laureth Sulfate, Cocamido...  40.00       Oily   \n",
       "3     Water/Aqua/Eau, Sodium Laureth Sulfate, Cocami...  39.00       Oily   \n",
       "4     Purified Water, Glycerin, Behentrimonium Metho...  13.49       Oily   \n",
       "...                                                 ...    ...        ...   \n",
       "1059  Aloe Barbadensis Leaf Juice*, Purified Water (...   4.99  Sensitive   \n",
       "1065  Water, Glycerin, Butylene Glycol, Glycereth-26...  16.00  Sensitive   \n",
       "1115  Aqua/Water/Eau, Glycerin, Ceratonia Siliqua Gu...  76.00  Sensitive   \n",
       "1151  Cyclopentasiloxane, Isononyl Isononanoate, Iso...  63.00  Sensitive   \n",
       "1163  Water, Glycerin, Butylene Glycol, Bis-PEG-18 M...  23.99  Sensitive   \n",
       "\n",
       "      Combination  Dry  Normal  Oily  Sensitive  \n",
       "0               0    0       0     1          0  \n",
       "1               0    0       0     1          0  \n",
       "2               0    0       0     1          0  \n",
       "3               0    0       0     1          0  \n",
       "4               0    0       0     1          0  \n",
       "...           ...  ...     ...   ...        ...  \n",
       "1059            0    0       0     0          1  \n",
       "1065            0    0       0     0          1  \n",
       "1115            0    0       0     0          1  \n",
       "1151            0    0       0     0          1  \n",
       "1163            0    0       0     0          1  \n",
       "\n",
       "[2041 rows x 10 columns]"
      ],
      "text/html": "<div>\n<style scoped>\n    .dataframe tbody tr th:only-of-type {\n        vertical-align: middle;\n    }\n\n    .dataframe tbody tr th {\n        vertical-align: top;\n    }\n\n    .dataframe thead th {\n        text-align: right;\n    }\n</style>\n<table border=\"1\" class=\"dataframe\">\n  <thead>\n    <tr style=\"text-align: right;\">\n      <th></th>\n      <th>Product</th>\n      <th>Brand</th>\n      <th>Ingredients</th>\n      <th>Price</th>\n      <th>Skin Type</th>\n      <th>Combination</th>\n      <th>Dry</th>\n      <th>Normal</th>\n      <th>Oily</th>\n      <th>Sensitive</th>\n    </tr>\n  </thead>\n  <tbody>\n    <tr>\n      <th>0</th>\n      <td>Glycolic Acid 7% Toning Solution</td>\n      <td>The Ordinary</td>\n      <td>Aqua (Water), Glycolic Acid, Rosa Damascena Fl...</td>\n      <td>8.70</td>\n      <td>Oily</td>\n      <td>0</td>\n      <td>0</td>\n      <td>0</td>\n      <td>1</td>\n      <td>0</td>\n    </tr>\n    <tr>\n      <th>1</th>\n      <td>The Microdelivery Exfoliating Facial Wash</td>\n      <td>Philosophy</td>\n      <td>Aqua/Water/Eau, Solum Diatomeae/Diatomaceous E...</td>\n      <td>29.00</td>\n      <td>Oily</td>\n      <td>0</td>\n      <td>0</td>\n      <td>0</td>\n      <td>1</td>\n      <td>0</td>\n    </tr>\n    <tr>\n      <th>2</th>\n      <td>AHA/BHA Exfoliating Cleanser</td>\n      <td>Murad</td>\n      <td>Water (Aqua), Sodium Laureth Sulfate, Cocamido...</td>\n      <td>40.00</td>\n      <td>Oily</td>\n      <td>0</td>\n      <td>0</td>\n      <td>0</td>\n      <td>1</td>\n      <td>0</td>\n    </tr>\n    <tr>\n      <th>3</th>\n      <td>Anti-Aging Cleansing Gel</td>\n      <td>Peter Thomas Roth</td>\n      <td>Water/Aqua/Eau, Sodium Laureth Sulfate, Cocami...</td>\n      <td>39.00</td>\n      <td>Oily</td>\n      <td>0</td>\n      <td>0</td>\n      <td>0</td>\n      <td>1</td>\n      <td>0</td>\n    </tr>\n    <tr>\n      <th>4</th>\n      <td>Hydrating Facial Cleanser</td>\n      <td>CeraVe</td>\n      <td>Purified Water, Glycerin, Behentrimonium Metho...</td>\n      <td>13.49</td>\n      <td>Oily</td>\n      <td>0</td>\n      <td>0</td>\n      <td>0</td>\n      <td>1</td>\n      <td>0</td>\n    </tr>\n    <tr>\n      <th>...</th>\n      <td>...</td>\n      <td>...</td>\n      <td>...</td>\n      <td>...</td>\n      <td>...</td>\n      <td>...</td>\n      <td>...</td>\n      <td>...</td>\n      <td>...</td>\n      <td>...</td>\n    </tr>\n    <tr>\n      <th>1059</th>\n      <td>Instant Hydration Facial Sheet Mask</td>\n      <td>Andalou Naturals</td>\n      <td>Aloe Barbadensis Leaf Juice*, Purified Water (...</td>\n      <td>4.99</td>\n      <td>Sensitive</td>\n      <td>0</td>\n      <td>0</td>\n      <td>0</td>\n      <td>0</td>\n      <td>1</td>\n    </tr>\n    <tr>\n      <th>1065</th>\n      <td>Prep Cicaronic SOS Ampoules</td>\n      <td>SNP</td>\n      <td>Water, Glycerin, Butylene Glycol, Glycereth-26...</td>\n      <td>16.00</td>\n      <td>Sensitive</td>\n      <td>0</td>\n      <td>0</td>\n      <td>0</td>\n      <td>0</td>\n      <td>1</td>\n    </tr>\n    <tr>\n      <th>1115</th>\n      <td>Pro-Collagen Hydra-Gel Eye Mask</td>\n      <td>ELEMIS</td>\n      <td>Aqua/Water/Eau, Glycerin, Ceratonia Siliqua Gu...</td>\n      <td>76.00</td>\n      <td>Sensitive</td>\n      <td>0</td>\n      <td>0</td>\n      <td>0</td>\n      <td>0</td>\n      <td>1</td>\n    </tr>\n    <tr>\n      <th>1151</th>\n      <td>ADVANCED Ceramide Capsules Daily Youth Restori...</td>\n      <td>Elizabeth Arden</td>\n      <td>Cyclopentasiloxane, Isononyl Isononanoate, Iso...</td>\n      <td>63.00</td>\n      <td>Sensitive</td>\n      <td>0</td>\n      <td>0</td>\n      <td>0</td>\n      <td>0</td>\n      <td>1</td>\n    </tr>\n    <tr>\n      <th>1163</th>\n      <td>Calm + Restore Triple Oat Serum</td>\n      <td>Aveeno</td>\n      <td>Water, Glycerin, Butylene Glycol, Bis-PEG-18 M...</td>\n      <td>23.99</td>\n      <td>Sensitive</td>\n      <td>0</td>\n      <td>0</td>\n      <td>0</td>\n      <td>0</td>\n      <td>1</td>\n    </tr>\n  </tbody>\n</table>\n<p>2041 rows × 10 columns</p>\n</div>"
     },
     "metadata": {},
     "execution_count": 83
    }
   ],
   "source": [
    "# take a look at df to make sure everything checks out\n",
    "df"
   ]
  },
  {
   "cell_type": "code",
   "execution_count": 84,
   "metadata": {},
   "outputs": [
    {
     "output_type": "execute_result",
     "data": {
      "text/plain": [
       "                                                Product                Brand  \\\n",
       "160                Checks and Balances Frothy Face Wash              Origins   \n",
       "280                  Natural Mineral Water Facial Spray  Evian Mineral Spray   \n",
       "423                                Refreshing Face Wash      Alpha Skin Care   \n",
       "429                               Daily Facial Cleanser             Cetaphil   \n",
       "501         Facial Spray With Aloe, Herbs and Rosewater        Mario Badescu   \n",
       "...                                                 ...                  ...   \n",
       "1291  Labotica Aqua Tree Charcoal Pore Deep Cleansin...              Leaders   \n",
       "1292                                        Desert Mist               ARCONA   \n",
       "1293                           Cleansing Micellar Water             Erborian   \n",
       "1294                                    Water Beam Mask           DEARPACKER   \n",
       "1295                     Shaking Protein Hydrating Mask           DEARPACKER   \n",
       "\n",
       "                                            Ingredients  \\\n",
       "160   Water\\Aqua\\Eau, Lavandula Angustifolia (Lavend...   \n",
       "280                Evian Water, Nitrogen as Propellant.   \n",
       "423   Water, Decyl Glucoside, Cocamidopropyl Betaine...   \n",
       "429   Water, cetyl alcohol, propylene glycol, sodium...   \n",
       "501   Aqua (Water, Eau), Propylene Glycol, Aloe Barb...   \n",
       "...                                                 ...   \n",
       "1291  Water, Stearic Acid, Glycerin, Lauric Acid, My...   \n",
       "1292  Aqua (Distilled Water), Hamamelis Virginiana (...   \n",
       "1293  Aqua/Water, Peg-7 Glyceryl Cocoate, Butylene G...   \n",
       "1294  Water, Glycerin, 1,2-Hexanediol, Niacinamide, ...   \n",
       "1295  Pouch 1: Aqua, Butylene Glycol, Glycerin, 1,2-...   \n",
       "\n",
       "                             Price  Skin Type  Combination  Dry  Normal  Oily  \\\n",
       "160   29.00Market Value($39 value)       Oily            0    0       0     1   \n",
       "280                          13.50       Oily            0    0       0     1   \n",
       "423                           8.99       Oily            0    0       0     1   \n",
       "429                           3.49       Oily            0    0       0     1   \n",
       "501                           7.00       Oily            0    0       0     1   \n",
       "...                            ...        ...          ...  ...     ...   ...   \n",
       "1291                         10.00  Sensitive            0    0       0     0   \n",
       "1292                         40.00  Sensitive            0    0       0     0   \n",
       "1293                         26.00  Sensitive            0    0       0     0   \n",
       "1294                          4.00  Sensitive            0    0       0     0   \n",
       "1295                         16.00  Sensitive            0    0       0     0   \n",
       "\n",
       "      Sensitive  \n",
       "160           0  \n",
       "280           0  \n",
       "423           0  \n",
       "429           0  \n",
       "501           0  \n",
       "...         ...  \n",
       "1291          1  \n",
       "1292          1  \n",
       "1293          1  \n",
       "1294          1  \n",
       "1295          1  \n",
       "\n",
       "[6398 rows x 10 columns]"
      ],
      "text/html": "<div>\n<style scoped>\n    .dataframe tbody tr th:only-of-type {\n        vertical-align: middle;\n    }\n\n    .dataframe tbody tr th {\n        vertical-align: top;\n    }\n\n    .dataframe thead th {\n        text-align: right;\n    }\n</style>\n<table border=\"1\" class=\"dataframe\">\n  <thead>\n    <tr style=\"text-align: right;\">\n      <th></th>\n      <th>Product</th>\n      <th>Brand</th>\n      <th>Ingredients</th>\n      <th>Price</th>\n      <th>Skin Type</th>\n      <th>Combination</th>\n      <th>Dry</th>\n      <th>Normal</th>\n      <th>Oily</th>\n      <th>Sensitive</th>\n    </tr>\n  </thead>\n  <tbody>\n    <tr>\n      <th>160</th>\n      <td>Checks and Balances Frothy Face Wash</td>\n      <td>Origins</td>\n      <td>Water\\Aqua\\Eau, Lavandula Angustifolia (Lavend...</td>\n      <td>29.00Market Value($39 value)</td>\n      <td>Oily</td>\n      <td>0</td>\n      <td>0</td>\n      <td>0</td>\n      <td>1</td>\n      <td>0</td>\n    </tr>\n    <tr>\n      <th>280</th>\n      <td>Natural Mineral Water Facial Spray</td>\n      <td>Evian Mineral Spray</td>\n      <td>Evian Water, Nitrogen as Propellant.</td>\n      <td>13.50</td>\n      <td>Oily</td>\n      <td>0</td>\n      <td>0</td>\n      <td>0</td>\n      <td>1</td>\n      <td>0</td>\n    </tr>\n    <tr>\n      <th>423</th>\n      <td>Refreshing Face Wash</td>\n      <td>Alpha Skin Care</td>\n      <td>Water, Decyl Glucoside, Cocamidopropyl Betaine...</td>\n      <td>8.99</td>\n      <td>Oily</td>\n      <td>0</td>\n      <td>0</td>\n      <td>0</td>\n      <td>1</td>\n      <td>0</td>\n    </tr>\n    <tr>\n      <th>429</th>\n      <td>Daily Facial Cleanser</td>\n      <td>Cetaphil</td>\n      <td>Water, cetyl alcohol, propylene glycol, sodium...</td>\n      <td>3.49</td>\n      <td>Oily</td>\n      <td>0</td>\n      <td>0</td>\n      <td>0</td>\n      <td>1</td>\n      <td>0</td>\n    </tr>\n    <tr>\n      <th>501</th>\n      <td>Facial Spray With Aloe, Herbs and Rosewater</td>\n      <td>Mario Badescu</td>\n      <td>Aqua (Water, Eau), Propylene Glycol, Aloe Barb...</td>\n      <td>7.00</td>\n      <td>Oily</td>\n      <td>0</td>\n      <td>0</td>\n      <td>0</td>\n      <td>1</td>\n      <td>0</td>\n    </tr>\n    <tr>\n      <th>...</th>\n      <td>...</td>\n      <td>...</td>\n      <td>...</td>\n      <td>...</td>\n      <td>...</td>\n      <td>...</td>\n      <td>...</td>\n      <td>...</td>\n      <td>...</td>\n      <td>...</td>\n    </tr>\n    <tr>\n      <th>1291</th>\n      <td>Labotica Aqua Tree Charcoal Pore Deep Cleansin...</td>\n      <td>Leaders</td>\n      <td>Water, Stearic Acid, Glycerin, Lauric Acid, My...</td>\n      <td>10.00</td>\n      <td>Sensitive</td>\n      <td>0</td>\n      <td>0</td>\n      <td>0</td>\n      <td>0</td>\n      <td>1</td>\n    </tr>\n    <tr>\n      <th>1292</th>\n      <td>Desert Mist</td>\n      <td>ARCONA</td>\n      <td>Aqua (Distilled Water), Hamamelis Virginiana (...</td>\n      <td>40.00</td>\n      <td>Sensitive</td>\n      <td>0</td>\n      <td>0</td>\n      <td>0</td>\n      <td>0</td>\n      <td>1</td>\n    </tr>\n    <tr>\n      <th>1293</th>\n      <td>Cleansing Micellar Water</td>\n      <td>Erborian</td>\n      <td>Aqua/Water, Peg-7 Glyceryl Cocoate, Butylene G...</td>\n      <td>26.00</td>\n      <td>Sensitive</td>\n      <td>0</td>\n      <td>0</td>\n      <td>0</td>\n      <td>0</td>\n      <td>1</td>\n    </tr>\n    <tr>\n      <th>1294</th>\n      <td>Water Beam Mask</td>\n      <td>DEARPACKER</td>\n      <td>Water, Glycerin, 1,2-Hexanediol, Niacinamide, ...</td>\n      <td>4.00</td>\n      <td>Sensitive</td>\n      <td>0</td>\n      <td>0</td>\n      <td>0</td>\n      <td>0</td>\n      <td>1</td>\n    </tr>\n    <tr>\n      <th>1295</th>\n      <td>Shaking Protein Hydrating Mask</td>\n      <td>DEARPACKER</td>\n      <td>Pouch 1: Aqua, Butylene Glycol, Glycerin, 1,2-...</td>\n      <td>16.00</td>\n      <td>Sensitive</td>\n      <td>0</td>\n      <td>0</td>\n      <td>0</td>\n      <td>0</td>\n      <td>1</td>\n    </tr>\n  </tbody>\n</table>\n<p>6398 rows × 10 columns</p>\n</div>"
     },
     "metadata": {},
     "execution_count": 84
    }
   ],
   "source": [
    "duplicates"
   ]
  },
  {
   "source": [
    "### Properly copy the one-hot encoding for skin types from the Duplicates dataframe to df. The result should be a dataframe with products that have 1's in more than one of the five skin type columns. "
   ],
   "cell_type": "markdown",
   "metadata": {}
  },
  {
   "cell_type": "code",
   "execution_count": 85,
   "metadata": {},
   "outputs": [],
   "source": [
    "## combo duplicates\n",
    "for i in range(len(duplicates)):\n",
    "    if (duplicates.iloc[i][5] == 1):\n",
    "            prod = duplicates.iloc[i][0]\n",
    "            df.loc[df['Product'] == prod,['Combination']] = 1"
   ]
  },
  {
   "cell_type": "code",
   "execution_count": 86,
   "metadata": {},
   "outputs": [],
   "source": [
    "## dry duplicates\n",
    "for i in range(len(duplicates)):\n",
    "    if (duplicates.iloc[i][6] == 1):\n",
    "            prod = duplicates.iloc[i][0]\n",
    "            df.loc[df['Product'] == prod,['Dry']] = 1"
   ]
  },
  {
   "cell_type": "code",
   "execution_count": 87,
   "metadata": {},
   "outputs": [],
   "source": [
    "## Normal duplicates\n",
    "for i in range(len(duplicates)):\n",
    "    if (duplicates.iloc[i][7] == 1):\n",
    "            prod = duplicates.iloc[i][0]\n",
    "            df.loc[df['Product'] == prod,['Normal']] = 1"
   ]
  },
  {
   "cell_type": "code",
   "execution_count": 88,
   "metadata": {},
   "outputs": [],
   "source": [
    "## oily duplicates\n",
    "for i in range(len(duplicates)):\n",
    "    if (duplicates.iloc[i][8] == 1):\n",
    "            prod = duplicates.iloc[i][0]\n",
    "            df.loc[df['Product'] == prod,['Oily']] = 1"
   ]
  },
  {
   "cell_type": "code",
   "execution_count": 89,
   "metadata": {},
   "outputs": [],
   "source": [
    "## sensitive duplicates\n",
    "for i in range(len(duplicates)):\n",
    "    if (duplicates.iloc[i][9] == 1):\n",
    "            prod = duplicates.iloc[i][0]\n",
    "            df.loc[df['Product'] == prod,['Sensitive']] = 1"
   ]
  },
  {
   "cell_type": "code",
   "execution_count": 70,
   "metadata": {},
   "outputs": [],
   "source": [
    "for i in range(len(duplicates)):\n",
    "#cdnos\n",
    "    ## check if product is also suitable for Combination skin types \n",
    "    if (duplicates.iloc[i][5] == 1):\n",
    "        prod = duplicates.iloc[i][0]\n",
    "        df.loc[df['Product'] == prod,['Combination']] = 1\n",
    "        \n",
    "    ## check if product is also suitable for Dry skin types \n",
    "    elif (duplicates.iloc[i][6] == 1):\n",
    "        prod = duplicates.iloc[i][0]\n",
    "        df.loc[df[\"Product\"] == prod, ['Dry']] == 1\n",
    "    \n",
    "    ## check if product is also suitable for Normal skin types \n",
    "    elif (duplicates.iloc[i][7] == 1):\n",
    "        prod = duplicates.iloc[i][0]\n",
    "        df.loc[df['Product'] == prod,['Normal']] = 1\n",
    "\n",
    "    ## check if product is also suitable for Oily skin types \n",
    "    elif (duplicates.iloc[i][8] == 1):\n",
    "        prod = duplicates.iloc[i][0]\n",
    "        df.loc[df[\"Product\"] == prod, ['Oily']] == 1\n",
    "    \n",
    "    ## check if product is also suitable for Sensitive skin types \n",
    "    elif (duplicates.iloc[i][9] == 1):\n",
    "        prod = duplicates.iloc[i][0]\n",
    "        df.loc[df[\"Product\"] == prod, ['Sensitive']] == 1"
   ]
  },
  {
   "cell_type": "code",
   "execution_count": 94,
   "metadata": {},
   "outputs": [
    {
     "output_type": "execute_result",
     "data": {
      "text/plain": [
       "                                       Product              Brand  \\\n",
       "0             Glycolic Acid 7% Toning Solution       The Ordinary   \n",
       "1    The Microdelivery Exfoliating Facial Wash         Philosophy   \n",
       "2                 AHA/BHA Exfoliating Cleanser              Murad   \n",
       "3                     Anti-Aging Cleansing Gel  Peter Thomas Roth   \n",
       "4                    Hydrating Facial Cleanser             CeraVe   \n",
       "5                         Essential-C Cleanser              Murad   \n",
       "6                            Squalane Cleanser       The Ordinary   \n",
       "7  Purity Made Simple One-Step Facial Cleanser         Philosophy   \n",
       "8            Power Calm Hydrating Gel Cleanser       PEACH & LILY   \n",
       "9                           Daily Microfoliant        Dermalogica   \n",
       "\n",
       "                                         Ingredients  Price Skin Type  \\\n",
       "0  Aqua (Water), Glycolic Acid, Rosa Damascena Fl...   8.70      Oily   \n",
       "1  Aqua/Water/Eau, Solum Diatomeae/Diatomaceous E...  29.00      Oily   \n",
       "2  Water (Aqua), Sodium Laureth Sulfate, Cocamido...  40.00      Oily   \n",
       "3  Water/Aqua/Eau, Sodium Laureth Sulfate, Cocami...  39.00      Oily   \n",
       "4  Purified Water, Glycerin, Behentrimonium Metho...  13.49      Oily   \n",
       "5  Water (Aqua), Cocamidopropyl Betaine, Disodium...  40.00      Oily   \n",
       "6  Squalane, Aqua (Water), Coco-caprylate/caprate...   7.90      Oily   \n",
       "7  Aqua/Water/Eau, Sodium Lauroamphoacetate, Sodi...  25.00      Oily   \n",
       "8  DI Water, Glycerin, Sorbitol, Coco-Glucoside, ...  28.00      Oily   \n",
       "9  Microcrystalline Cellulose, Magnesium Oxide, S...  59.00      Oily   \n",
       "\n",
       "   Combination  Dry  Normal  Oily  Sensitive  \n",
       "0            1    1       1     1          1  \n",
       "1            1    1       1     1          1  \n",
       "2            1    1       1     1          1  \n",
       "3            1    1       1     1          1  \n",
       "4            1    1       1     1          1  \n",
       "5            1    1       1     1          0  \n",
       "6            1    1       1     1          1  \n",
       "7            1    1       1     1          1  \n",
       "8            1    1       1     1          1  \n",
       "9            1    1       1     1          0  "
      ],
      "text/html": "<div>\n<style scoped>\n    .dataframe tbody tr th:only-of-type {\n        vertical-align: middle;\n    }\n\n    .dataframe tbody tr th {\n        vertical-align: top;\n    }\n\n    .dataframe thead th {\n        text-align: right;\n    }\n</style>\n<table border=\"1\" class=\"dataframe\">\n  <thead>\n    <tr style=\"text-align: right;\">\n      <th></th>\n      <th>Product</th>\n      <th>Brand</th>\n      <th>Ingredients</th>\n      <th>Price</th>\n      <th>Skin Type</th>\n      <th>Combination</th>\n      <th>Dry</th>\n      <th>Normal</th>\n      <th>Oily</th>\n      <th>Sensitive</th>\n    </tr>\n  </thead>\n  <tbody>\n    <tr>\n      <th>0</th>\n      <td>Glycolic Acid 7% Toning Solution</td>\n      <td>The Ordinary</td>\n      <td>Aqua (Water), Glycolic Acid, Rosa Damascena Fl...</td>\n      <td>8.70</td>\n      <td>Oily</td>\n      <td>1</td>\n      <td>1</td>\n      <td>1</td>\n      <td>1</td>\n      <td>1</td>\n    </tr>\n    <tr>\n      <th>1</th>\n      <td>The Microdelivery Exfoliating Facial Wash</td>\n      <td>Philosophy</td>\n      <td>Aqua/Water/Eau, Solum Diatomeae/Diatomaceous E...</td>\n      <td>29.00</td>\n      <td>Oily</td>\n      <td>1</td>\n      <td>1</td>\n      <td>1</td>\n      <td>1</td>\n      <td>1</td>\n    </tr>\n    <tr>\n      <th>2</th>\n      <td>AHA/BHA Exfoliating Cleanser</td>\n      <td>Murad</td>\n      <td>Water (Aqua), Sodium Laureth Sulfate, Cocamido...</td>\n      <td>40.00</td>\n      <td>Oily</td>\n      <td>1</td>\n      <td>1</td>\n      <td>1</td>\n      <td>1</td>\n      <td>1</td>\n    </tr>\n    <tr>\n      <th>3</th>\n      <td>Anti-Aging Cleansing Gel</td>\n      <td>Peter Thomas Roth</td>\n      <td>Water/Aqua/Eau, Sodium Laureth Sulfate, Cocami...</td>\n      <td>39.00</td>\n      <td>Oily</td>\n      <td>1</td>\n      <td>1</td>\n      <td>1</td>\n      <td>1</td>\n      <td>1</td>\n    </tr>\n    <tr>\n      <th>4</th>\n      <td>Hydrating Facial Cleanser</td>\n      <td>CeraVe</td>\n      <td>Purified Water, Glycerin, Behentrimonium Metho...</td>\n      <td>13.49</td>\n      <td>Oily</td>\n      <td>1</td>\n      <td>1</td>\n      <td>1</td>\n      <td>1</td>\n      <td>1</td>\n    </tr>\n    <tr>\n      <th>5</th>\n      <td>Essential-C Cleanser</td>\n      <td>Murad</td>\n      <td>Water (Aqua), Cocamidopropyl Betaine, Disodium...</td>\n      <td>40.00</td>\n      <td>Oily</td>\n      <td>1</td>\n      <td>1</td>\n      <td>1</td>\n      <td>1</td>\n      <td>0</td>\n    </tr>\n    <tr>\n      <th>6</th>\n      <td>Squalane Cleanser</td>\n      <td>The Ordinary</td>\n      <td>Squalane, Aqua (Water), Coco-caprylate/caprate...</td>\n      <td>7.90</td>\n      <td>Oily</td>\n      <td>1</td>\n      <td>1</td>\n      <td>1</td>\n      <td>1</td>\n      <td>1</td>\n    </tr>\n    <tr>\n      <th>7</th>\n      <td>Purity Made Simple One-Step Facial Cleanser</td>\n      <td>Philosophy</td>\n      <td>Aqua/Water/Eau, Sodium Lauroamphoacetate, Sodi...</td>\n      <td>25.00</td>\n      <td>Oily</td>\n      <td>1</td>\n      <td>1</td>\n      <td>1</td>\n      <td>1</td>\n      <td>1</td>\n    </tr>\n    <tr>\n      <th>8</th>\n      <td>Power Calm Hydrating Gel Cleanser</td>\n      <td>PEACH &amp; LILY</td>\n      <td>DI Water, Glycerin, Sorbitol, Coco-Glucoside, ...</td>\n      <td>28.00</td>\n      <td>Oily</td>\n      <td>1</td>\n      <td>1</td>\n      <td>1</td>\n      <td>1</td>\n      <td>1</td>\n    </tr>\n    <tr>\n      <th>9</th>\n      <td>Daily Microfoliant</td>\n      <td>Dermalogica</td>\n      <td>Microcrystalline Cellulose, Magnesium Oxide, S...</td>\n      <td>59.00</td>\n      <td>Oily</td>\n      <td>1</td>\n      <td>1</td>\n      <td>1</td>\n      <td>1</td>\n      <td>0</td>\n    </tr>\n  </tbody>\n</table>\n</div>"
     },
     "metadata": {},
     "execution_count": 94
    }
   ],
   "source": [
    "# examine df \n",
    "df.head(10)"
   ]
  },
  {
   "source": [
    "### The dataset is now ready for ingredient matching and preprocessing. This process will be documented in a following notebook. "
   ],
   "cell_type": "markdown",
   "metadata": {}
  },
  {
   "source": [
    "## 1.5 Save dataframe as a csv file "
   ],
   "cell_type": "markdown",
   "metadata": {}
  },
  {
   "cell_type": "code",
   "execution_count": 93,
   "metadata": {},
   "outputs": [],
   "source": [
    "# save dataframe as Master\n",
    "df.to_csv('Master.csv', index= False)"
   ]
  }
 ]
}