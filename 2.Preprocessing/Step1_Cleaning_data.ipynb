{
 "metadata": {
  "language_info": {
   "codemirror_mode": {
    "name": "ipython",
    "version": 3
   },
   "file_extension": ".py",
   "mimetype": "text/x-python",
   "name": "python",
   "nbconvert_exporter": "python",
   "pygments_lexer": "ipython3",
   "version": "3.8.3-final"
  },
  "orig_nbformat": 2,
  "kernelspec": {
   "name": "python3",
   "display_name": "Python 3.8.3 64-bit (conda)",
   "metadata": {
    "interpreter": {
     "hash": "344443636c3027c5042750c9c609acdda283a9c43681b128a8c1053e7ad2aa7d"
    }
   }
  }
 },
 "nbformat": 4,
 "nbformat_minor": 2,
 "cells": [
  {
   "cell_type": "code",
   "execution_count": 1,
   "metadata": {},
   "outputs": [],
   "source": [
    "import numpy as np \n",
    "import pandas as pd\n",
    "import csv \n",
    "\n",
    "import os \n",
    "os.chdir(\"/Users/susanchen/Documents/GitHub/skincare_classification/Data_sets\")"
   ]
  },
  {
   "source": [
    "## 1.0 Load the 5 data files "
   ],
   "cell_type": "markdown",
   "metadata": {}
  },
  {
   "cell_type": "code",
   "execution_count": 2,
   "metadata": {},
   "outputs": [],
   "source": [
    "oily = pd.read_csv(\"Oily.csv\")\n",
    "dry = pd.read_csv('Dry.csv')\n",
    "norm = pd.read_csv('Normal.csv')\n",
    "combo = pd.read_csv('Combination.csv')\n",
    "sen = pd.read_csv(\"Sensitive.csv\")"
   ]
  },
  {
   "source": [
    "## 1.1 For each data set, create a \"Skin Type\" column containing the suitable skin type informatiom. "
   ],
   "cell_type": "markdown",
   "metadata": {}
  },
  {
   "cell_type": "code",
   "execution_count": 3,
   "metadata": {},
   "outputs": [],
   "source": [
    "sen[\"Skin_Type\"] = 'Sensitive'\n",
    "oily[\"Skin_Type\"] = 'Oily'\n",
    "norm[\"Skin_Type\"] = 'Normal'\n",
    "dry[\"Skin_Type\"] = 'Dry'\n",
    "combo[\"Skin_Type\"] = 'Combination'"
   ]
  },
  {
   "source": [
    "### Take a look at one of the datasets"
   ],
   "cell_type": "markdown",
   "metadata": {}
  },
  {
   "cell_type": "code",
   "execution_count": 4,
   "metadata": {},
   "outputs": [
    {
     "output_type": "execute_result",
     "data": {
      "text/plain": [
       "                                        Product             Brand  \\\n",
       "0              Glycolic Acid 7% Toning Solution      The Ordinary   \n",
       "1                                 Face Cleanser  First Aid Beauty   \n",
       "2     The Microdelivery Exfoliating Facial Wash        Philosophy   \n",
       "3                  AHA/BHA Exfoliating Cleanser             Murad   \n",
       "4                       Foaming Facial Cleanser            CeraVe   \n",
       "...                                         ...               ...   \n",
       "1877                         Velvet Blur Primer               VDL   \n",
       "1878                   Cleansing Micellar Water          Erborian   \n",
       "1879                            Water Beam Mask        DEARPACKER   \n",
       "1880                   Hi Bye Vita-Peel Essence         Banila Co   \n",
       "1881             Shaking Protein Hydrating Mask        DEARPACKER   \n",
       "\n",
       "                                            Ingredients  Price Skin_Type  \n",
       "0     Aqua (Water), Glycolic Acid, Rosa Damascena Fl...   8.70    Normal  \n",
       "1     Water/Aqua/Eau, Sodium Cocoyl Isethionate, Gly...  21.00    Normal  \n",
       "2     Aqua/Water/Eau, Solum Diatomeae/Diatomaceous E...  29.00    Normal  \n",
       "3     Water (Aqua), Sodium Laureth Sulfate, Cocamido...  40.00    Normal  \n",
       "4     Purified Water, Glycerin, Behentrimonium Metho...  14.99    Normal  \n",
       "...                                                 ...    ...       ...  \n",
       "1877                                                NaN  32.00    Normal  \n",
       "1878  Aqua/Water, Peg-7 Glyceryl Cocoate, Butylene G...  26.00    Normal  \n",
       "1879  Water, Glycerin, 1,2-Hexanediol, Niacinamide, ...   4.00    Normal  \n",
       "1880  Water, Butylene Glycol, Glycerin, Dipropylene ...  24.00    Normal  \n",
       "1881  Pouch 1: Aqua, Butylene Glycol, Glycerin, 1,2-...  16.00    Normal  \n",
       "\n",
       "[1882 rows x 5 columns]"
      ],
      "text/html": "<div>\n<style scoped>\n    .dataframe tbody tr th:only-of-type {\n        vertical-align: middle;\n    }\n\n    .dataframe tbody tr th {\n        vertical-align: top;\n    }\n\n    .dataframe thead th {\n        text-align: right;\n    }\n</style>\n<table border=\"1\" class=\"dataframe\">\n  <thead>\n    <tr style=\"text-align: right;\">\n      <th></th>\n      <th>Product</th>\n      <th>Brand</th>\n      <th>Ingredients</th>\n      <th>Price</th>\n      <th>Skin_Type</th>\n    </tr>\n  </thead>\n  <tbody>\n    <tr>\n      <th>0</th>\n      <td>Glycolic Acid 7% Toning Solution</td>\n      <td>The Ordinary</td>\n      <td>Aqua (Water), Glycolic Acid, Rosa Damascena Fl...</td>\n      <td>8.70</td>\n      <td>Normal</td>\n    </tr>\n    <tr>\n      <th>1</th>\n      <td>Face Cleanser</td>\n      <td>First Aid Beauty</td>\n      <td>Water/Aqua/Eau, Sodium Cocoyl Isethionate, Gly...</td>\n      <td>21.00</td>\n      <td>Normal</td>\n    </tr>\n    <tr>\n      <th>2</th>\n      <td>The Microdelivery Exfoliating Facial Wash</td>\n      <td>Philosophy</td>\n      <td>Aqua/Water/Eau, Solum Diatomeae/Diatomaceous E...</td>\n      <td>29.00</td>\n      <td>Normal</td>\n    </tr>\n    <tr>\n      <th>3</th>\n      <td>AHA/BHA Exfoliating Cleanser</td>\n      <td>Murad</td>\n      <td>Water (Aqua), Sodium Laureth Sulfate, Cocamido...</td>\n      <td>40.00</td>\n      <td>Normal</td>\n    </tr>\n    <tr>\n      <th>4</th>\n      <td>Foaming Facial Cleanser</td>\n      <td>CeraVe</td>\n      <td>Purified Water, Glycerin, Behentrimonium Metho...</td>\n      <td>14.99</td>\n      <td>Normal</td>\n    </tr>\n    <tr>\n      <th>...</th>\n      <td>...</td>\n      <td>...</td>\n      <td>...</td>\n      <td>...</td>\n      <td>...</td>\n    </tr>\n    <tr>\n      <th>1877</th>\n      <td>Velvet Blur Primer</td>\n      <td>VDL</td>\n      <td>NaN</td>\n      <td>32.00</td>\n      <td>Normal</td>\n    </tr>\n    <tr>\n      <th>1878</th>\n      <td>Cleansing Micellar Water</td>\n      <td>Erborian</td>\n      <td>Aqua/Water, Peg-7 Glyceryl Cocoate, Butylene G...</td>\n      <td>26.00</td>\n      <td>Normal</td>\n    </tr>\n    <tr>\n      <th>1879</th>\n      <td>Water Beam Mask</td>\n      <td>DEARPACKER</td>\n      <td>Water, Glycerin, 1,2-Hexanediol, Niacinamide, ...</td>\n      <td>4.00</td>\n      <td>Normal</td>\n    </tr>\n    <tr>\n      <th>1880</th>\n      <td>Hi Bye Vita-Peel Essence</td>\n      <td>Banila Co</td>\n      <td>Water, Butylene Glycol, Glycerin, Dipropylene ...</td>\n      <td>24.00</td>\n      <td>Normal</td>\n    </tr>\n    <tr>\n      <th>1881</th>\n      <td>Shaking Protein Hydrating Mask</td>\n      <td>DEARPACKER</td>\n      <td>Pouch 1: Aqua, Butylene Glycol, Glycerin, 1,2-...</td>\n      <td>16.00</td>\n      <td>Normal</td>\n    </tr>\n  </tbody>\n</table>\n<p>1882 rows × 5 columns</p>\n</div>"
     },
     "metadata": {},
     "execution_count": 4
    }
   ],
   "source": [
    "norm\n"
   ]
  },
  {
   "source": [
    "## 1.2 Merge the five dataframes into one."
   ],
   "cell_type": "markdown",
   "metadata": {}
  },
  {
   "cell_type": "code",
   "execution_count": 5,
   "metadata": {},
   "outputs": [],
   "source": [
    "frames= [oily, dry, norm, combo, sen]\n",
    "Master = pd.concat(frames)"
   ]
  },
  {
   "cell_type": "code",
   "execution_count": 6,
   "metadata": {},
   "outputs": [
    {
     "output_type": "execute_result",
     "data": {
      "text/plain": [
       "                                                Product              Brand  \\\n",
       "0                      Glycolic Acid 7% Toning Solution       The Ordinary   \n",
       "1             The Microdelivery Exfoliating Facial Wash         Philosophy   \n",
       "2                          AHA/BHA Exfoliating Cleanser              Murad   \n",
       "3                              Anti-Aging Cleansing Gel  Peter Thomas Roth   \n",
       "4                             Hydrating Facial Cleanser             CeraVe   \n",
       "...                                                 ...                ...   \n",
       "1291  Labotica Aqua Tree Charcoal Pore Deep Cleansin...            Leaders   \n",
       "1292                                        Desert Mist             ARCONA   \n",
       "1293                           Cleansing Micellar Water           Erborian   \n",
       "1294                                    Water Beam Mask         DEARPACKER   \n",
       "1295                     Shaking Protein Hydrating Mask         DEARPACKER   \n",
       "\n",
       "                                            Ingredients  Price  Skin_Type  \n",
       "0     Aqua (Water), Glycolic Acid, Rosa Damascena Fl...   8.70       Oily  \n",
       "1     Aqua/Water/Eau, Solum Diatomeae/Diatomaceous E...  29.00       Oily  \n",
       "2     Water (Aqua), Sodium Laureth Sulfate, Cocamido...  40.00       Oily  \n",
       "3     Water/Aqua/Eau, Sodium Laureth Sulfate, Cocami...  39.00       Oily  \n",
       "4     Purified Water, Glycerin, Behentrimonium Metho...  13.49       Oily  \n",
       "...                                                 ...    ...        ...  \n",
       "1291  Water, Stearic Acid, Glycerin, Lauric Acid, My...  10.00  Sensitive  \n",
       "1292  Aqua (Distilled Water), Hamamelis Virginiana (...  40.00  Sensitive  \n",
       "1293  Aqua/Water, Peg-7 Glyceryl Cocoate, Butylene G...  26.00  Sensitive  \n",
       "1294  Water, Glycerin, 1,2-Hexanediol, Niacinamide, ...   4.00  Sensitive  \n",
       "1295  Pouch 1: Aqua, Butylene Glycol, Glycerin, 1,2-...  16.00  Sensitive  \n",
       "\n",
       "[8439 rows x 5 columns]"
      ],
      "text/html": "<div>\n<style scoped>\n    .dataframe tbody tr th:only-of-type {\n        vertical-align: middle;\n    }\n\n    .dataframe tbody tr th {\n        vertical-align: top;\n    }\n\n    .dataframe thead th {\n        text-align: right;\n    }\n</style>\n<table border=\"1\" class=\"dataframe\">\n  <thead>\n    <tr style=\"text-align: right;\">\n      <th></th>\n      <th>Product</th>\n      <th>Brand</th>\n      <th>Ingredients</th>\n      <th>Price</th>\n      <th>Skin_Type</th>\n    </tr>\n  </thead>\n  <tbody>\n    <tr>\n      <th>0</th>\n      <td>Glycolic Acid 7% Toning Solution</td>\n      <td>The Ordinary</td>\n      <td>Aqua (Water), Glycolic Acid, Rosa Damascena Fl...</td>\n      <td>8.70</td>\n      <td>Oily</td>\n    </tr>\n    <tr>\n      <th>1</th>\n      <td>The Microdelivery Exfoliating Facial Wash</td>\n      <td>Philosophy</td>\n      <td>Aqua/Water/Eau, Solum Diatomeae/Diatomaceous E...</td>\n      <td>29.00</td>\n      <td>Oily</td>\n    </tr>\n    <tr>\n      <th>2</th>\n      <td>AHA/BHA Exfoliating Cleanser</td>\n      <td>Murad</td>\n      <td>Water (Aqua), Sodium Laureth Sulfate, Cocamido...</td>\n      <td>40.00</td>\n      <td>Oily</td>\n    </tr>\n    <tr>\n      <th>3</th>\n      <td>Anti-Aging Cleansing Gel</td>\n      <td>Peter Thomas Roth</td>\n      <td>Water/Aqua/Eau, Sodium Laureth Sulfate, Cocami...</td>\n      <td>39.00</td>\n      <td>Oily</td>\n    </tr>\n    <tr>\n      <th>4</th>\n      <td>Hydrating Facial Cleanser</td>\n      <td>CeraVe</td>\n      <td>Purified Water, Glycerin, Behentrimonium Metho...</td>\n      <td>13.49</td>\n      <td>Oily</td>\n    </tr>\n    <tr>\n      <th>...</th>\n      <td>...</td>\n      <td>...</td>\n      <td>...</td>\n      <td>...</td>\n      <td>...</td>\n    </tr>\n    <tr>\n      <th>1291</th>\n      <td>Labotica Aqua Tree Charcoal Pore Deep Cleansin...</td>\n      <td>Leaders</td>\n      <td>Water, Stearic Acid, Glycerin, Lauric Acid, My...</td>\n      <td>10.00</td>\n      <td>Sensitive</td>\n    </tr>\n    <tr>\n      <th>1292</th>\n      <td>Desert Mist</td>\n      <td>ARCONA</td>\n      <td>Aqua (Distilled Water), Hamamelis Virginiana (...</td>\n      <td>40.00</td>\n      <td>Sensitive</td>\n    </tr>\n    <tr>\n      <th>1293</th>\n      <td>Cleansing Micellar Water</td>\n      <td>Erborian</td>\n      <td>Aqua/Water, Peg-7 Glyceryl Cocoate, Butylene G...</td>\n      <td>26.00</td>\n      <td>Sensitive</td>\n    </tr>\n    <tr>\n      <th>1294</th>\n      <td>Water Beam Mask</td>\n      <td>DEARPACKER</td>\n      <td>Water, Glycerin, 1,2-Hexanediol, Niacinamide, ...</td>\n      <td>4.00</td>\n      <td>Sensitive</td>\n    </tr>\n    <tr>\n      <th>1295</th>\n      <td>Shaking Protein Hydrating Mask</td>\n      <td>DEARPACKER</td>\n      <td>Pouch 1: Aqua, Butylene Glycol, Glycerin, 1,2-...</td>\n      <td>16.00</td>\n      <td>Sensitive</td>\n    </tr>\n  </tbody>\n</table>\n<p>8439 rows × 5 columns</p>\n</div>"
     },
     "metadata": {},
     "execution_count": 6
    }
   ],
   "source": [
    "Master"
   ]
  },
  {
   "source": [
    "## 1.3 Create a skin type labels column \n",
    "### As certain products may be suitable for more than one skin type, products (rows) appear more than once. We need to combine rows while retaining all skin type labels. "
   ],
   "cell_type": "markdown",
   "metadata": {}
  },
  {
   "cell_type": "code",
   "execution_count": 7,
   "metadata": {},
   "outputs": [],
   "source": [
    "Master1 = Master['Skin_Type'].groupby([Master.Product, Master.Brand, Master.Ingredients, Master.Price]).apply(set).reset_index()"
   ]
  },
  {
   "cell_type": "code",
   "execution_count": 8,
   "metadata": {},
   "outputs": [],
   "source": [
    "for i in range(len(Master1)):\n",
    "    # sort skin type list to ensure labels are listed in consistent order\n",
    "    Master1.Skin_Type[i] = sorted(list(Master1.Skin_Type[i]))"
   ]
  },
  {
   "cell_type": "code",
   "execution_count": 9,
   "metadata": {},
   "outputs": [
    {
     "output_type": "execute_result",
     "data": {
      "text/plain": [
       "                                        Product               Brand  \\\n",
       "0                     #InstantDetox Facial Mask            Biobelle   \n",
       "1                           #Peachy Facial Mask            Biobelle   \n",
       "2                       #Rise&Shine Facial Mask            Biobelle   \n",
       "3                       #RoséAllDay Facial Mask            Biobelle   \n",
       "4                       #VitaminSea Facial Mask            Biobelle   \n",
       "...                                         ...                 ...   \n",
       "2019  Youthful Vitamin C Fresh Radiance Essence                 No7   \n",
       "2020                      Yuza Sorbet Day Cream            Erborian   \n",
       "2021                Yuza Sorbet Night Treatment            Erborian   \n",
       "2022               Yuzu Overnight Moisture Mask  Earth Therapeutics   \n",
       "2023                             pHenomenal Gel                Pixi   \n",
       "\n",
       "                                            Ingredients  Price  \\\n",
       "0     Water, Butylene Glycol, Glycerin, Trehalose, H...   3.99   \n",
       "1     Water, Methylpropanediol, Butylene Glycol, Gly...   3.99   \n",
       "2     Water, Glycerin, Butylene Glycol, Triethylhexa...   3.99   \n",
       "3     Water, Methylpropanediol, Glycerin, Propanedio...   3.99   \n",
       "4     Water, Butylene Glycol, Glycerin, Hydroxyaceto...   3.99   \n",
       "...                                                 ...    ...   \n",
       "2019  Aqua (Water), Butylene Glycol, Glycerin, Gluco...  24.99   \n",
       "2020  Aqua/Water, Cyclomethicone, Glycerin, Nylon-12...  48.00   \n",
       "2021  Aqua/Water, Cyclomethicone, Glycerin, Cetearyl...  55.00   \n",
       "2022  Water (Aqua), Propanediol, Glycerin, Hydrogena...   7.00   \n",
       "2023  Aqua/Water/Eau, Glycerin, Glycereth-26, Betain...  24.00   \n",
       "\n",
       "                                        Skin_Type  \n",
       "0                                          [Oily]  \n",
       "1                                           [Dry]  \n",
       "2                                   [Combination]  \n",
       "3                                   [Combination]  \n",
       "4                                           [Dry]  \n",
       "...                                           ...  \n",
       "2019             [Combination, Dry, Normal, Oily]  \n",
       "2020  [Combination, Dry, Normal, Oily, Sensitive]  \n",
       "2021  [Combination, Dry, Normal, Oily, Sensitive]  \n",
       "2022        [Combination, Dry, Normal, Sensitive]  \n",
       "2023                                       [Oily]  \n",
       "\n",
       "[2024 rows x 5 columns]"
      ],
      "text/html": "<div>\n<style scoped>\n    .dataframe tbody tr th:only-of-type {\n        vertical-align: middle;\n    }\n\n    .dataframe tbody tr th {\n        vertical-align: top;\n    }\n\n    .dataframe thead th {\n        text-align: right;\n    }\n</style>\n<table border=\"1\" class=\"dataframe\">\n  <thead>\n    <tr style=\"text-align: right;\">\n      <th></th>\n      <th>Product</th>\n      <th>Brand</th>\n      <th>Ingredients</th>\n      <th>Price</th>\n      <th>Skin_Type</th>\n    </tr>\n  </thead>\n  <tbody>\n    <tr>\n      <th>0</th>\n      <td>#InstantDetox Facial Mask</td>\n      <td>Biobelle</td>\n      <td>Water, Butylene Glycol, Glycerin, Trehalose, H...</td>\n      <td>3.99</td>\n      <td>[Oily]</td>\n    </tr>\n    <tr>\n      <th>1</th>\n      <td>#Peachy Facial Mask</td>\n      <td>Biobelle</td>\n      <td>Water, Methylpropanediol, Butylene Glycol, Gly...</td>\n      <td>3.99</td>\n      <td>[Dry]</td>\n    </tr>\n    <tr>\n      <th>2</th>\n      <td>#Rise&amp;Shine Facial Mask</td>\n      <td>Biobelle</td>\n      <td>Water, Glycerin, Butylene Glycol, Triethylhexa...</td>\n      <td>3.99</td>\n      <td>[Combination]</td>\n    </tr>\n    <tr>\n      <th>3</th>\n      <td>#RoséAllDay Facial Mask</td>\n      <td>Biobelle</td>\n      <td>Water, Methylpropanediol, Glycerin, Propanedio...</td>\n      <td>3.99</td>\n      <td>[Combination]</td>\n    </tr>\n    <tr>\n      <th>4</th>\n      <td>#VitaminSea Facial Mask</td>\n      <td>Biobelle</td>\n      <td>Water, Butylene Glycol, Glycerin, Hydroxyaceto...</td>\n      <td>3.99</td>\n      <td>[Dry]</td>\n    </tr>\n    <tr>\n      <th>...</th>\n      <td>...</td>\n      <td>...</td>\n      <td>...</td>\n      <td>...</td>\n      <td>...</td>\n    </tr>\n    <tr>\n      <th>2019</th>\n      <td>Youthful Vitamin C Fresh Radiance Essence</td>\n      <td>No7</td>\n      <td>Aqua (Water), Butylene Glycol, Glycerin, Gluco...</td>\n      <td>24.99</td>\n      <td>[Combination, Dry, Normal, Oily]</td>\n    </tr>\n    <tr>\n      <th>2020</th>\n      <td>Yuza Sorbet Day Cream</td>\n      <td>Erborian</td>\n      <td>Aqua/Water, Cyclomethicone, Glycerin, Nylon-12...</td>\n      <td>48.00</td>\n      <td>[Combination, Dry, Normal, Oily, Sensitive]</td>\n    </tr>\n    <tr>\n      <th>2021</th>\n      <td>Yuza Sorbet Night Treatment</td>\n      <td>Erborian</td>\n      <td>Aqua/Water, Cyclomethicone, Glycerin, Cetearyl...</td>\n      <td>55.00</td>\n      <td>[Combination, Dry, Normal, Oily, Sensitive]</td>\n    </tr>\n    <tr>\n      <th>2022</th>\n      <td>Yuzu Overnight Moisture Mask</td>\n      <td>Earth Therapeutics</td>\n      <td>Water (Aqua), Propanediol, Glycerin, Hydrogena...</td>\n      <td>7.00</td>\n      <td>[Combination, Dry, Normal, Sensitive]</td>\n    </tr>\n    <tr>\n      <th>2023</th>\n      <td>pHenomenal Gel</td>\n      <td>Pixi</td>\n      <td>Aqua/Water/Eau, Glycerin, Glycereth-26, Betain...</td>\n      <td>24.00</td>\n      <td>[Oily]</td>\n    </tr>\n  </tbody>\n</table>\n<p>2024 rows × 5 columns</p>\n</div>"
     },
     "metadata": {},
     "execution_count": 9
    }
   ],
   "source": [
    "Master1"
   ]
  },
  {
   "source": [
    "## 1.4 Create a 5 dummy columns for the Skin type labels\n",
    "### Turn the Skin Type column into 5 dummy columns (Oily, Dry, Normal, and Combination) to represent what skin type the product is suitable for. A value of 1 represents suitability, i.e. 1 in the Dry column means the product suits dry skin types. "
   ],
   "cell_type": "markdown",
   "metadata": {}
  },
  {
   "cell_type": "code",
   "execution_count": 11,
   "metadata": {},
   "outputs": [],
   "source": [
    "from sklearn.preprocessing import MultiLabelBinarizer\n",
    "# initialize the binarizer \n",
    "mlb=MultiLabelBinarizer()\n",
    "# transform the skin type labels\n",
    "y = mlb.fit_transform(Master1.Skin_Type)"
   ]
  },
  {
   "cell_type": "code",
   "execution_count": 12,
   "metadata": {},
   "outputs": [
    {
     "output_type": "execute_result",
     "data": {
      "text/plain": [
       "array(['Combination', 'Dry', 'Normal', 'Oily', 'Sensitive'], dtype=object)"
      ]
     },
     "metadata": {},
     "execution_count": 12
    }
   ],
   "source": [
    "mlb.classes_"
   ]
  },
  {
   "cell_type": "code",
   "execution_count": 14,
   "metadata": {},
   "outputs": [
    {
     "output_type": "stream",
     "name": "stdout",
     "text": [
      "      Combination  Dry  Normal  Oily  Sensitive\n0               0    0       0     1          0\n1               0    1       0     0          0\n2               1    0       0     0          0\n3               1    0       0     0          0\n4               0    1       0     0          0\n...           ...  ...     ...   ...        ...\n2019            1    1       1     1          0\n2020            1    1       1     1          1\n2021            1    1       1     1          1\n2022            1    1       1     0          1\n2023            0    0       0     1          0\n\n[2024 rows x 5 columns]\n"
     ]
    }
   ],
   "source": [
    "labels = pd.DataFrame(data=y, columns=[\"Combination\", \"Dry\", \"Normal\", \"Oily\", \"Sensitive\"])\n",
    "print(labels)"
   ]
  },
  {
   "cell_type": "code",
   "execution_count": 15,
   "metadata": {},
   "outputs": [],
   "source": [
    "Master1 = pd.concat([Master1, labels], axis=1, sort=False)"
   ]
  },
  {
   "cell_type": "code",
   "execution_count": 16,
   "metadata": {},
   "outputs": [
    {
     "output_type": "execute_result",
     "data": {
      "text/plain": [
       "                                        Product               Brand  \\\n",
       "0                     #InstantDetox Facial Mask            Biobelle   \n",
       "1                           #Peachy Facial Mask            Biobelle   \n",
       "2                       #Rise&Shine Facial Mask            Biobelle   \n",
       "3                       #RoséAllDay Facial Mask            Biobelle   \n",
       "4                       #VitaminSea Facial Mask            Biobelle   \n",
       "...                                         ...                 ...   \n",
       "2019  Youthful Vitamin C Fresh Radiance Essence                 No7   \n",
       "2020                      Yuza Sorbet Day Cream            Erborian   \n",
       "2021                Yuza Sorbet Night Treatment            Erborian   \n",
       "2022               Yuzu Overnight Moisture Mask  Earth Therapeutics   \n",
       "2023                             pHenomenal Gel                Pixi   \n",
       "\n",
       "                                            Ingredients  Price  \\\n",
       "0     Water, Butylene Glycol, Glycerin, Trehalose, H...   3.99   \n",
       "1     Water, Methylpropanediol, Butylene Glycol, Gly...   3.99   \n",
       "2     Water, Glycerin, Butylene Glycol, Triethylhexa...   3.99   \n",
       "3     Water, Methylpropanediol, Glycerin, Propanedio...   3.99   \n",
       "4     Water, Butylene Glycol, Glycerin, Hydroxyaceto...   3.99   \n",
       "...                                                 ...    ...   \n",
       "2019  Aqua (Water), Butylene Glycol, Glycerin, Gluco...  24.99   \n",
       "2020  Aqua/Water, Cyclomethicone, Glycerin, Nylon-12...  48.00   \n",
       "2021  Aqua/Water, Cyclomethicone, Glycerin, Cetearyl...  55.00   \n",
       "2022  Water (Aqua), Propanediol, Glycerin, Hydrogena...   7.00   \n",
       "2023  Aqua/Water/Eau, Glycerin, Glycereth-26, Betain...  24.00   \n",
       "\n",
       "                                        Skin_Type  Combination  Dry  Normal  \\\n",
       "0                                          [Oily]            0    0       0   \n",
       "1                                           [Dry]            0    1       0   \n",
       "2                                   [Combination]            1    0       0   \n",
       "3                                   [Combination]            1    0       0   \n",
       "4                                           [Dry]            0    1       0   \n",
       "...                                           ...          ...  ...     ...   \n",
       "2019             [Combination, Dry, Normal, Oily]            1    1       1   \n",
       "2020  [Combination, Dry, Normal, Oily, Sensitive]            1    1       1   \n",
       "2021  [Combination, Dry, Normal, Oily, Sensitive]            1    1       1   \n",
       "2022        [Combination, Dry, Normal, Sensitive]            1    1       1   \n",
       "2023                                       [Oily]            0    0       0   \n",
       "\n",
       "      Oily  Sensitive  \n",
       "0        1          0  \n",
       "1        0          0  \n",
       "2        0          0  \n",
       "3        0          0  \n",
       "4        0          0  \n",
       "...    ...        ...  \n",
       "2019     1          0  \n",
       "2020     1          1  \n",
       "2021     1          1  \n",
       "2022     0          1  \n",
       "2023     1          0  \n",
       "\n",
       "[2024 rows x 10 columns]"
      ],
      "text/html": "<div>\n<style scoped>\n    .dataframe tbody tr th:only-of-type {\n        vertical-align: middle;\n    }\n\n    .dataframe tbody tr th {\n        vertical-align: top;\n    }\n\n    .dataframe thead th {\n        text-align: right;\n    }\n</style>\n<table border=\"1\" class=\"dataframe\">\n  <thead>\n    <tr style=\"text-align: right;\">\n      <th></th>\n      <th>Product</th>\n      <th>Brand</th>\n      <th>Ingredients</th>\n      <th>Price</th>\n      <th>Skin_Type</th>\n      <th>Combination</th>\n      <th>Dry</th>\n      <th>Normal</th>\n      <th>Oily</th>\n      <th>Sensitive</th>\n    </tr>\n  </thead>\n  <tbody>\n    <tr>\n      <th>0</th>\n      <td>#InstantDetox Facial Mask</td>\n      <td>Biobelle</td>\n      <td>Water, Butylene Glycol, Glycerin, Trehalose, H...</td>\n      <td>3.99</td>\n      <td>[Oily]</td>\n      <td>0</td>\n      <td>0</td>\n      <td>0</td>\n      <td>1</td>\n      <td>0</td>\n    </tr>\n    <tr>\n      <th>1</th>\n      <td>#Peachy Facial Mask</td>\n      <td>Biobelle</td>\n      <td>Water, Methylpropanediol, Butylene Glycol, Gly...</td>\n      <td>3.99</td>\n      <td>[Dry]</td>\n      <td>0</td>\n      <td>1</td>\n      <td>0</td>\n      <td>0</td>\n      <td>0</td>\n    </tr>\n    <tr>\n      <th>2</th>\n      <td>#Rise&amp;Shine Facial Mask</td>\n      <td>Biobelle</td>\n      <td>Water, Glycerin, Butylene Glycol, Triethylhexa...</td>\n      <td>3.99</td>\n      <td>[Combination]</td>\n      <td>1</td>\n      <td>0</td>\n      <td>0</td>\n      <td>0</td>\n      <td>0</td>\n    </tr>\n    <tr>\n      <th>3</th>\n      <td>#RoséAllDay Facial Mask</td>\n      <td>Biobelle</td>\n      <td>Water, Methylpropanediol, Glycerin, Propanedio...</td>\n      <td>3.99</td>\n      <td>[Combination]</td>\n      <td>1</td>\n      <td>0</td>\n      <td>0</td>\n      <td>0</td>\n      <td>0</td>\n    </tr>\n    <tr>\n      <th>4</th>\n      <td>#VitaminSea Facial Mask</td>\n      <td>Biobelle</td>\n      <td>Water, Butylene Glycol, Glycerin, Hydroxyaceto...</td>\n      <td>3.99</td>\n      <td>[Dry]</td>\n      <td>0</td>\n      <td>1</td>\n      <td>0</td>\n      <td>0</td>\n      <td>0</td>\n    </tr>\n    <tr>\n      <th>...</th>\n      <td>...</td>\n      <td>...</td>\n      <td>...</td>\n      <td>...</td>\n      <td>...</td>\n      <td>...</td>\n      <td>...</td>\n      <td>...</td>\n      <td>...</td>\n      <td>...</td>\n    </tr>\n    <tr>\n      <th>2019</th>\n      <td>Youthful Vitamin C Fresh Radiance Essence</td>\n      <td>No7</td>\n      <td>Aqua (Water), Butylene Glycol, Glycerin, Gluco...</td>\n      <td>24.99</td>\n      <td>[Combination, Dry, Normal, Oily]</td>\n      <td>1</td>\n      <td>1</td>\n      <td>1</td>\n      <td>1</td>\n      <td>0</td>\n    </tr>\n    <tr>\n      <th>2020</th>\n      <td>Yuza Sorbet Day Cream</td>\n      <td>Erborian</td>\n      <td>Aqua/Water, Cyclomethicone, Glycerin, Nylon-12...</td>\n      <td>48.00</td>\n      <td>[Combination, Dry, Normal, Oily, Sensitive]</td>\n      <td>1</td>\n      <td>1</td>\n      <td>1</td>\n      <td>1</td>\n      <td>1</td>\n    </tr>\n    <tr>\n      <th>2021</th>\n      <td>Yuza Sorbet Night Treatment</td>\n      <td>Erborian</td>\n      <td>Aqua/Water, Cyclomethicone, Glycerin, Cetearyl...</td>\n      <td>55.00</td>\n      <td>[Combination, Dry, Normal, Oily, Sensitive]</td>\n      <td>1</td>\n      <td>1</td>\n      <td>1</td>\n      <td>1</td>\n      <td>1</td>\n    </tr>\n    <tr>\n      <th>2022</th>\n      <td>Yuzu Overnight Moisture Mask</td>\n      <td>Earth Therapeutics</td>\n      <td>Water (Aqua), Propanediol, Glycerin, Hydrogena...</td>\n      <td>7.00</td>\n      <td>[Combination, Dry, Normal, Sensitive]</td>\n      <td>1</td>\n      <td>1</td>\n      <td>1</td>\n      <td>0</td>\n      <td>1</td>\n    </tr>\n    <tr>\n      <th>2023</th>\n      <td>pHenomenal Gel</td>\n      <td>Pixi</td>\n      <td>Aqua/Water/Eau, Glycerin, Glycereth-26, Betain...</td>\n      <td>24.00</td>\n      <td>[Oily]</td>\n      <td>0</td>\n      <td>0</td>\n      <td>0</td>\n      <td>1</td>\n      <td>0</td>\n    </tr>\n  </tbody>\n</table>\n<p>2024 rows × 10 columns</p>\n</div>"
     },
     "metadata": {},
     "execution_count": 16
    }
   ],
   "source": [
    "Master1"
   ]
  },
  {
   "source": [
    "## 1.5 Save Master1 as a csv file "
   ],
   "cell_type": "markdown",
   "metadata": {}
  },
  {
   "cell_type": "code",
   "execution_count": 17,
   "metadata": {},
   "outputs": [],
   "source": [
    "# save dataframe as Master\n",
    "Master1.to_csv('Master_uncleaned.csv', index= False)"
   ]
  },
  {
   "source": [
    "### The dataset is now ready for ingredient preprocessing and matching. This process will be documented in a following notebook. "
   ],
   "cell_type": "markdown",
   "metadata": {}
  }
 ]
}