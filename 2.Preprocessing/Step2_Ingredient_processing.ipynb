{
 "metadata": {
  "language_info": {
   "codemirror_mode": {
    "name": "ipython",
    "version": 3
   },
   "file_extension": ".py",
   "mimetype": "text/x-python",
   "name": "python",
   "nbconvert_exporter": "python",
   "pygments_lexer": "ipython3",
   "version": "3.8.3-final"
  },
  "orig_nbformat": 2,
  "kernelspec": {
   "name": "python3",
   "display_name": "Python 3.8.3 64-bit ('base': conda)",
   "metadata": {
    "interpreter": {
     "hash": "f85c0ae1067a86ad6a96b144378883e79fd1516474b579ba33ee3a7084540002"
    }
   }
  }
 },
 "nbformat": 4,
 "nbformat_minor": 2,
 "cells": [
  {
   "cell_type": "code",
   "execution_count": 2,
   "metadata": {},
   "outputs": [],
   "source": [
    "import numpy as np \n",
    "import pandas as pd\n",
    "import csv \n",
    "import difflib\n",
    "import itertools\n",
    "import operator\n",
    "\n",
    "import os \n",
    "os.chdir(\"/Users/susanchen/Documents/GitHub/skincare_classification/Data_sets\")"
   ]
  },
  {
   "source": [
    "### This notebook will accomplish two preprocessing steps: Ingredients cleaning and Ingredients matching. The general steps in each process is listed below.\n",
    "\n",
    "### Ingredients Cleaning:\n",
    "- 2.1 Split ingredients into active and inactive \n",
    "- 2.2 Find number of inactive and active ingredients (if possible)\n",
    "- 2.3 Check if ingredients are listed alphabetically \n",
    "\n",
    "### Ingredients Matching:\n",
    "- 2.4 Create two dictionaries containing the ingredient name as the key and the rating and category as values respectively\n",
    "- 2.5 Find the matching key of all these ingredient from our dictionary \n",
    "- 2.6 For all products loop over the ingredient list and find each ingredient's rating and category \n",
    "- 2.7 For all products, count how many ingredients belong to a certain category (antioxidants, emulsifiers,  emollients, etc)\n",
    "- 2.8 For all products, find the top 3 ingredients by concentration\n",
    "- 2.9 Clean up prices "
   ],
   "cell_type": "markdown",
   "metadata": {}
  },
  {
   "source": [
    "## 2.0 Load the 2 datafiles "
   ],
   "cell_type": "markdown",
   "metadata": {}
  },
  {
   "cell_type": "code",
   "execution_count": 3,
   "metadata": {},
   "outputs": [],
   "source": [
    "ingredientInfo = pd.read_csv('ingredient_cleaned.txt', sep = \",\")\n",
    "df = pd.read_csv('Master_uncleaned.csv')"
   ]
  },
  {
   "cell_type": "code",
   "execution_count": 4,
   "metadata": {},
   "outputs": [],
   "source": [
    "cat_list =[]\n",
    "for i in ingredientInfo.category.values:\n",
    "    i = i.replace(\"['\", \"\").replace(\"']\", '').replace(\"'\", '')\n",
    "    cat_list.append(str(i)) "
   ]
  },
  {
   "cell_type": "code",
   "execution_count": 5,
   "metadata": {},
   "outputs": [
    {
     "output_type": "execute_result",
     "data": {
      "text/plain": [
       "                        name  \\\n",
       "0            1, 2-Hexanediol   \n",
       "1    10-Hydroxydecanoic Acid   \n",
       "2      4-T-butylcyclohexanol   \n",
       "3  Acacia farnesiana extract   \n",
       "4         acacia senegal gum   \n",
       "\n",
       "                                            category rating  rating_num  \\\n",
       "0                                  ['Preservatives']   Good           2   \n",
       "1                                     ['Emollients']   Good           2   \n",
       "2                    ['Emollients', 'Skin-Soothing']   Good           2   \n",
       "3  ['Plant Extracts', 'Fragrance: Synthetic and F...   Poor           0   \n",
       "4  ['Texture Enhancer', 'Plant Extracts', 'Skin-S...   Good           2   \n",
       "\n",
       "                                            Category  \n",
       "0                                      Preservatives  \n",
       "1                                         Emollients  \n",
       "2                          Emollients, Skin-Soothing  \n",
       "3  Plant Extracts, Fragrance: Synthetic and Fragr...  \n",
       "4    Texture Enhancer, Plant Extracts, Skin-Soothing  "
      ],
      "text/html": "<div>\n<style scoped>\n    .dataframe tbody tr th:only-of-type {\n        vertical-align: middle;\n    }\n\n    .dataframe tbody tr th {\n        vertical-align: top;\n    }\n\n    .dataframe thead th {\n        text-align: right;\n    }\n</style>\n<table border=\"1\" class=\"dataframe\">\n  <thead>\n    <tr style=\"text-align: right;\">\n      <th></th>\n      <th>name</th>\n      <th>category</th>\n      <th>rating</th>\n      <th>rating_num</th>\n      <th>Category</th>\n    </tr>\n  </thead>\n  <tbody>\n    <tr>\n      <th>0</th>\n      <td>1, 2-Hexanediol</td>\n      <td>['Preservatives']</td>\n      <td>Good</td>\n      <td>2</td>\n      <td>Preservatives</td>\n    </tr>\n    <tr>\n      <th>1</th>\n      <td>10-Hydroxydecanoic Acid</td>\n      <td>['Emollients']</td>\n      <td>Good</td>\n      <td>2</td>\n      <td>Emollients</td>\n    </tr>\n    <tr>\n      <th>2</th>\n      <td>4-T-butylcyclohexanol</td>\n      <td>['Emollients', 'Skin-Soothing']</td>\n      <td>Good</td>\n      <td>2</td>\n      <td>Emollients, Skin-Soothing</td>\n    </tr>\n    <tr>\n      <th>3</th>\n      <td>Acacia farnesiana extract</td>\n      <td>['Plant Extracts', 'Fragrance: Synthetic and F...</td>\n      <td>Poor</td>\n      <td>0</td>\n      <td>Plant Extracts, Fragrance: Synthetic and Fragr...</td>\n    </tr>\n    <tr>\n      <th>4</th>\n      <td>acacia senegal gum</td>\n      <td>['Texture Enhancer', 'Plant Extracts', 'Skin-S...</td>\n      <td>Good</td>\n      <td>2</td>\n      <td>Texture Enhancer, Plant Extracts, Skin-Soothing</td>\n    </tr>\n  </tbody>\n</table>\n</div>"
     },
     "metadata": {},
     "execution_count": 5
    }
   ],
   "source": [
    "ingredientInfo[\"Category\"] = cat_list\n",
    "ingredientInfo.head()"
   ]
  },
  {
   "cell_type": "code",
   "execution_count": 6,
   "metadata": {},
   "outputs": [
    {
     "output_type": "execute_result",
     "data": {
      "text/plain": [
       "                     Product     Brand  \\\n",
       "0  #InstantDetox Facial Mask  Biobelle   \n",
       "1        #Peachy Facial Mask  Biobelle   \n",
       "2    #Rise&Shine Facial Mask  Biobelle   \n",
       "3    #RoséAllDay Facial Mask  Biobelle   \n",
       "4    #VitaminSea Facial Mask  Biobelle   \n",
       "\n",
       "                                         Ingredients Price        Skin_Type  \n",
       "0  Water, Butylene Glycol, Glycerin, Trehalose, H...  3.99         ['Oily']  \n",
       "1  Water, Methylpropanediol, Butylene Glycol, Gly...  3.99          ['Dry']  \n",
       "2  Water, Glycerin, Butylene Glycol, Triethylhexa...  3.99  ['Combination']  \n",
       "3  Water, Methylpropanediol, Glycerin, Propanedio...  3.99  ['Combination']  \n",
       "4  Water, Butylene Glycol, Glycerin, Hydroxyaceto...  3.99          ['Dry']  "
      ],
      "text/html": "<div>\n<style scoped>\n    .dataframe tbody tr th:only-of-type {\n        vertical-align: middle;\n    }\n\n    .dataframe tbody tr th {\n        vertical-align: top;\n    }\n\n    .dataframe thead th {\n        text-align: right;\n    }\n</style>\n<table border=\"1\" class=\"dataframe\">\n  <thead>\n    <tr style=\"text-align: right;\">\n      <th></th>\n      <th>Product</th>\n      <th>Brand</th>\n      <th>Ingredients</th>\n      <th>Price</th>\n      <th>Skin_Type</th>\n    </tr>\n  </thead>\n  <tbody>\n    <tr>\n      <th>0</th>\n      <td>#InstantDetox Facial Mask</td>\n      <td>Biobelle</td>\n      <td>Water, Butylene Glycol, Glycerin, Trehalose, H...</td>\n      <td>3.99</td>\n      <td>['Oily']</td>\n    </tr>\n    <tr>\n      <th>1</th>\n      <td>#Peachy Facial Mask</td>\n      <td>Biobelle</td>\n      <td>Water, Methylpropanediol, Butylene Glycol, Gly...</td>\n      <td>3.99</td>\n      <td>['Dry']</td>\n    </tr>\n    <tr>\n      <th>2</th>\n      <td>#Rise&amp;Shine Facial Mask</td>\n      <td>Biobelle</td>\n      <td>Water, Glycerin, Butylene Glycol, Triethylhexa...</td>\n      <td>3.99</td>\n      <td>['Combination']</td>\n    </tr>\n    <tr>\n      <th>3</th>\n      <td>#RoséAllDay Facial Mask</td>\n      <td>Biobelle</td>\n      <td>Water, Methylpropanediol, Glycerin, Propanedio...</td>\n      <td>3.99</td>\n      <td>['Combination']</td>\n    </tr>\n    <tr>\n      <th>4</th>\n      <td>#VitaminSea Facial Mask</td>\n      <td>Biobelle</td>\n      <td>Water, Butylene Glycol, Glycerin, Hydroxyaceto...</td>\n      <td>3.99</td>\n      <td>['Dry']</td>\n    </tr>\n  </tbody>\n</table>\n</div>"
     },
     "metadata": {},
     "execution_count": 6
    }
   ],
   "source": [
    "df.head()"
   ]
  },
  {
   "source": [
    "## 2.1 Split Ingredients into Active and Inactive\n",
    "\n",
    "### It is a required standard to label ingredients in beauty and hygienic products as active and inactive if the product fall within in two categories. Those two categories are mandated by the FDA as (1) if the product contains ingredients are FDA classified drugs or (2) the product claims to have some medical benefit. In contract, if a product does not contain FDA classifed drugs or does not claim to have medical benefits, then its ingredients are consider to be comestic ingredients. Cosmetic products do not need to label their comestic ingredients as active or inactive, all ingredients can be listed in a single area on the label. The FDA only requires manufacturers to list cosmetic ingredients in order of the amount/concentration present, from highest to lowest."
   ],
   "cell_type": "markdown",
   "metadata": {}
  },
  {
   "cell_type": "code",
   "execution_count": 8,
   "metadata": {},
   "outputs": [],
   "source": [
    "def split_by_active_inactive(sr_ingredient):\n",
    "            inactive_start = pd.concat([sr_ingredient.str.find('Other'),\n",
    "                                       sr_ingredient.str.find('Inactive')],\n",
    "                                       axis=1).max(axis=1)\n",
    "            \n",
    "            inactive_start = inactive_start.replace(-1, 0)\n",
    "            inactive = [ingredient[start:] for (ingredient, start) in zip(sr_ingredient, inactive_start)]\n",
    "            inactive = [ingredient[ingredient.find(':')+1:] for ingredient in inactive]                           \n",
    "            active = [ingredient[:start] for (ingredient, start) in zip(sr_ingredient, inactive_start)]\n",
    "            active = [ingredient[ingredient.rfind(':')+1:] for ingredient in active]\n",
    "            return active, inactive "
   ]
  },
  {
   "source": [
    "## 2.3 Check if Ingredients are in alphabetically order. \n",
    "\n",
    "### Comestic products can label their ingredients in two ways: alphabetically or by concentration. Althought the latter (by concentration) is the standard, we still need to check. If ingredients are listed by concentration, we will then use this information to find the top 3 ingredients (excluding water) in step 2.8. \n"
   ],
   "cell_type": "markdown",
   "metadata": {}
  },
  {
   "cell_type": "code",
   "execution_count": 9,
   "metadata": {},
   "outputs": [],
   "source": [
    "def check_alphabetical(ingredient_list, tol = 1):\n",
    "            if (len(ingredient_list)) <= tol:\n",
    "                return True \n",
    "            for i in range(len(ingredient_list) - 1):\n",
    "                if ingredient_list[i] > ingredient_list[i+1]:\n",
    "                    return False \n",
    "            return True "
   ]
  },
  {
   "source": [
    "## All together:"
   ],
   "cell_type": "markdown",
   "metadata": {}
  },
  {
   "cell_type": "code",
   "execution_count": 10,
   "metadata": {},
   "outputs": [],
   "source": [
    "class data_cleaning: \n",
    "    def __init__(self, df):\n",
    "        self.df = df.copy(deep = True)\n",
    "\n",
    "    def clean_ingredients(self):\n",
    "        def split_by_active_inactive(sr_ingredient):\n",
    "            inactive_start = pd.concat([sr_ingredient.str.find('Other'),\n",
    "                                       sr_ingredient.str.find('Inactive')],\n",
    "                                       axis=1).max(axis=1)\n",
    "            \n",
    "            inactive_start = inactive_start.replace(-1, 0)\n",
    "            inactive = [ingredient[start:] for (ingredient, start) in zip(sr_ingredient, inactive_start)]\n",
    "            inactive = [ingredient[ingredient.find(':')+1:] for ingredient in inactive]                           \n",
    "            active = [ingredient[:start] for (ingredient, start) in zip(sr_ingredient, inactive_start)]\n",
    "            active = [ingredient[ingredient.rfind(':')+1:] for ingredient in active]\n",
    "            return active, inactive \n",
    "\n",
    "        def check_alphabetical(ingredient_list, tol = 1):\n",
    "            if (len(ingredient_list)) <= tol:\n",
    "                return True \n",
    "            for i in range(len(ingredient_list) - 1):\n",
    "                if ingredient_list[i] > ingredient_list[i+1]:\n",
    "                    return False \n",
    "            return True \n",
    "                \n",
    "        \n",
    "        self.df[\"Ingredients\"].fillna('', inplace = True)\n",
    "        self.df['active_ingredient'], self.df['inactive_ingredient']= split_by_active_inactive(self.df['Ingredients'])\n",
    "        \n",
    "        self.df['active_ingredient_list'] = self.df['active_ingredient'].apply(lambda x: [l.strip() for l in str(x).split(',') if l.lower().islower()])\n",
    "        self.df['inactive_ingredient_list'] = self.df['inactive_ingredient'].apply(lambda x: [l.strip() for l in str(x).split(',') if l.lower().islower()])\n",
    "\n",
    "        self.df[\"num_inactive_ingredients\"] = self.df[\"inactive_ingredient_list\"].apply(lambda x: len(x))\n",
    "        self.df[\"num_active_ingredients\"] = self.df[\"active_ingredient_list\"].apply(lambda x: len (x))\n",
    "        self.df[\"Is_alphabetical\"] = self.df[\"inactive_ingredient_list\"].apply(check_alphabetical)\n",
    "\n",
    "\n",
    "    def clean(self):\n",
    "        self.clean_ingredients()\n",
    "\n",
    "    def get_df(self):\n",
    "        return self.df"
   ]
  },
  {
   "cell_type": "code",
   "execution_count": 11,
   "metadata": {},
   "outputs": [
    {
     "output_type": "execute_result",
     "data": {
      "text/plain": [
       "                                        Product               Brand  \\\n",
       "0                     #InstantDetox Facial Mask            Biobelle   \n",
       "1                           #Peachy Facial Mask            Biobelle   \n",
       "2                       #Rise&Shine Facial Mask            Biobelle   \n",
       "3                       #RoséAllDay Facial Mask            Biobelle   \n",
       "4                       #VitaminSea Facial Mask            Biobelle   \n",
       "...                                         ...                 ...   \n",
       "2019  Youthful Vitamin C Fresh Radiance Essence                 No7   \n",
       "2020                      Yuza Sorbet Day Cream            Erborian   \n",
       "2021                Yuza Sorbet Night Treatment            Erborian   \n",
       "2022               Yuzu Overnight Moisture Mask  Earth Therapeutics   \n",
       "2023                             pHenomenal Gel                Pixi   \n",
       "\n",
       "                                            Ingredients  Price  \\\n",
       "0     Water, Butylene Glycol, Glycerin, Trehalose, H...   3.99   \n",
       "1     Water, Methylpropanediol, Butylene Glycol, Gly...   3.99   \n",
       "2     Water, Glycerin, Butylene Glycol, Triethylhexa...   3.99   \n",
       "3     Water, Methylpropanediol, Glycerin, Propanedio...   3.99   \n",
       "4     Water, Butylene Glycol, Glycerin, Hydroxyaceto...   3.99   \n",
       "...                                                 ...    ...   \n",
       "2019  Aqua (Water), Butylene Glycol, Glycerin, Gluco...  24.99   \n",
       "2020  Aqua/Water, Cyclomethicone, Glycerin, Nylon-12...  48.00   \n",
       "2021  Aqua/Water, Cyclomethicone, Glycerin, Cetearyl...  55.00   \n",
       "2022  Water (Aqua), Propanediol, Glycerin, Hydrogena...   7.00   \n",
       "2023  Aqua/Water/Eau, Glycerin, Glycereth-26, Betain...  24.00   \n",
       "\n",
       "                                              Skin_Type active_ingredient  \\\n",
       "0                                              ['Oily']                     \n",
       "1                                               ['Dry']                     \n",
       "2                                       ['Combination']                     \n",
       "3                                       ['Combination']                     \n",
       "4                                               ['Dry']                     \n",
       "...                                                 ...               ...   \n",
       "2019           ['Dry', 'Oily', 'Combination', 'Normal']                     \n",
       "2020  ['Oily', 'Normal', 'Sensitive', 'Combination',...                     \n",
       "2021  ['Oily', 'Normal', 'Sensitive', 'Combination',...                     \n",
       "2022      ['Dry', 'Normal', 'Sensitive', 'Combination']                     \n",
       "2023                                           ['Oily']                     \n",
       "\n",
       "                                    inactive_ingredient  \\\n",
       "0     Water, Butylene Glycol, Glycerin, Trehalose, H...   \n",
       "1     Water, Methylpropanediol, Butylene Glycol, Gly...   \n",
       "2     Water, Glycerin, Butylene Glycol, Triethylhexa...   \n",
       "3     Water, Methylpropanediol, Glycerin, Propanedio...   \n",
       "4     Water, Butylene Glycol, Glycerin, Hydroxyaceto...   \n",
       "...                                                 ...   \n",
       "2019  Aqua (Water), Butylene Glycol, Glycerin, Gluco...   \n",
       "2020  Aqua/Water, Cyclomethicone, Glycerin, Nylon-12...   \n",
       "2021  Aqua/Water, Cyclomethicone, Glycerin, Cetearyl...   \n",
       "2022  Water (Aqua), Propanediol, Glycerin, Hydrogena...   \n",
       "2023  Aqua/Water/Eau, Glycerin, Glycereth-26, Betain...   \n",
       "\n",
       "     active_ingredient_list  \\\n",
       "0                        []   \n",
       "1                        []   \n",
       "2                        []   \n",
       "3                        []   \n",
       "4                        []   \n",
       "...                     ...   \n",
       "2019                     []   \n",
       "2020                     []   \n",
       "2021                     []   \n",
       "2022                     []   \n",
       "2023                     []   \n",
       "\n",
       "                               inactive_ingredient_list  \\\n",
       "0     [Water, Butylene Glycol, Glycerin, Trehalose, ...   \n",
       "1     [Water, Methylpropanediol, Butylene Glycol, Gl...   \n",
       "2     [Water, Glycerin, Butylene Glycol, Triethylhex...   \n",
       "3     [Water, Methylpropanediol, Glycerin, Propanedi...   \n",
       "4     [Water, Butylene Glycol, Glycerin, Hydroxyacet...   \n",
       "...                                                 ...   \n",
       "2019  [Aqua (Water), Butylene Glycol, Glycerin, Gluc...   \n",
       "2020  [Aqua/Water, Cyclomethicone, Glycerin, Nylon-1...   \n",
       "2021  [Aqua/Water, Cyclomethicone, Glycerin, Ceteary...   \n",
       "2022  [Water (Aqua), Propanediol, Glycerin, Hydrogen...   \n",
       "2023  [Aqua/Water/Eau, Glycerin, Glycereth-26, Betai...   \n",
       "\n",
       "      num_inactive_ingredients  num_active_ingredients  Is_alphabetical  \n",
       "0                           23                       0            False  \n",
       "1                           20                       0            False  \n",
       "2                           33                       0            False  \n",
       "3                           31                       0            False  \n",
       "4                           24                       0            False  \n",
       "...                        ...                     ...              ...  \n",
       "2019                        18                       0            False  \n",
       "2020                        33                       0            False  \n",
       "2021                        15                       0            False  \n",
       "2022                        41                       0            False  \n",
       "2023                        31                       0            False  \n",
       "\n",
       "[2024 rows x 12 columns]"
      ],
      "text/html": "<div>\n<style scoped>\n    .dataframe tbody tr th:only-of-type {\n        vertical-align: middle;\n    }\n\n    .dataframe tbody tr th {\n        vertical-align: top;\n    }\n\n    .dataframe thead th {\n        text-align: right;\n    }\n</style>\n<table border=\"1\" class=\"dataframe\">\n  <thead>\n    <tr style=\"text-align: right;\">\n      <th></th>\n      <th>Product</th>\n      <th>Brand</th>\n      <th>Ingredients</th>\n      <th>Price</th>\n      <th>Skin_Type</th>\n      <th>active_ingredient</th>\n      <th>inactive_ingredient</th>\n      <th>active_ingredient_list</th>\n      <th>inactive_ingredient_list</th>\n      <th>num_inactive_ingredients</th>\n      <th>num_active_ingredients</th>\n      <th>Is_alphabetical</th>\n    </tr>\n  </thead>\n  <tbody>\n    <tr>\n      <th>0</th>\n      <td>#InstantDetox Facial Mask</td>\n      <td>Biobelle</td>\n      <td>Water, Butylene Glycol, Glycerin, Trehalose, H...</td>\n      <td>3.99</td>\n      <td>['Oily']</td>\n      <td></td>\n      <td>Water, Butylene Glycol, Glycerin, Trehalose, H...</td>\n      <td>[]</td>\n      <td>[Water, Butylene Glycol, Glycerin, Trehalose, ...</td>\n      <td>23</td>\n      <td>0</td>\n      <td>False</td>\n    </tr>\n    <tr>\n      <th>1</th>\n      <td>#Peachy Facial Mask</td>\n      <td>Biobelle</td>\n      <td>Water, Methylpropanediol, Butylene Glycol, Gly...</td>\n      <td>3.99</td>\n      <td>['Dry']</td>\n      <td></td>\n      <td>Water, Methylpropanediol, Butylene Glycol, Gly...</td>\n      <td>[]</td>\n      <td>[Water, Methylpropanediol, Butylene Glycol, Gl...</td>\n      <td>20</td>\n      <td>0</td>\n      <td>False</td>\n    </tr>\n    <tr>\n      <th>2</th>\n      <td>#Rise&amp;Shine Facial Mask</td>\n      <td>Biobelle</td>\n      <td>Water, Glycerin, Butylene Glycol, Triethylhexa...</td>\n      <td>3.99</td>\n      <td>['Combination']</td>\n      <td></td>\n      <td>Water, Glycerin, Butylene Glycol, Triethylhexa...</td>\n      <td>[]</td>\n      <td>[Water, Glycerin, Butylene Glycol, Triethylhex...</td>\n      <td>33</td>\n      <td>0</td>\n      <td>False</td>\n    </tr>\n    <tr>\n      <th>3</th>\n      <td>#RoséAllDay Facial Mask</td>\n      <td>Biobelle</td>\n      <td>Water, Methylpropanediol, Glycerin, Propanedio...</td>\n      <td>3.99</td>\n      <td>['Combination']</td>\n      <td></td>\n      <td>Water, Methylpropanediol, Glycerin, Propanedio...</td>\n      <td>[]</td>\n      <td>[Water, Methylpropanediol, Glycerin, Propanedi...</td>\n      <td>31</td>\n      <td>0</td>\n      <td>False</td>\n    </tr>\n    <tr>\n      <th>4</th>\n      <td>#VitaminSea Facial Mask</td>\n      <td>Biobelle</td>\n      <td>Water, Butylene Glycol, Glycerin, Hydroxyaceto...</td>\n      <td>3.99</td>\n      <td>['Dry']</td>\n      <td></td>\n      <td>Water, Butylene Glycol, Glycerin, Hydroxyaceto...</td>\n      <td>[]</td>\n      <td>[Water, Butylene Glycol, Glycerin, Hydroxyacet...</td>\n      <td>24</td>\n      <td>0</td>\n      <td>False</td>\n    </tr>\n    <tr>\n      <th>...</th>\n      <td>...</td>\n      <td>...</td>\n      <td>...</td>\n      <td>...</td>\n      <td>...</td>\n      <td>...</td>\n      <td>...</td>\n      <td>...</td>\n      <td>...</td>\n      <td>...</td>\n      <td>...</td>\n      <td>...</td>\n    </tr>\n    <tr>\n      <th>2019</th>\n      <td>Youthful Vitamin C Fresh Radiance Essence</td>\n      <td>No7</td>\n      <td>Aqua (Water), Butylene Glycol, Glycerin, Gluco...</td>\n      <td>24.99</td>\n      <td>['Dry', 'Oily', 'Combination', 'Normal']</td>\n      <td></td>\n      <td>Aqua (Water), Butylene Glycol, Glycerin, Gluco...</td>\n      <td>[]</td>\n      <td>[Aqua (Water), Butylene Glycol, Glycerin, Gluc...</td>\n      <td>18</td>\n      <td>0</td>\n      <td>False</td>\n    </tr>\n    <tr>\n      <th>2020</th>\n      <td>Yuza Sorbet Day Cream</td>\n      <td>Erborian</td>\n      <td>Aqua/Water, Cyclomethicone, Glycerin, Nylon-12...</td>\n      <td>48.00</td>\n      <td>['Oily', 'Normal', 'Sensitive', 'Combination',...</td>\n      <td></td>\n      <td>Aqua/Water, Cyclomethicone, Glycerin, Nylon-12...</td>\n      <td>[]</td>\n      <td>[Aqua/Water, Cyclomethicone, Glycerin, Nylon-1...</td>\n      <td>33</td>\n      <td>0</td>\n      <td>False</td>\n    </tr>\n    <tr>\n      <th>2021</th>\n      <td>Yuza Sorbet Night Treatment</td>\n      <td>Erborian</td>\n      <td>Aqua/Water, Cyclomethicone, Glycerin, Cetearyl...</td>\n      <td>55.00</td>\n      <td>['Oily', 'Normal', 'Sensitive', 'Combination',...</td>\n      <td></td>\n      <td>Aqua/Water, Cyclomethicone, Glycerin, Cetearyl...</td>\n      <td>[]</td>\n      <td>[Aqua/Water, Cyclomethicone, Glycerin, Ceteary...</td>\n      <td>15</td>\n      <td>0</td>\n      <td>False</td>\n    </tr>\n    <tr>\n      <th>2022</th>\n      <td>Yuzu Overnight Moisture Mask</td>\n      <td>Earth Therapeutics</td>\n      <td>Water (Aqua), Propanediol, Glycerin, Hydrogena...</td>\n      <td>7.00</td>\n      <td>['Dry', 'Normal', 'Sensitive', 'Combination']</td>\n      <td></td>\n      <td>Water (Aqua), Propanediol, Glycerin, Hydrogena...</td>\n      <td>[]</td>\n      <td>[Water (Aqua), Propanediol, Glycerin, Hydrogen...</td>\n      <td>41</td>\n      <td>0</td>\n      <td>False</td>\n    </tr>\n    <tr>\n      <th>2023</th>\n      <td>pHenomenal Gel</td>\n      <td>Pixi</td>\n      <td>Aqua/Water/Eau, Glycerin, Glycereth-26, Betain...</td>\n      <td>24.00</td>\n      <td>['Oily']</td>\n      <td></td>\n      <td>Aqua/Water/Eau, Glycerin, Glycereth-26, Betain...</td>\n      <td>[]</td>\n      <td>[Aqua/Water/Eau, Glycerin, Glycereth-26, Betai...</td>\n      <td>31</td>\n      <td>0</td>\n      <td>False</td>\n    </tr>\n  </tbody>\n</table>\n<p>2024 rows × 12 columns</p>\n</div>"
     },
     "metadata": {},
     "execution_count": 11
    }
   ],
   "source": [
    "data_cleaner= data_cleaning(df)\n",
    "data_cleaner.clean()\n",
    "df_cleaned = data_cleaner.get_df()\n",
    "df_cleaned"
   ]
  },
  {
   "source": [
    "## 2.4 Create the rating and category dictionaries "
   ],
   "cell_type": "markdown",
   "metadata": {}
  },
  {
   "cell_type": "code",
   "execution_count": 12,
   "metadata": {},
   "outputs": [],
   "source": [
    "ingredients_rating_dict = {name.lower(): row['rating_num'] for (idx, row) in ingredientInfo.iterrows() for name in row[\"name\"].split('/')}"
   ]
  },
  {
   "cell_type": "code",
   "execution_count": 13,
   "metadata": {},
   "outputs": [],
   "source": [
    "ingredients_category_dict = {name.lower(): row[\"Category\"] for (idx, row) in ingredientInfo.iterrows() for name in row[\"name\"].split('/')}"
   ]
  },
  {
   "source": [
    "## 2.5 Ingredient Matching \n",
    "### Create a set of all unique ingredients in our dataframe. Use this set to build the matching dictionary. "
   ],
   "cell_type": "markdown",
   "metadata": {}
  },
  {
   "cell_type": "code",
   "execution_count": 14,
   "metadata": {},
   "outputs": [],
   "source": [
    "all_ingredients = set(list(itertools.chain(*df_cleaned['inactive_ingredient_list'].values)))"
   ]
  },
  {
   "cell_type": "code",
   "execution_count": 15,
   "metadata": {},
   "outputs": [],
   "source": [
    "Match_dict={}\n",
    "for ingredient in all_ingredients:\n",
    "    match_matric = {key: difflib.SequenceMatcher(None, key, ingredient).ratio() for key in ingredients_category_dict.keys()} \n",
    "    best_match, best_metric = max(match_matric.items(), key = operator.itemgetter(1))\n",
    "\n",
    "    if best_metric > .5:\n",
    "        Match_dict[ingredient.lower()] = best_match\n",
    "    else: \n",
    "        Match_dict[ingredient.lower()] = \"unknown\" "
   ]
  },
  {
   "cell_type": "code",
   "execution_count": 16,
   "metadata": {},
   "outputs": [],
   "source": [
    "Match_ratings = {}\n",
    "Match_categories ={}\n",
    "for k in Match_dict.keys():\n",
    "    if k in ingredients_rating_dict.keys():\n",
    "        Match_ratings[k] = ingredients_rating_dict.get(k)\n",
    "        Match_categories[k] = ingredients_category_dict.get(k).replace(\"[\", '').replace(\"]\", '').split(\",\")\n"
   ]
  },
  {
   "source": [
    "## 2.6 Map over the Ingredient rating and category(s)\n",
    "### For all products loop over the ingredient list and find each ingredient's rating and category "
   ],
   "cell_type": "markdown",
   "metadata": {}
  },
  {
   "cell_type": "code",
   "execution_count": 17,
   "metadata": {},
   "outputs": [],
   "source": [
    "category_list = []\n",
    "ratings_list = []\n",
    "for Ingredients in df_cleaned['inactive_ingredient_list'].values:\n",
    "    temp_list = []\n",
    "    temp_list2 = []\n",
    "    for i in Ingredients:\n",
    "        i = i.lower()\n",
    "        temp_list.append(Match_ratings.get(i))\n",
    "        temp_list2.append(Match_categories.get(i))\n",
    "    ratings_list.append(temp_list)\n",
    "    category_list.append(temp_list2)\n",
    "\n",
    "df_cleaned[\"ingredients_ratings_list\"] = ratings_list\n",
    "df_cleaned[\"ingredients_category_list\"] = category_list"
   ]
  },
  {
   "source": [
    "## The ingredient category list as of right now is 2 dimensional list. We need it to be 1 dimensional."
   ],
   "cell_type": "markdown",
   "metadata": {}
  },
  {
   "cell_type": "code",
   "execution_count": 18,
   "metadata": {},
   "outputs": [],
   "source": [
    "from iteration_utilities import deepflatten\n",
    "flatten_list = []\n",
    "for i in range(len(df_cleaned.ingredients_category_list)):\n",
    "    flat = list(deepflatten(df_cleaned[\"ingredients_category_list\"][i], depth =1))\n",
    "    flatten_list.append(flat)"
   ]
  },
  {
   "cell_type": "code",
   "execution_count": 19,
   "metadata": {},
   "outputs": [
    {
     "output_type": "execute_result",
     "data": {
      "text/plain": [
       "                                        Product               Brand  \\\n",
       "0                     #InstantDetox Facial Mask            Biobelle   \n",
       "1                           #Peachy Facial Mask            Biobelle   \n",
       "2                       #Rise&Shine Facial Mask            Biobelle   \n",
       "3                       #RoséAllDay Facial Mask            Biobelle   \n",
       "4                       #VitaminSea Facial Mask            Biobelle   \n",
       "...                                         ...                 ...   \n",
       "2019  Youthful Vitamin C Fresh Radiance Essence                 No7   \n",
       "2020                      Yuza Sorbet Day Cream            Erborian   \n",
       "2021                Yuza Sorbet Night Treatment            Erborian   \n",
       "2022               Yuzu Overnight Moisture Mask  Earth Therapeutics   \n",
       "2023                             pHenomenal Gel                Pixi   \n",
       "\n",
       "                                            Ingredients  Price  \\\n",
       "0     Water, Butylene Glycol, Glycerin, Trehalose, H...   3.99   \n",
       "1     Water, Methylpropanediol, Butylene Glycol, Gly...   3.99   \n",
       "2     Water, Glycerin, Butylene Glycol, Triethylhexa...   3.99   \n",
       "3     Water, Methylpropanediol, Glycerin, Propanedio...   3.99   \n",
       "4     Water, Butylene Glycol, Glycerin, Hydroxyaceto...   3.99   \n",
       "...                                                 ...    ...   \n",
       "2019  Aqua (Water), Butylene Glycol, Glycerin, Gluco...  24.99   \n",
       "2020  Aqua/Water, Cyclomethicone, Glycerin, Nylon-12...  48.00   \n",
       "2021  Aqua/Water, Cyclomethicone, Glycerin, Cetearyl...  55.00   \n",
       "2022  Water (Aqua), Propanediol, Glycerin, Hydrogena...   7.00   \n",
       "2023  Aqua/Water/Eau, Glycerin, Glycereth-26, Betain...  24.00   \n",
       "\n",
       "                                              Skin_Type active_ingredient  \\\n",
       "0                                              ['Oily']                     \n",
       "1                                               ['Dry']                     \n",
       "2                                       ['Combination']                     \n",
       "3                                       ['Combination']                     \n",
       "4                                               ['Dry']                     \n",
       "...                                                 ...               ...   \n",
       "2019           ['Dry', 'Oily', 'Combination', 'Normal']                     \n",
       "2020  ['Oily', 'Normal', 'Sensitive', 'Combination',...                     \n",
       "2021  ['Oily', 'Normal', 'Sensitive', 'Combination',...                     \n",
       "2022      ['Dry', 'Normal', 'Sensitive', 'Combination']                     \n",
       "2023                                           ['Oily']                     \n",
       "\n",
       "                                    inactive_ingredient  \\\n",
       "0     Water, Butylene Glycol, Glycerin, Trehalose, H...   \n",
       "1     Water, Methylpropanediol, Butylene Glycol, Gly...   \n",
       "2     Water, Glycerin, Butylene Glycol, Triethylhexa...   \n",
       "3     Water, Methylpropanediol, Glycerin, Propanedio...   \n",
       "4     Water, Butylene Glycol, Glycerin, Hydroxyaceto...   \n",
       "...                                                 ...   \n",
       "2019  Aqua (Water), Butylene Glycol, Glycerin, Gluco...   \n",
       "2020  Aqua/Water, Cyclomethicone, Glycerin, Nylon-12...   \n",
       "2021  Aqua/Water, Cyclomethicone, Glycerin, Cetearyl...   \n",
       "2022  Water (Aqua), Propanediol, Glycerin, Hydrogena...   \n",
       "2023  Aqua/Water/Eau, Glycerin, Glycereth-26, Betain...   \n",
       "\n",
       "     active_ingredient_list  \\\n",
       "0                        []   \n",
       "1                        []   \n",
       "2                        []   \n",
       "3                        []   \n",
       "4                        []   \n",
       "...                     ...   \n",
       "2019                     []   \n",
       "2020                     []   \n",
       "2021                     []   \n",
       "2022                     []   \n",
       "2023                     []   \n",
       "\n",
       "                               inactive_ingredient_list  \\\n",
       "0     [Water, Butylene Glycol, Glycerin, Trehalose, ...   \n",
       "1     [Water, Methylpropanediol, Butylene Glycol, Gl...   \n",
       "2     [Water, Glycerin, Butylene Glycol, Triethylhex...   \n",
       "3     [Water, Methylpropanediol, Glycerin, Propanedi...   \n",
       "4     [Water, Butylene Glycol, Glycerin, Hydroxyacet...   \n",
       "...                                                 ...   \n",
       "2019  [Aqua (Water), Butylene Glycol, Glycerin, Gluc...   \n",
       "2020  [Aqua/Water, Cyclomethicone, Glycerin, Nylon-1...   \n",
       "2021  [Aqua/Water, Cyclomethicone, Glycerin, Ceteary...   \n",
       "2022  [Water (Aqua), Propanediol, Glycerin, Hydrogen...   \n",
       "2023  [Aqua/Water/Eau, Glycerin, Glycereth-26, Betai...   \n",
       "\n",
       "      num_inactive_ingredients  num_active_ingredients  Is_alphabetical  \\\n",
       "0                           23                       0            False   \n",
       "1                           20                       0            False   \n",
       "2                           33                       0            False   \n",
       "3                           31                       0            False   \n",
       "4                           24                       0            False   \n",
       "...                        ...                     ...              ...   \n",
       "2019                        18                       0            False   \n",
       "2020                        33                       0            False   \n",
       "2021                        15                       0            False   \n",
       "2022                        41                       0            False   \n",
       "2023                        31                       0            False   \n",
       "\n",
       "                               ingredients_ratings_list  \\\n",
       "0     [2, 2, 3, 2, None, 2, 2, None, 3, 1, 2, None, ...   \n",
       "1     [2, 2, 2, 3, None, 2, 3, 1, None, None, None, ...   \n",
       "2     [2, 3, 2, None, None, None, None, 2, 3, 1, Non...   \n",
       "3     [2, 2, 3, 2, None, 2, 3, 1, None, None, None, ...   \n",
       "4     [2, 2, 3, None, 2, 2, 3, 1, None, None, None, ...   \n",
       "...                                                 ...   \n",
       "2019  [None, 2, 3, 3, 2, 2, 2, 2, None, 1, 2, 3, Non...   \n",
       "2020  [None, 2, 3, 2, 2, 2, 2, 2, None, None, 2, Non...   \n",
       "2021  [None, 2, 3, 2, 2, None, 2, 2, None, 2, 2, Non...   \n",
       "2022  [None, 2, 3, None, 3, None, None, 3, None, Non...   \n",
       "2023  [None, 3, 2, None, None, 2, None, None, 3, 3, ...   \n",
       "\n",
       "                              ingredients_category_list  \n",
       "0     [Miscellaneous, Texture Enhancer, Skin-Repleni...  \n",
       "1     [Miscellaneous, Miscellaneous,  Hydration, Tex...  \n",
       "2     [Miscellaneous, Skin-Replenishing,  Skin-Resto...  \n",
       "3     [Miscellaneous, Miscellaneous,  Hydration, Ski...  \n",
       "4     [Miscellaneous, Texture Enhancer, Skin-Repleni...  \n",
       "...                                                 ...  \n",
       "2019  [None, Texture Enhancer, Skin-Replenishing,  S...  \n",
       "2020  [None, Emollients, Skin-Replenishing,  Skin-Re...  \n",
       "2021  [None, Emollients, Skin-Replenishing,  Skin-Re...  \n",
       "2022  [None, Uncategorized, Skin-Replenishing,  Skin...  \n",
       "2023  [None, Skin-Replenishing,  Skin-Restoring, Thi...  \n",
       "\n",
       "[2024 rows x 14 columns]"
      ],
      "text/html": "<div>\n<style scoped>\n    .dataframe tbody tr th:only-of-type {\n        vertical-align: middle;\n    }\n\n    .dataframe tbody tr th {\n        vertical-align: top;\n    }\n\n    .dataframe thead th {\n        text-align: right;\n    }\n</style>\n<table border=\"1\" class=\"dataframe\">\n  <thead>\n    <tr style=\"text-align: right;\">\n      <th></th>\n      <th>Product</th>\n      <th>Brand</th>\n      <th>Ingredients</th>\n      <th>Price</th>\n      <th>Skin_Type</th>\n      <th>active_ingredient</th>\n      <th>inactive_ingredient</th>\n      <th>active_ingredient_list</th>\n      <th>inactive_ingredient_list</th>\n      <th>num_inactive_ingredients</th>\n      <th>num_active_ingredients</th>\n      <th>Is_alphabetical</th>\n      <th>ingredients_ratings_list</th>\n      <th>ingredients_category_list</th>\n    </tr>\n  </thead>\n  <tbody>\n    <tr>\n      <th>0</th>\n      <td>#InstantDetox Facial Mask</td>\n      <td>Biobelle</td>\n      <td>Water, Butylene Glycol, Glycerin, Trehalose, H...</td>\n      <td>3.99</td>\n      <td>['Oily']</td>\n      <td></td>\n      <td>Water, Butylene Glycol, Glycerin, Trehalose, H...</td>\n      <td>[]</td>\n      <td>[Water, Butylene Glycol, Glycerin, Trehalose, ...</td>\n      <td>23</td>\n      <td>0</td>\n      <td>False</td>\n      <td>[2, 2, 3, 2, None, 2, 2, None, 3, 1, 2, None, ...</td>\n      <td>[Miscellaneous, Texture Enhancer, Skin-Repleni...</td>\n    </tr>\n    <tr>\n      <th>1</th>\n      <td>#Peachy Facial Mask</td>\n      <td>Biobelle</td>\n      <td>Water, Methylpropanediol, Butylene Glycol, Gly...</td>\n      <td>3.99</td>\n      <td>['Dry']</td>\n      <td></td>\n      <td>Water, Methylpropanediol, Butylene Glycol, Gly...</td>\n      <td>[]</td>\n      <td>[Water, Methylpropanediol, Butylene Glycol, Gl...</td>\n      <td>20</td>\n      <td>0</td>\n      <td>False</td>\n      <td>[2, 2, 2, 3, None, 2, 3, 1, None, None, None, ...</td>\n      <td>[Miscellaneous, Miscellaneous,  Hydration, Tex...</td>\n    </tr>\n    <tr>\n      <th>2</th>\n      <td>#Rise&amp;Shine Facial Mask</td>\n      <td>Biobelle</td>\n      <td>Water, Glycerin, Butylene Glycol, Triethylhexa...</td>\n      <td>3.99</td>\n      <td>['Combination']</td>\n      <td></td>\n      <td>Water, Glycerin, Butylene Glycol, Triethylhexa...</td>\n      <td>[]</td>\n      <td>[Water, Glycerin, Butylene Glycol, Triethylhex...</td>\n      <td>33</td>\n      <td>0</td>\n      <td>False</td>\n      <td>[2, 3, 2, None, None, None, None, 2, 3, 1, Non...</td>\n      <td>[Miscellaneous, Skin-Replenishing,  Skin-Resto...</td>\n    </tr>\n    <tr>\n      <th>3</th>\n      <td>#RoséAllDay Facial Mask</td>\n      <td>Biobelle</td>\n      <td>Water, Methylpropanediol, Glycerin, Propanedio...</td>\n      <td>3.99</td>\n      <td>['Combination']</td>\n      <td></td>\n      <td>Water, Methylpropanediol, Glycerin, Propanedio...</td>\n      <td>[]</td>\n      <td>[Water, Methylpropanediol, Glycerin, Propanedi...</td>\n      <td>31</td>\n      <td>0</td>\n      <td>False</td>\n      <td>[2, 2, 3, 2, None, 2, 3, 1, None, None, None, ...</td>\n      <td>[Miscellaneous, Miscellaneous,  Hydration, Ski...</td>\n    </tr>\n    <tr>\n      <th>4</th>\n      <td>#VitaminSea Facial Mask</td>\n      <td>Biobelle</td>\n      <td>Water, Butylene Glycol, Glycerin, Hydroxyaceto...</td>\n      <td>3.99</td>\n      <td>['Dry']</td>\n      <td></td>\n      <td>Water, Butylene Glycol, Glycerin, Hydroxyaceto...</td>\n      <td>[]</td>\n      <td>[Water, Butylene Glycol, Glycerin, Hydroxyacet...</td>\n      <td>24</td>\n      <td>0</td>\n      <td>False</td>\n      <td>[2, 2, 3, None, 2, 2, 3, 1, None, None, None, ...</td>\n      <td>[Miscellaneous, Texture Enhancer, Skin-Repleni...</td>\n    </tr>\n    <tr>\n      <th>...</th>\n      <td>...</td>\n      <td>...</td>\n      <td>...</td>\n      <td>...</td>\n      <td>...</td>\n      <td>...</td>\n      <td>...</td>\n      <td>...</td>\n      <td>...</td>\n      <td>...</td>\n      <td>...</td>\n      <td>...</td>\n      <td>...</td>\n      <td>...</td>\n    </tr>\n    <tr>\n      <th>2019</th>\n      <td>Youthful Vitamin C Fresh Radiance Essence</td>\n      <td>No7</td>\n      <td>Aqua (Water), Butylene Glycol, Glycerin, Gluco...</td>\n      <td>24.99</td>\n      <td>['Dry', 'Oily', 'Combination', 'Normal']</td>\n      <td></td>\n      <td>Aqua (Water), Butylene Glycol, Glycerin, Gluco...</td>\n      <td>[]</td>\n      <td>[Aqua (Water), Butylene Glycol, Glycerin, Gluc...</td>\n      <td>18</td>\n      <td>0</td>\n      <td>False</td>\n      <td>[None, 2, 3, 3, 2, 2, 2, 2, None, 1, 2, 3, Non...</td>\n      <td>[None, Texture Enhancer, Skin-Replenishing,  S...</td>\n    </tr>\n    <tr>\n      <th>2020</th>\n      <td>Yuza Sorbet Day Cream</td>\n      <td>Erborian</td>\n      <td>Aqua/Water, Cyclomethicone, Glycerin, Nylon-12...</td>\n      <td>48.00</td>\n      <td>['Oily', 'Normal', 'Sensitive', 'Combination',...</td>\n      <td></td>\n      <td>Aqua/Water, Cyclomethicone, Glycerin, Nylon-12...</td>\n      <td>[]</td>\n      <td>[Aqua/Water, Cyclomethicone, Glycerin, Nylon-1...</td>\n      <td>33</td>\n      <td>0</td>\n      <td>False</td>\n      <td>[None, 2, 3, 2, 2, 2, 2, 2, None, None, 2, Non...</td>\n      <td>[None, Emollients, Skin-Replenishing,  Skin-Re...</td>\n    </tr>\n    <tr>\n      <th>2021</th>\n      <td>Yuza Sorbet Night Treatment</td>\n      <td>Erborian</td>\n      <td>Aqua/Water, Cyclomethicone, Glycerin, Cetearyl...</td>\n      <td>55.00</td>\n      <td>['Oily', 'Normal', 'Sensitive', 'Combination',...</td>\n      <td></td>\n      <td>Aqua/Water, Cyclomethicone, Glycerin, Cetearyl...</td>\n      <td>[]</td>\n      <td>[Aqua/Water, Cyclomethicone, Glycerin, Ceteary...</td>\n      <td>15</td>\n      <td>0</td>\n      <td>False</td>\n      <td>[None, 2, 3, 2, 2, None, 2, 2, None, 2, 2, Non...</td>\n      <td>[None, Emollients, Skin-Replenishing,  Skin-Re...</td>\n    </tr>\n    <tr>\n      <th>2022</th>\n      <td>Yuzu Overnight Moisture Mask</td>\n      <td>Earth Therapeutics</td>\n      <td>Water (Aqua), Propanediol, Glycerin, Hydrogena...</td>\n      <td>7.00</td>\n      <td>['Dry', 'Normal', 'Sensitive', 'Combination']</td>\n      <td></td>\n      <td>Water (Aqua), Propanediol, Glycerin, Hydrogena...</td>\n      <td>[]</td>\n      <td>[Water (Aqua), Propanediol, Glycerin, Hydrogen...</td>\n      <td>41</td>\n      <td>0</td>\n      <td>False</td>\n      <td>[None, 2, 3, None, 3, None, None, 3, None, Non...</td>\n      <td>[None, Uncategorized, Skin-Replenishing,  Skin...</td>\n    </tr>\n    <tr>\n      <th>2023</th>\n      <td>pHenomenal Gel</td>\n      <td>Pixi</td>\n      <td>Aqua/Water/Eau, Glycerin, Glycereth-26, Betain...</td>\n      <td>24.00</td>\n      <td>['Oily']</td>\n      <td></td>\n      <td>Aqua/Water/Eau, Glycerin, Glycereth-26, Betain...</td>\n      <td>[]</td>\n      <td>[Aqua/Water/Eau, Glycerin, Glycereth-26, Betai...</td>\n      <td>31</td>\n      <td>0</td>\n      <td>False</td>\n      <td>[None, 3, 2, None, None, 2, None, None, 3, 3, ...</td>\n      <td>[None, Skin-Replenishing,  Skin-Restoring, Thi...</td>\n    </tr>\n  </tbody>\n</table>\n<p>2024 rows × 14 columns</p>\n</div>"
     },
     "metadata": {},
     "execution_count": 19
    }
   ],
   "source": [
    "df_cleaned[\"ingredients_category_list\"] = flatten_list\n",
    "df_cleaned"
   ]
  },
  {
   "source": [
    "## 2.7 Count Ingredient Categories \n",
    "\n",
    "### The categories to count for are:\n",
    "1. Antioxidants\n",
    "2. Emollients\n",
    "3. Hydration\n",
    "4. Skin-Restoring\n",
    "5. Plant Extracts\n",
    "6. Preservatives\n",
    "7. Skin-Softening\n",
    "8. Sensitizing\n",
    "9. Skin-Replenishing\n"
   ],
   "cell_type": "markdown",
   "metadata": {}
  },
  {
   "cell_type": "code",
   "execution_count": 20,
   "metadata": {},
   "outputs": [],
   "source": [
    "from collections import Counter \n",
    "categories = [\"Antioxidants\", \"Emollients\", \"Hydration\", \"Skin-Restoring\", \"Plant Extracts\", \"Preservatives\", \"Skin-Softening\", \"Sensitizing\", \"Skin-Replenishing\"]\n",
    "\n",
    "\n",
    "for category in categories:\n",
    "    count = []\n",
    "    for i in df_cleaned.ingredients_category_list.values:\n",
    "        # declaring category to count\n",
    "        x = category\n",
    "        # initiating counter\n",
    "        d = Counter(i) \n",
    "        # Add count \n",
    "        count.append(d[x])\n",
    "    df_cleaned[\"num_of_\" + category] = count"
   ]
  },
  {
   "source": [
    "## 2.8 Find the top 3 ingredients by concentration\n",
    "### Since the ingredients are not listed alphabetically, we can find the top 3 ingredients by concentration. The top 3 would be the first 3 listed ingredients or the first 4 listed ingredients if including water. "
   ],
   "cell_type": "markdown",
   "metadata": {}
  },
  {
   "cell_type": "code",
   "execution_count": 21,
   "metadata": {},
   "outputs": [],
   "source": [
    "top3 =[]\n",
    "for i in range(len(df_cleaned)):\n",
    "    main = df_cleaned.inactive_ingredient[i].split(\", \")[:4]\n",
    "    #print(main[0]) #print all the ways water is listed and to check what is the first listed ingredient in all products. It turns out to be water and it is not unusal that the ingredient in highest concentration is water. \n",
    "    if (\"Water\" or \"Aqua\" or \"Eau\" or \"Water (Aqua)\" in main[0]):\n",
    "        main = main[1:4]\n",
    "    else:\n",
    "        main = main[:3]\n",
    "    top3.append(main)\n",
    "         \n",
    "df_cleaned[\"top_3\"] = top3"
   ]
  },
  {
   "cell_type": "code",
   "execution_count": 22,
   "metadata": {},
   "outputs": [],
   "source": [
    "top_categories ={}\n",
    "for Ingredients in df_cleaned['top_3'].values:\n",
    "    for i in Ingredients:\n",
    "        top_categories[i] = ingredients_category_dict.get(i)\n",
    "\n",
    "top3category = []\n",
    "for Ingredients in df_cleaned['top_3'].values:\n",
    "    temp_list = []\n",
    "    for i in Ingredients:\n",
    "        i = i.lower()\n",
    "        temp_list.append(top_categories.get(i))\n",
    "    top3category.append(temp_list)\n",
    "df_cleaned[\"top3_category_list\"] = top3category"
   ]
  },
  {
   "source": [
    "## 2.9 Clean up the price column\n",
    "### Some items have a discounted price and original price. For consistency, we will keep only the original price. \n"
   ],
   "cell_type": "markdown",
   "metadata": {}
  },
  {
   "cell_type": "code",
   "execution_count": 23,
   "metadata": {},
   "outputs": [],
   "source": [
    "prices = df_cleaned.Price.values\n",
    "for i in range(len(prices)):\n",
    "    if \"Original\" in prices[i]:\n",
    "        new = prices[i].replace('Online Only Price', \"\").replace(\"Market Value($212 value)Online Only Price\", '').replace('Market Value($212 value)', '').replace(\"Market Value($43 value)\", '')\n",
    "        df_cleaned.Price[i] = new[-6:].replace(\"$\",'')\n",
    "    elif \"Market Value\" in prices[i]:\n",
    "        df_cleaned.Price[i] = prices[i][:4]\n",
    "    else:\n",
    "        df_cleaned.Price[i] = prices[i]\n",
    "        "
   ]
  },
  {
   "source": [
    "### Remove unnecessary columns and save data set"
   ],
   "cell_type": "markdown",
   "metadata": {}
  },
  {
   "cell_type": "code",
   "execution_count": 25,
   "metadata": {},
   "outputs": [
    {
     "output_type": "execute_result",
     "data": {
      "text/plain": [
       "                                        Product               Brand  \\\n",
       "0                     #InstantDetox Facial Mask            Biobelle   \n",
       "1                           #Peachy Facial Mask            Biobelle   \n",
       "2                       #Rise&Shine Facial Mask            Biobelle   \n",
       "3                       #RoséAllDay Facial Mask            Biobelle   \n",
       "4                       #VitaminSea Facial Mask            Biobelle   \n",
       "...                                         ...                 ...   \n",
       "2019  Youthful Vitamin C Fresh Radiance Essence                 No7   \n",
       "2020                      Yuza Sorbet Day Cream            Erborian   \n",
       "2021                Yuza Sorbet Night Treatment            Erborian   \n",
       "2022               Yuzu Overnight Moisture Mask  Earth Therapeutics   \n",
       "2023                             pHenomenal Gel                Pixi   \n",
       "\n",
       "                                            Ingredients  Price  \\\n",
       "0     Water, Butylene Glycol, Glycerin, Trehalose, H...   3.99   \n",
       "1     Water, Methylpropanediol, Butylene Glycol, Gly...   3.99   \n",
       "2     Water, Glycerin, Butylene Glycol, Triethylhexa...   3.99   \n",
       "3     Water, Methylpropanediol, Glycerin, Propanedio...   3.99   \n",
       "4     Water, Butylene Glycol, Glycerin, Hydroxyaceto...   3.99   \n",
       "...                                                 ...    ...   \n",
       "2019  Aqua (Water), Butylene Glycol, Glycerin, Gluco...  24.99   \n",
       "2020  Aqua/Water, Cyclomethicone, Glycerin, Nylon-12...  48.00   \n",
       "2021  Aqua/Water, Cyclomethicone, Glycerin, Cetearyl...  55.00   \n",
       "2022  Water (Aqua), Propanediol, Glycerin, Hydrogena...   7.00   \n",
       "2023  Aqua/Water/Eau, Glycerin, Glycereth-26, Betain...  24.00   \n",
       "\n",
       "                                              Skin_Type active_ingredient  \\\n",
       "0                                              ['Oily']                     \n",
       "1                                               ['Dry']                     \n",
       "2                                       ['Combination']                     \n",
       "3                                       ['Combination']                     \n",
       "4                                               ['Dry']                     \n",
       "...                                                 ...               ...   \n",
       "2019           ['Dry', 'Oily', 'Combination', 'Normal']                     \n",
       "2020  ['Oily', 'Normal', 'Sensitive', 'Combination',...                     \n",
       "2021  ['Oily', 'Normal', 'Sensitive', 'Combination',...                     \n",
       "2022      ['Dry', 'Normal', 'Sensitive', 'Combination']                     \n",
       "2023                                           ['Oily']                     \n",
       "\n",
       "                                    inactive_ingredient  \\\n",
       "0     Water, Butylene Glycol, Glycerin, Trehalose, H...   \n",
       "1     Water, Methylpropanediol, Butylene Glycol, Gly...   \n",
       "2     Water, Glycerin, Butylene Glycol, Triethylhexa...   \n",
       "3     Water, Methylpropanediol, Glycerin, Propanedio...   \n",
       "4     Water, Butylene Glycol, Glycerin, Hydroxyaceto...   \n",
       "...                                                 ...   \n",
       "2019  Aqua (Water), Butylene Glycol, Glycerin, Gluco...   \n",
       "2020  Aqua/Water, Cyclomethicone, Glycerin, Nylon-12...   \n",
       "2021  Aqua/Water, Cyclomethicone, Glycerin, Cetearyl...   \n",
       "2022  Water (Aqua), Propanediol, Glycerin, Hydrogena...   \n",
       "2023  Aqua/Water/Eau, Glycerin, Glycereth-26, Betain...   \n",
       "\n",
       "      num_inactive_ingredients  num_active_ingredients  Is_alphabetical  ...  \\\n",
       "0                           23                       0            False  ...   \n",
       "1                           20                       0            False  ...   \n",
       "2                           33                       0            False  ...   \n",
       "3                           31                       0            False  ...   \n",
       "4                           24                       0            False  ...   \n",
       "...                        ...                     ...              ...  ...   \n",
       "2019                        18                       0            False  ...   \n",
       "2020                        33                       0            False  ...   \n",
       "2021                        15                       0            False  ...   \n",
       "2022                        41                       0            False  ...   \n",
       "2023                        31                       0            False  ...   \n",
       "\n",
       "     num_of_Emollients num_of_Hydration  num_of_Skin-Restoring  \\\n",
       "0                    0                0                      0   \n",
       "1                    0                0                      0   \n",
       "2                    0                0                      0   \n",
       "3                    0                0                      0   \n",
       "4                    0                0                      0   \n",
       "...                ...              ...                    ...   \n",
       "2019                 0                0                      0   \n",
       "2020                 1                0                      0   \n",
       "2021                 2                0                      0   \n",
       "2022                 2                0                      0   \n",
       "2023                 0                0                      0   \n",
       "\n",
       "      num_of_Plant Extracts  num_of_Preservatives  num_of_Skin-Softening  \\\n",
       "0                         0                     0                      0   \n",
       "1                         0                     0                      0   \n",
       "2                         0                     0                      0   \n",
       "3                         1                     2                      0   \n",
       "4                         1                     0                      0   \n",
       "...                     ...                   ...                    ...   \n",
       "2019                      2                     3                      0   \n",
       "2020                      1                     1                      0   \n",
       "2021                      0                     0                      0   \n",
       "2022                      1                     0                      0   \n",
       "2023                      0                     0                      0   \n",
       "\n",
       "      num_of_Sensitizing  num_of_Skin-Replenishing  \\\n",
       "0                      0                         1   \n",
       "1                      0                         1   \n",
       "2                      0                         1   \n",
       "3                      0                         2   \n",
       "4                      0                         1   \n",
       "...                  ...                       ...   \n",
       "2019                   0                         2   \n",
       "2020                   0                         1   \n",
       "2021                   0                         1   \n",
       "2022                   0                         1   \n",
       "2023                   0                         1   \n",
       "\n",
       "                                                  top_3  \\\n",
       "0                [Butylene Glycol, Glycerin, Trehalose]   \n",
       "1        [Methylpropanediol, Butylene Glycol, Glycerin]   \n",
       "2         [Glycerin, Butylene Glycol, Triethylhexanoin]   \n",
       "3            [Methylpropanediol, Glycerin, Propanediol]   \n",
       "4      [Butylene Glycol, Glycerin, Hydroxyacetophenone]   \n",
       "...                                                 ...   \n",
       "2019        [Butylene Glycol, Glycerin, Gluconolactone]   \n",
       "2020               [Cyclomethicone, Glycerin, Nylon-12]   \n",
       "2021       [Cyclomethicone, Glycerin, Cetearyl Alcohol]   \n",
       "2022  [Propanediol, Glycerin, Hydrogenated Poly (C6-...   \n",
       "2023                  [Glycerin, Glycereth-26, Betaine]   \n",
       "\n",
       "                                     top3_category_list  \n",
       "0     [Texture Enhancer, Skin-Replenishing, Skin-Res...  \n",
       "1     [None, Texture Enhancer, Skin-Replenishing, Sk...  \n",
       "2     [Skin-Replenishing, Skin-Restoring, Texture En...  \n",
       "3       [None, Skin-Replenishing, Skin-Restoring, None]  \n",
       "4     [Texture Enhancer, Skin-Replenishing, Skin-Res...  \n",
       "...                                                 ...  \n",
       "2019  [Texture Enhancer, Skin-Replenishing, Skin-Res...  \n",
       "2020  [Emollients, Skin-Replenishing, Skin-Restoring...  \n",
       "2021  [Emollients, Skin-Replenishing, Skin-Restoring...  \n",
       "2022    [None, Skin-Replenishing, Skin-Restoring, None]  \n",
       "2023    [Skin-Replenishing, Skin-Restoring, None, None]  \n",
       "\n",
       "[2024 rows x 23 columns]"
      ],
      "text/html": "<div>\n<style scoped>\n    .dataframe tbody tr th:only-of-type {\n        vertical-align: middle;\n    }\n\n    .dataframe tbody tr th {\n        vertical-align: top;\n    }\n\n    .dataframe thead th {\n        text-align: right;\n    }\n</style>\n<table border=\"1\" class=\"dataframe\">\n  <thead>\n    <tr style=\"text-align: right;\">\n      <th></th>\n      <th>Product</th>\n      <th>Brand</th>\n      <th>Ingredients</th>\n      <th>Price</th>\n      <th>Skin_Type</th>\n      <th>active_ingredient</th>\n      <th>inactive_ingredient</th>\n      <th>num_inactive_ingredients</th>\n      <th>num_active_ingredients</th>\n      <th>Is_alphabetical</th>\n      <th>...</th>\n      <th>num_of_Emollients</th>\n      <th>num_of_Hydration</th>\n      <th>num_of_Skin-Restoring</th>\n      <th>num_of_Plant Extracts</th>\n      <th>num_of_Preservatives</th>\n      <th>num_of_Skin-Softening</th>\n      <th>num_of_Sensitizing</th>\n      <th>num_of_Skin-Replenishing</th>\n      <th>top_3</th>\n      <th>top3_category_list</th>\n    </tr>\n  </thead>\n  <tbody>\n    <tr>\n      <th>0</th>\n      <td>#InstantDetox Facial Mask</td>\n      <td>Biobelle</td>\n      <td>Water, Butylene Glycol, Glycerin, Trehalose, H...</td>\n      <td>3.99</td>\n      <td>['Oily']</td>\n      <td></td>\n      <td>Water, Butylene Glycol, Glycerin, Trehalose, H...</td>\n      <td>23</td>\n      <td>0</td>\n      <td>False</td>\n      <td>...</td>\n      <td>0</td>\n      <td>0</td>\n      <td>0</td>\n      <td>0</td>\n      <td>0</td>\n      <td>0</td>\n      <td>0</td>\n      <td>1</td>\n      <td>[Butylene Glycol, Glycerin, Trehalose]</td>\n      <td>[Texture Enhancer, Skin-Replenishing, Skin-Res...</td>\n    </tr>\n    <tr>\n      <th>1</th>\n      <td>#Peachy Facial Mask</td>\n      <td>Biobelle</td>\n      <td>Water, Methylpropanediol, Butylene Glycol, Gly...</td>\n      <td>3.99</td>\n      <td>['Dry']</td>\n      <td></td>\n      <td>Water, Methylpropanediol, Butylene Glycol, Gly...</td>\n      <td>20</td>\n      <td>0</td>\n      <td>False</td>\n      <td>...</td>\n      <td>0</td>\n      <td>0</td>\n      <td>0</td>\n      <td>0</td>\n      <td>0</td>\n      <td>0</td>\n      <td>0</td>\n      <td>1</td>\n      <td>[Methylpropanediol, Butylene Glycol, Glycerin]</td>\n      <td>[None, Texture Enhancer, Skin-Replenishing, Sk...</td>\n    </tr>\n    <tr>\n      <th>2</th>\n      <td>#Rise&amp;Shine Facial Mask</td>\n      <td>Biobelle</td>\n      <td>Water, Glycerin, Butylene Glycol, Triethylhexa...</td>\n      <td>3.99</td>\n      <td>['Combination']</td>\n      <td></td>\n      <td>Water, Glycerin, Butylene Glycol, Triethylhexa...</td>\n      <td>33</td>\n      <td>0</td>\n      <td>False</td>\n      <td>...</td>\n      <td>0</td>\n      <td>0</td>\n      <td>0</td>\n      <td>0</td>\n      <td>0</td>\n      <td>0</td>\n      <td>0</td>\n      <td>1</td>\n      <td>[Glycerin, Butylene Glycol, Triethylhexanoin]</td>\n      <td>[Skin-Replenishing, Skin-Restoring, Texture En...</td>\n    </tr>\n    <tr>\n      <th>3</th>\n      <td>#RoséAllDay Facial Mask</td>\n      <td>Biobelle</td>\n      <td>Water, Methylpropanediol, Glycerin, Propanedio...</td>\n      <td>3.99</td>\n      <td>['Combination']</td>\n      <td></td>\n      <td>Water, Methylpropanediol, Glycerin, Propanedio...</td>\n      <td>31</td>\n      <td>0</td>\n      <td>False</td>\n      <td>...</td>\n      <td>0</td>\n      <td>0</td>\n      <td>0</td>\n      <td>1</td>\n      <td>2</td>\n      <td>0</td>\n      <td>0</td>\n      <td>2</td>\n      <td>[Methylpropanediol, Glycerin, Propanediol]</td>\n      <td>[None, Skin-Replenishing, Skin-Restoring, None]</td>\n    </tr>\n    <tr>\n      <th>4</th>\n      <td>#VitaminSea Facial Mask</td>\n      <td>Biobelle</td>\n      <td>Water, Butylene Glycol, Glycerin, Hydroxyaceto...</td>\n      <td>3.99</td>\n      <td>['Dry']</td>\n      <td></td>\n      <td>Water, Butylene Glycol, Glycerin, Hydroxyaceto...</td>\n      <td>24</td>\n      <td>0</td>\n      <td>False</td>\n      <td>...</td>\n      <td>0</td>\n      <td>0</td>\n      <td>0</td>\n      <td>1</td>\n      <td>0</td>\n      <td>0</td>\n      <td>0</td>\n      <td>1</td>\n      <td>[Butylene Glycol, Glycerin, Hydroxyacetophenone]</td>\n      <td>[Texture Enhancer, Skin-Replenishing, Skin-Res...</td>\n    </tr>\n    <tr>\n      <th>...</th>\n      <td>...</td>\n      <td>...</td>\n      <td>...</td>\n      <td>...</td>\n      <td>...</td>\n      <td>...</td>\n      <td>...</td>\n      <td>...</td>\n      <td>...</td>\n      <td>...</td>\n      <td>...</td>\n      <td>...</td>\n      <td>...</td>\n      <td>...</td>\n      <td>...</td>\n      <td>...</td>\n      <td>...</td>\n      <td>...</td>\n      <td>...</td>\n      <td>...</td>\n      <td>...</td>\n    </tr>\n    <tr>\n      <th>2019</th>\n      <td>Youthful Vitamin C Fresh Radiance Essence</td>\n      <td>No7</td>\n      <td>Aqua (Water), Butylene Glycol, Glycerin, Gluco...</td>\n      <td>24.99</td>\n      <td>['Dry', 'Oily', 'Combination', 'Normal']</td>\n      <td></td>\n      <td>Aqua (Water), Butylene Glycol, Glycerin, Gluco...</td>\n      <td>18</td>\n      <td>0</td>\n      <td>False</td>\n      <td>...</td>\n      <td>0</td>\n      <td>0</td>\n      <td>0</td>\n      <td>2</td>\n      <td>3</td>\n      <td>0</td>\n      <td>0</td>\n      <td>2</td>\n      <td>[Butylene Glycol, Glycerin, Gluconolactone]</td>\n      <td>[Texture Enhancer, Skin-Replenishing, Skin-Res...</td>\n    </tr>\n    <tr>\n      <th>2020</th>\n      <td>Yuza Sorbet Day Cream</td>\n      <td>Erborian</td>\n      <td>Aqua/Water, Cyclomethicone, Glycerin, Nylon-12...</td>\n      <td>48.00</td>\n      <td>['Oily', 'Normal', 'Sensitive', 'Combination',...</td>\n      <td></td>\n      <td>Aqua/Water, Cyclomethicone, Glycerin, Nylon-12...</td>\n      <td>33</td>\n      <td>0</td>\n      <td>False</td>\n      <td>...</td>\n      <td>1</td>\n      <td>0</td>\n      <td>0</td>\n      <td>1</td>\n      <td>1</td>\n      <td>0</td>\n      <td>0</td>\n      <td>1</td>\n      <td>[Cyclomethicone, Glycerin, Nylon-12]</td>\n      <td>[Emollients, Skin-Replenishing, Skin-Restoring...</td>\n    </tr>\n    <tr>\n      <th>2021</th>\n      <td>Yuza Sorbet Night Treatment</td>\n      <td>Erborian</td>\n      <td>Aqua/Water, Cyclomethicone, Glycerin, Cetearyl...</td>\n      <td>55.00</td>\n      <td>['Oily', 'Normal', 'Sensitive', 'Combination',...</td>\n      <td></td>\n      <td>Aqua/Water, Cyclomethicone, Glycerin, Cetearyl...</td>\n      <td>15</td>\n      <td>0</td>\n      <td>False</td>\n      <td>...</td>\n      <td>2</td>\n      <td>0</td>\n      <td>0</td>\n      <td>0</td>\n      <td>0</td>\n      <td>0</td>\n      <td>0</td>\n      <td>1</td>\n      <td>[Cyclomethicone, Glycerin, Cetearyl Alcohol]</td>\n      <td>[Emollients, Skin-Replenishing, Skin-Restoring...</td>\n    </tr>\n    <tr>\n      <th>2022</th>\n      <td>Yuzu Overnight Moisture Mask</td>\n      <td>Earth Therapeutics</td>\n      <td>Water (Aqua), Propanediol, Glycerin, Hydrogena...</td>\n      <td>7.00</td>\n      <td>['Dry', 'Normal', 'Sensitive', 'Combination']</td>\n      <td></td>\n      <td>Water (Aqua), Propanediol, Glycerin, Hydrogena...</td>\n      <td>41</td>\n      <td>0</td>\n      <td>False</td>\n      <td>...</td>\n      <td>2</td>\n      <td>0</td>\n      <td>0</td>\n      <td>1</td>\n      <td>0</td>\n      <td>0</td>\n      <td>0</td>\n      <td>1</td>\n      <td>[Propanediol, Glycerin, Hydrogenated Poly (C6-...</td>\n      <td>[None, Skin-Replenishing, Skin-Restoring, None]</td>\n    </tr>\n    <tr>\n      <th>2023</th>\n      <td>pHenomenal Gel</td>\n      <td>Pixi</td>\n      <td>Aqua/Water/Eau, Glycerin, Glycereth-26, Betain...</td>\n      <td>24.00</td>\n      <td>['Oily']</td>\n      <td></td>\n      <td>Aqua/Water/Eau, Glycerin, Glycereth-26, Betain...</td>\n      <td>31</td>\n      <td>0</td>\n      <td>False</td>\n      <td>...</td>\n      <td>0</td>\n      <td>0</td>\n      <td>0</td>\n      <td>0</td>\n      <td>0</td>\n      <td>0</td>\n      <td>0</td>\n      <td>1</td>\n      <td>[Glycerin, Glycereth-26, Betaine]</td>\n      <td>[Skin-Replenishing, Skin-Restoring, None, None]</td>\n    </tr>\n  </tbody>\n</table>\n<p>2024 rows × 23 columns</p>\n</div>"
     },
     "metadata": {},
     "execution_count": 25
    }
   ],
   "source": [
    "df_cleaned.drop([\"inactive_ingredient_list\", \"active_ingredient_list\"], axis =1)\n"
   ]
  },
  {
   "cell_type": "code",
   "execution_count": 26,
   "metadata": {},
   "outputs": [],
   "source": [
    "df_cleaned.to_csv('Master_cleaned.csv', index= False)"
   ]
  },
  {
   "source": [
    "## The data set is now ready for exploratory analysis and plots. Refer to notebook 3 for this process. "
   ],
   "cell_type": "markdown",
   "metadata": {}
  }
 ]
}