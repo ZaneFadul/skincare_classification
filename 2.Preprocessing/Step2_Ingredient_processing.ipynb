{
 "metadata": {
  "language_info": {
   "codemirror_mode": {
    "name": "ipython",
    "version": 3
   },
   "file_extension": ".py",
   "mimetype": "text/x-python",
   "name": "python",
   "nbconvert_exporter": "python",
   "pygments_lexer": "ipython3",
   "version": "3.8.3-final"
  },
  "orig_nbformat": 2,
  "kernelspec": {
   "name": "Python 3.8.3 64-bit ('base': conda)",
   "display_name": "Python 3.8.3 64-bit ('base': conda)",
   "metadata": {
    "interpreter": {
     "hash": "f85c0ae1067a86ad6a96b144378883e79fd1516474b579ba33ee3a7084540002"
    }
   }
  }
 },
 "nbformat": 4,
 "nbformat_minor": 2,
 "cells": [
  {
   "cell_type": "code",
   "execution_count": 1,
   "metadata": {},
   "outputs": [],
   "source": [
    "import numpy as np \n",
    "import pandas as pd\n",
    "import csv \n",
    "import difflib\n",
    "import itertools\n",
    "import operator\n",
    "\n",
    "import os \n",
    "os.chdir(\"/Users/susanchen/Documents/GitHub/skincare_classification/Data_sets\")"
   ]
  },
  {
   "source": [
    "### This notebook will accomplish two preprocessing steps: Ingredients cleaning and Ingredients matching. The general steps in each process is listed below.\n",
    "\n",
    "### Ingredients Cleaning:\n",
    "- 2.1 Split ingredients into active and inactive \n",
    "- 2.2 Find number of inactive and active ingredients (if possible)\n",
    "- 2.3 Check if ingredients are listed alphabetically \n",
    "\n",
    "### Ingredients Matching:\n",
    "- 2.4 Create two dictionaries containing the ingredient name as the key and the rating and category as values respectively\n",
    "- 2.5 Find the matching key of all these ingredient from our dictionary \n",
    "- 2.6 For all products loop over the ingredient list and find each ingredient's rating and category \n",
    "- 2.7 For all products, count how many ingredients belong to a certain category (antioxidants, emulsifiers,  emollients, etc)\n",
    "- 2.8 For all products, find the top 3 ingredients by concentration"
   ],
   "cell_type": "markdown",
   "metadata": {}
  },
  {
   "source": [
    "## 2.0 Load the 2 datafiles "
   ],
   "cell_type": "markdown",
   "metadata": {}
  },
  {
   "cell_type": "code",
   "execution_count": 2,
   "metadata": {},
   "outputs": [],
   "source": [
    "ingredientInfo = pd.read_csv('ingredient_cleaned.txt', sep = \",\")\n",
    "df = pd.read_csv('Master_uncleaned.csv')"
   ]
  },
  {
   "cell_type": "code",
   "execution_count": 3,
   "metadata": {},
   "outputs": [],
   "source": [
    "cat_list =[]\n",
    "for i in ingredientInfo.category.values:\n",
    "    i = i.replace(\"['\", \"\").replace(\"']\", '').replace(\"'\", '')\n",
    "    cat_list.append(str(i)) "
   ]
  },
  {
   "cell_type": "code",
   "execution_count": 4,
   "metadata": {},
   "outputs": [
    {
     "output_type": "execute_result",
     "data": {
      "text/plain": [
       "                        name  \\\n",
       "0            1, 2-Hexanediol   \n",
       "1    10-Hydroxydecanoic Acid   \n",
       "2      4-T-butylcyclohexanol   \n",
       "3  Acacia farnesiana extract   \n",
       "4         acacia senegal gum   \n",
       "\n",
       "                                            category rating  rating_num  \\\n",
       "0                                  ['Preservatives']   Good           2   \n",
       "1                                     ['Emollients']   Good           2   \n",
       "2                    ['Emollients', 'Skin-Soothing']   Good           2   \n",
       "3  ['Plant Extracts', 'Fragrance: Synthetic and F...   Poor           0   \n",
       "4  ['Texture Enhancer', 'Plant Extracts', 'Skin-S...   Good           2   \n",
       "\n",
       "                                            Category  \n",
       "0                                      Preservatives  \n",
       "1                                         Emollients  \n",
       "2                          Emollients, Skin-Soothing  \n",
       "3  Plant Extracts, Fragrance: Synthetic and Fragr...  \n",
       "4    Texture Enhancer, Plant Extracts, Skin-Soothing  "
      ],
      "text/html": "<div>\n<style scoped>\n    .dataframe tbody tr th:only-of-type {\n        vertical-align: middle;\n    }\n\n    .dataframe tbody tr th {\n        vertical-align: top;\n    }\n\n    .dataframe thead th {\n        text-align: right;\n    }\n</style>\n<table border=\"1\" class=\"dataframe\">\n  <thead>\n    <tr style=\"text-align: right;\">\n      <th></th>\n      <th>name</th>\n      <th>category</th>\n      <th>rating</th>\n      <th>rating_num</th>\n      <th>Category</th>\n    </tr>\n  </thead>\n  <tbody>\n    <tr>\n      <th>0</th>\n      <td>1, 2-Hexanediol</td>\n      <td>['Preservatives']</td>\n      <td>Good</td>\n      <td>2</td>\n      <td>Preservatives</td>\n    </tr>\n    <tr>\n      <th>1</th>\n      <td>10-Hydroxydecanoic Acid</td>\n      <td>['Emollients']</td>\n      <td>Good</td>\n      <td>2</td>\n      <td>Emollients</td>\n    </tr>\n    <tr>\n      <th>2</th>\n      <td>4-T-butylcyclohexanol</td>\n      <td>['Emollients', 'Skin-Soothing']</td>\n      <td>Good</td>\n      <td>2</td>\n      <td>Emollients, Skin-Soothing</td>\n    </tr>\n    <tr>\n      <th>3</th>\n      <td>Acacia farnesiana extract</td>\n      <td>['Plant Extracts', 'Fragrance: Synthetic and F...</td>\n      <td>Poor</td>\n      <td>0</td>\n      <td>Plant Extracts, Fragrance: Synthetic and Fragr...</td>\n    </tr>\n    <tr>\n      <th>4</th>\n      <td>acacia senegal gum</td>\n      <td>['Texture Enhancer', 'Plant Extracts', 'Skin-S...</td>\n      <td>Good</td>\n      <td>2</td>\n      <td>Texture Enhancer, Plant Extracts, Skin-Soothing</td>\n    </tr>\n  </tbody>\n</table>\n</div>"
     },
     "metadata": {},
     "execution_count": 4
    }
   ],
   "source": [
    "ingredientInfo[\"Category\"] = cat_list\n",
    "ingredientInfo.head()"
   ]
  },
  {
   "cell_type": "code",
   "execution_count": 5,
   "metadata": {},
   "outputs": [
    {
     "output_type": "execute_result",
     "data": {
      "text/plain": [
       "                                     Product              Brand  \\\n",
       "0           Glycolic Acid 7% Toning Solution       The Ordinary   \n",
       "1  The Microdelivery Exfoliating Facial Wash         Philosophy   \n",
       "2               AHA/BHA Exfoliating Cleanser              Murad   \n",
       "3                   Anti-Aging Cleansing Gel  Peter Thomas Roth   \n",
       "4                  Hydrating Facial Cleanser             CeraVe   \n",
       "\n",
       "                                         Ingredients  Price Skin Type  \\\n",
       "0  Aqua (Water), Glycolic Acid, Rosa Damascena Fl...   8.70      Oily   \n",
       "1  Aqua/Water/Eau, Solum Diatomeae/Diatomaceous E...  29.00      Oily   \n",
       "2  Water (Aqua), Sodium Laureth Sulfate, Cocamido...  40.00      Oily   \n",
       "3  Water/Aqua/Eau, Sodium Laureth Sulfate, Cocami...  39.00      Oily   \n",
       "4  Purified Water, Glycerin, Behentrimonium Metho...  13.49      Oily   \n",
       "\n",
       "   Combination  Dry  Normal  Oily  Sensitive  \n",
       "0            1    1       1     1          1  \n",
       "1            1    1       1     1          1  \n",
       "2            1    1       1     1          1  \n",
       "3            1    1       1     1          1  \n",
       "4            1    1       1     1          1  "
      ],
      "text/html": "<div>\n<style scoped>\n    .dataframe tbody tr th:only-of-type {\n        vertical-align: middle;\n    }\n\n    .dataframe tbody tr th {\n        vertical-align: top;\n    }\n\n    .dataframe thead th {\n        text-align: right;\n    }\n</style>\n<table border=\"1\" class=\"dataframe\">\n  <thead>\n    <tr style=\"text-align: right;\">\n      <th></th>\n      <th>Product</th>\n      <th>Brand</th>\n      <th>Ingredients</th>\n      <th>Price</th>\n      <th>Skin Type</th>\n      <th>Combination</th>\n      <th>Dry</th>\n      <th>Normal</th>\n      <th>Oily</th>\n      <th>Sensitive</th>\n    </tr>\n  </thead>\n  <tbody>\n    <tr>\n      <th>0</th>\n      <td>Glycolic Acid 7% Toning Solution</td>\n      <td>The Ordinary</td>\n      <td>Aqua (Water), Glycolic Acid, Rosa Damascena Fl...</td>\n      <td>8.70</td>\n      <td>Oily</td>\n      <td>1</td>\n      <td>1</td>\n      <td>1</td>\n      <td>1</td>\n      <td>1</td>\n    </tr>\n    <tr>\n      <th>1</th>\n      <td>The Microdelivery Exfoliating Facial Wash</td>\n      <td>Philosophy</td>\n      <td>Aqua/Water/Eau, Solum Diatomeae/Diatomaceous E...</td>\n      <td>29.00</td>\n      <td>Oily</td>\n      <td>1</td>\n      <td>1</td>\n      <td>1</td>\n      <td>1</td>\n      <td>1</td>\n    </tr>\n    <tr>\n      <th>2</th>\n      <td>AHA/BHA Exfoliating Cleanser</td>\n      <td>Murad</td>\n      <td>Water (Aqua), Sodium Laureth Sulfate, Cocamido...</td>\n      <td>40.00</td>\n      <td>Oily</td>\n      <td>1</td>\n      <td>1</td>\n      <td>1</td>\n      <td>1</td>\n      <td>1</td>\n    </tr>\n    <tr>\n      <th>3</th>\n      <td>Anti-Aging Cleansing Gel</td>\n      <td>Peter Thomas Roth</td>\n      <td>Water/Aqua/Eau, Sodium Laureth Sulfate, Cocami...</td>\n      <td>39.00</td>\n      <td>Oily</td>\n      <td>1</td>\n      <td>1</td>\n      <td>1</td>\n      <td>1</td>\n      <td>1</td>\n    </tr>\n    <tr>\n      <th>4</th>\n      <td>Hydrating Facial Cleanser</td>\n      <td>CeraVe</td>\n      <td>Purified Water, Glycerin, Behentrimonium Metho...</td>\n      <td>13.49</td>\n      <td>Oily</td>\n      <td>1</td>\n      <td>1</td>\n      <td>1</td>\n      <td>1</td>\n      <td>1</td>\n    </tr>\n  </tbody>\n</table>\n</div>"
     },
     "metadata": {},
     "execution_count": 5
    }
   ],
   "source": [
    "df.head()"
   ]
  },
  {
   "source": [
    "## 2.1 Split Ingredients into Active and Inactive\n",
    "\n",
    "### It is a required standard to label ingredients in beauty and hygienic products as active and inactive if the product fall within in two categories. Those two categories are mandated by the FDA as (1) if the product contains ingredients are FDA classified drugs or (2) the product claims to have some medical benefit. In contract, if a product does not contain FDA classifed drugs or does not claim to have medical benefits, then its ingredients are consider to be comestic ingredients. Cosmetic products do not need to label their comestic ingredients as active or inactive, all ingredients can be listed in a single area on the label. The FDA only requires manufacturers to list cosmetic ingredients in order of the amount/concentration present, from highest to lowest."
   ],
   "cell_type": "markdown",
   "metadata": {}
  },
  {
   "cell_type": "code",
   "execution_count": 6,
   "metadata": {},
   "outputs": [],
   "source": [
    "def split_by_active_inactive(sr_ingredient):\n",
    "            inactive_start = pd.concat([sr_ingredient.str.find('Other'),\n",
    "                                       sr_ingredient.str.find('Inactive')],\n",
    "                                       axis=1).max(axis=1)\n",
    "            \n",
    "            inactive_start = inactive_start.replace(-1, 0)\n",
    "            inactive = [ingredient[start:] for (ingredient, start) in zip(sr_ingredient, inactive_start)]\n",
    "            inactive = [ingredient[ingredient.find(':')+1:] for ingredient in inactive]                           \n",
    "            active = [ingredient[:start] for (ingredient, start) in zip(sr_ingredient, inactive_start)]\n",
    "            active = [ingredient[ingredient.rfind(':')+1:] for ingredient in active]\n",
    "            return active, inactive "
   ]
  },
  {
   "source": [
    "## 2.3 Check if Ingredients are in alphabetically order. \n",
    "\n",
    "### Comestic products can label their ingredients in two ways: alphabetically or by concentration. Althought the latter (by concentration) is the standard, we still need to check. If ingredients are listed by concentration, we will then use this information to find the top 3 ingredients (excluding water) in step 2.8. \n"
   ],
   "cell_type": "markdown",
   "metadata": {}
  },
  {
   "cell_type": "code",
   "execution_count": 7,
   "metadata": {},
   "outputs": [],
   "source": [
    "def check_alphabetical(ingredient_list, tol = 1):\n",
    "            if (len(ingredient_list)) <= tol:\n",
    "                return True \n",
    "            for i in range(len(ingredient_list) - 1):\n",
    "                if ingredient_list[i] > ingredient_list[i+1]:\n",
    "                    return False \n",
    "            return True "
   ]
  },
  {
   "source": [
    "## All together:"
   ],
   "cell_type": "markdown",
   "metadata": {}
  },
  {
   "cell_type": "code",
   "execution_count": 8,
   "metadata": {},
   "outputs": [],
   "source": [
    "class data_cleaning: \n",
    "    def __init__(self, df):\n",
    "        self.df = df.copy(deep = True)\n",
    "\n",
    "    def clean_ingredients(self):\n",
    "        def split_by_active_inactive(sr_ingredient):\n",
    "            inactive_start = pd.concat([sr_ingredient.str.find('Other'),\n",
    "                                       sr_ingredient.str.find('Inactive')],\n",
    "                                       axis=1).max(axis=1)\n",
    "            \n",
    "            inactive_start = inactive_start.replace(-1, 0)\n",
    "            inactive = [ingredient[start:] for (ingredient, start) in zip(sr_ingredient, inactive_start)]\n",
    "            inactive = [ingredient[ingredient.find(':')+1:] for ingredient in inactive]                           \n",
    "            active = [ingredient[:start] for (ingredient, start) in zip(sr_ingredient, inactive_start)]\n",
    "            active = [ingredient[ingredient.rfind(':')+1:] for ingredient in active]\n",
    "            return active, inactive \n",
    "\n",
    "        def check_alphabetical(ingredient_list, tol = 1):\n",
    "            if (len(ingredient_list)) <= tol:\n",
    "                return True \n",
    "            for i in range(len(ingredient_list) - 1):\n",
    "                if ingredient_list[i] > ingredient_list[i+1]:\n",
    "                    return False \n",
    "            return True \n",
    "                \n",
    "        \n",
    "        self.df[\"Ingredients\"].fillna('', inplace = True)\n",
    "        self.df['active_ingredient'], self.df['inactive_ingredient']= split_by_active_inactive(self.df['Ingredients'])\n",
    "        \n",
    "        self.df['active_ingredient_list'] = self.df['active_ingredient'].apply(lambda x: [l.strip() for l in str(x).split(',') if l.lower().islower()])\n",
    "        self.df['inactive_ingredient_list'] = self.df['inactive_ingredient'].apply(lambda x: [l.strip() for l in str(x).split(',') if l.lower().islower()])\n",
    "\n",
    "        self.df[\"num_inactive_ingredients\"] = self.df[\"inactive_ingredient_list\"].apply(lambda x: len(x))\n",
    "        self.df[\"num_active_ingredients\"] = self.df[\"active_ingredient_list\"].apply(lambda x: len (x))\n",
    "        self.df[\"Is_alphabetical\"] = self.df[\"inactive_ingredient_list\"].apply(check_alphabetical)\n",
    "\n",
    "\n",
    "    def clean(self):\n",
    "        self.clean_ingredients()\n",
    "\n",
    "    def get_df(self):\n",
    "        return self.df"
   ]
  },
  {
   "cell_type": "code",
   "execution_count": 9,
   "metadata": {},
   "outputs": [
    {
     "output_type": "execute_result",
     "data": {
      "text/plain": [
       "                                                Product              Brand  \\\n",
       "0                      Glycolic Acid 7% Toning Solution       The Ordinary   \n",
       "1             The Microdelivery Exfoliating Facial Wash         Philosophy   \n",
       "2                          AHA/BHA Exfoliating Cleanser              Murad   \n",
       "3                              Anti-Aging Cleansing Gel  Peter Thomas Roth   \n",
       "4                             Hydrating Facial Cleanser             CeraVe   \n",
       "...                                                 ...                ...   \n",
       "2036                Instant Hydration Facial Sheet Mask   Andalou Naturals   \n",
       "2037                        Prep Cicaronic SOS Ampoules                SNP   \n",
       "2038                    Pro-Collagen Hydra-Gel Eye Mask             ELEMIS   \n",
       "2039  ADVANCED Ceramide Capsules Daily Youth Restori...    Elizabeth Arden   \n",
       "2040                    Calm + Restore Triple Oat Serum             Aveeno   \n",
       "\n",
       "                                            Ingredients  Price  Skin Type  \\\n",
       "0     Aqua (Water), Glycolic Acid, Rosa Damascena Fl...   8.70       Oily   \n",
       "1     Aqua/Water/Eau, Solum Diatomeae/Diatomaceous E...  29.00       Oily   \n",
       "2     Water (Aqua), Sodium Laureth Sulfate, Cocamido...  40.00       Oily   \n",
       "3     Water/Aqua/Eau, Sodium Laureth Sulfate, Cocami...  39.00       Oily   \n",
       "4     Purified Water, Glycerin, Behentrimonium Metho...  13.49       Oily   \n",
       "...                                                 ...    ...        ...   \n",
       "2036  Aloe Barbadensis Leaf Juice*, Purified Water (...   4.99  Sensitive   \n",
       "2037  Water, Glycerin, Butylene Glycol, Glycereth-26...  16.00  Sensitive   \n",
       "2038  Aqua/Water/Eau, Glycerin, Ceratonia Siliqua Gu...  76.00  Sensitive   \n",
       "2039  Cyclopentasiloxane, Isononyl Isononanoate, Iso...  63.00  Sensitive   \n",
       "2040  Water, Glycerin, Butylene Glycol, Bis-PEG-18 M...  23.99  Sensitive   \n",
       "\n",
       "      Combination  Dry  Normal  Oily  Sensitive active_ingredient  \\\n",
       "0               1    1       1     1          1                     \n",
       "1               1    1       1     1          1                     \n",
       "2               1    1       1     1          1                     \n",
       "3               1    1       1     1          1                     \n",
       "4               1    1       1     1          1                     \n",
       "...           ...  ...     ...   ...        ...               ...   \n",
       "2036            0    0       0     0          1                     \n",
       "2037            0    0       0     0          1                     \n",
       "2038            0    0       0     0          1                     \n",
       "2039            0    0       0     0          1                     \n",
       "2040            0    0       0     0          1                     \n",
       "\n",
       "                                    inactive_ingredient  \\\n",
       "0     Aqua (Water), Glycolic Acid, Rosa Damascena Fl...   \n",
       "1     Aqua/Water/Eau, Solum Diatomeae/Diatomaceous E...   \n",
       "2     Water (Aqua), Sodium Laureth Sulfate, Cocamido...   \n",
       "3     Water/Aqua/Eau, Sodium Laureth Sulfate, Cocami...   \n",
       "4     Purified Water, Glycerin, Behentrimonium Metho...   \n",
       "...                                                 ...   \n",
       "2036   [magnolia Officinalis Bark Extract, Boswellia...   \n",
       "2037  Water, Glycerin, Butylene Glycol, Glycereth-26...   \n",
       "2038  Aqua/Water/Eau, Glycerin, Ceratonia Siliqua Gu...   \n",
       "2039  Cyclopentasiloxane, Isononyl Isononanoate, Iso...   \n",
       "2040  Water, Glycerin, Butylene Glycol, Bis-PEG-18 M...   \n",
       "\n",
       "     active_ingredient_list  \\\n",
       "0                        []   \n",
       "1                        []   \n",
       "2                        []   \n",
       "3                        []   \n",
       "4                        []   \n",
       "...                     ...   \n",
       "2036                     []   \n",
       "2037                     []   \n",
       "2038                     []   \n",
       "2039                     []   \n",
       "2040                     []   \n",
       "\n",
       "                               inactive_ingredient_list  \\\n",
       "0     [Aqua (Water), Glycolic Acid, Rosa Damascena F...   \n",
       "1     [Aqua/Water/Eau, Solum Diatomeae/Diatomaceous ...   \n",
       "2     [Water (Aqua), Sodium Laureth Sulfate, Cocamid...   \n",
       "3     [Water/Aqua/Eau, Sodium Laureth Sulfate, Cocam...   \n",
       "4     [Purified Water, Glycerin, Behentrimonium Meth...   \n",
       "...                                                 ...   \n",
       "2036  [[magnolia Officinalis Bark Extract, Boswellia...   \n",
       "2037  [Water, Glycerin, Butylene Glycol, Glycereth-2...   \n",
       "2038  [Aqua/Water/Eau, Glycerin, Ceratonia Siliqua G...   \n",
       "2039  [Cyclopentasiloxane, Isononyl Isononanoate, Is...   \n",
       "2040  [Water, Glycerin, Butylene Glycol, Bis-PEG-18 ...   \n",
       "\n",
       "      num_inactive_ingredients  num_active_ingredients  Is_alphabetical  \n",
       "0                           42                       0            False  \n",
       "1                           32                       0            False  \n",
       "2                           21                       0            False  \n",
       "3                           26                       0            False  \n",
       "4                           22                       0            False  \n",
       "...                        ...                     ...              ...  \n",
       "2036                        16                       0            False  \n",
       "2037                        31                       0            False  \n",
       "2038                        21                       0            False  \n",
       "2039                        27                       0            False  \n",
       "2040                        19                       0            False  \n",
       "\n",
       "[2041 rows x 17 columns]"
      ],
      "text/html": "<div>\n<style scoped>\n    .dataframe tbody tr th:only-of-type {\n        vertical-align: middle;\n    }\n\n    .dataframe tbody tr th {\n        vertical-align: top;\n    }\n\n    .dataframe thead th {\n        text-align: right;\n    }\n</style>\n<table border=\"1\" class=\"dataframe\">\n  <thead>\n    <tr style=\"text-align: right;\">\n      <th></th>\n      <th>Product</th>\n      <th>Brand</th>\n      <th>Ingredients</th>\n      <th>Price</th>\n      <th>Skin Type</th>\n      <th>Combination</th>\n      <th>Dry</th>\n      <th>Normal</th>\n      <th>Oily</th>\n      <th>Sensitive</th>\n      <th>active_ingredient</th>\n      <th>inactive_ingredient</th>\n      <th>active_ingredient_list</th>\n      <th>inactive_ingredient_list</th>\n      <th>num_inactive_ingredients</th>\n      <th>num_active_ingredients</th>\n      <th>Is_alphabetical</th>\n    </tr>\n  </thead>\n  <tbody>\n    <tr>\n      <th>0</th>\n      <td>Glycolic Acid 7% Toning Solution</td>\n      <td>The Ordinary</td>\n      <td>Aqua (Water), Glycolic Acid, Rosa Damascena Fl...</td>\n      <td>8.70</td>\n      <td>Oily</td>\n      <td>1</td>\n      <td>1</td>\n      <td>1</td>\n      <td>1</td>\n      <td>1</td>\n      <td></td>\n      <td>Aqua (Water), Glycolic Acid, Rosa Damascena Fl...</td>\n      <td>[]</td>\n      <td>[Aqua (Water), Glycolic Acid, Rosa Damascena F...</td>\n      <td>42</td>\n      <td>0</td>\n      <td>False</td>\n    </tr>\n    <tr>\n      <th>1</th>\n      <td>The Microdelivery Exfoliating Facial Wash</td>\n      <td>Philosophy</td>\n      <td>Aqua/Water/Eau, Solum Diatomeae/Diatomaceous E...</td>\n      <td>29.00</td>\n      <td>Oily</td>\n      <td>1</td>\n      <td>1</td>\n      <td>1</td>\n      <td>1</td>\n      <td>1</td>\n      <td></td>\n      <td>Aqua/Water/Eau, Solum Diatomeae/Diatomaceous E...</td>\n      <td>[]</td>\n      <td>[Aqua/Water/Eau, Solum Diatomeae/Diatomaceous ...</td>\n      <td>32</td>\n      <td>0</td>\n      <td>False</td>\n    </tr>\n    <tr>\n      <th>2</th>\n      <td>AHA/BHA Exfoliating Cleanser</td>\n      <td>Murad</td>\n      <td>Water (Aqua), Sodium Laureth Sulfate, Cocamido...</td>\n      <td>40.00</td>\n      <td>Oily</td>\n      <td>1</td>\n      <td>1</td>\n      <td>1</td>\n      <td>1</td>\n      <td>1</td>\n      <td></td>\n      <td>Water (Aqua), Sodium Laureth Sulfate, Cocamido...</td>\n      <td>[]</td>\n      <td>[Water (Aqua), Sodium Laureth Sulfate, Cocamid...</td>\n      <td>21</td>\n      <td>0</td>\n      <td>False</td>\n    </tr>\n    <tr>\n      <th>3</th>\n      <td>Anti-Aging Cleansing Gel</td>\n      <td>Peter Thomas Roth</td>\n      <td>Water/Aqua/Eau, Sodium Laureth Sulfate, Cocami...</td>\n      <td>39.00</td>\n      <td>Oily</td>\n      <td>1</td>\n      <td>1</td>\n      <td>1</td>\n      <td>1</td>\n      <td>1</td>\n      <td></td>\n      <td>Water/Aqua/Eau, Sodium Laureth Sulfate, Cocami...</td>\n      <td>[]</td>\n      <td>[Water/Aqua/Eau, Sodium Laureth Sulfate, Cocam...</td>\n      <td>26</td>\n      <td>0</td>\n      <td>False</td>\n    </tr>\n    <tr>\n      <th>4</th>\n      <td>Hydrating Facial Cleanser</td>\n      <td>CeraVe</td>\n      <td>Purified Water, Glycerin, Behentrimonium Metho...</td>\n      <td>13.49</td>\n      <td>Oily</td>\n      <td>1</td>\n      <td>1</td>\n      <td>1</td>\n      <td>1</td>\n      <td>1</td>\n      <td></td>\n      <td>Purified Water, Glycerin, Behentrimonium Metho...</td>\n      <td>[]</td>\n      <td>[Purified Water, Glycerin, Behentrimonium Meth...</td>\n      <td>22</td>\n      <td>0</td>\n      <td>False</td>\n    </tr>\n    <tr>\n      <th>...</th>\n      <td>...</td>\n      <td>...</td>\n      <td>...</td>\n      <td>...</td>\n      <td>...</td>\n      <td>...</td>\n      <td>...</td>\n      <td>...</td>\n      <td>...</td>\n      <td>...</td>\n      <td>...</td>\n      <td>...</td>\n      <td>...</td>\n      <td>...</td>\n      <td>...</td>\n      <td>...</td>\n      <td>...</td>\n    </tr>\n    <tr>\n      <th>2036</th>\n      <td>Instant Hydration Facial Sheet Mask</td>\n      <td>Andalou Naturals</td>\n      <td>Aloe Barbadensis Leaf Juice*, Purified Water (...</td>\n      <td>4.99</td>\n      <td>Sensitive</td>\n      <td>0</td>\n      <td>0</td>\n      <td>0</td>\n      <td>0</td>\n      <td>1</td>\n      <td></td>\n      <td>[magnolia Officinalis Bark Extract, Boswellia...</td>\n      <td>[]</td>\n      <td>[[magnolia Officinalis Bark Extract, Boswellia...</td>\n      <td>16</td>\n      <td>0</td>\n      <td>False</td>\n    </tr>\n    <tr>\n      <th>2037</th>\n      <td>Prep Cicaronic SOS Ampoules</td>\n      <td>SNP</td>\n      <td>Water, Glycerin, Butylene Glycol, Glycereth-26...</td>\n      <td>16.00</td>\n      <td>Sensitive</td>\n      <td>0</td>\n      <td>0</td>\n      <td>0</td>\n      <td>0</td>\n      <td>1</td>\n      <td></td>\n      <td>Water, Glycerin, Butylene Glycol, Glycereth-26...</td>\n      <td>[]</td>\n      <td>[Water, Glycerin, Butylene Glycol, Glycereth-2...</td>\n      <td>31</td>\n      <td>0</td>\n      <td>False</td>\n    </tr>\n    <tr>\n      <th>2038</th>\n      <td>Pro-Collagen Hydra-Gel Eye Mask</td>\n      <td>ELEMIS</td>\n      <td>Aqua/Water/Eau, Glycerin, Ceratonia Siliqua Gu...</td>\n      <td>76.00</td>\n      <td>Sensitive</td>\n      <td>0</td>\n      <td>0</td>\n      <td>0</td>\n      <td>0</td>\n      <td>1</td>\n      <td></td>\n      <td>Aqua/Water/Eau, Glycerin, Ceratonia Siliqua Gu...</td>\n      <td>[]</td>\n      <td>[Aqua/Water/Eau, Glycerin, Ceratonia Siliqua G...</td>\n      <td>21</td>\n      <td>0</td>\n      <td>False</td>\n    </tr>\n    <tr>\n      <th>2039</th>\n      <td>ADVANCED Ceramide Capsules Daily Youth Restori...</td>\n      <td>Elizabeth Arden</td>\n      <td>Cyclopentasiloxane, Isononyl Isononanoate, Iso...</td>\n      <td>63.00</td>\n      <td>Sensitive</td>\n      <td>0</td>\n      <td>0</td>\n      <td>0</td>\n      <td>0</td>\n      <td>1</td>\n      <td></td>\n      <td>Cyclopentasiloxane, Isononyl Isononanoate, Iso...</td>\n      <td>[]</td>\n      <td>[Cyclopentasiloxane, Isononyl Isononanoate, Is...</td>\n      <td>27</td>\n      <td>0</td>\n      <td>False</td>\n    </tr>\n    <tr>\n      <th>2040</th>\n      <td>Calm + Restore Triple Oat Serum</td>\n      <td>Aveeno</td>\n      <td>Water, Glycerin, Butylene Glycol, Bis-PEG-18 M...</td>\n      <td>23.99</td>\n      <td>Sensitive</td>\n      <td>0</td>\n      <td>0</td>\n      <td>0</td>\n      <td>0</td>\n      <td>1</td>\n      <td></td>\n      <td>Water, Glycerin, Butylene Glycol, Bis-PEG-18 M...</td>\n      <td>[]</td>\n      <td>[Water, Glycerin, Butylene Glycol, Bis-PEG-18 ...</td>\n      <td>19</td>\n      <td>0</td>\n      <td>False</td>\n    </tr>\n  </tbody>\n</table>\n<p>2041 rows × 17 columns</p>\n</div>"
     },
     "metadata": {},
     "execution_count": 9
    }
   ],
   "source": [
    "data_cleaner= data_cleaning(df)\n",
    "data_cleaner.clean()\n",
    "df_cleaned = data_cleaner.get_df()\n",
    "df_cleaned"
   ]
  },
  {
   "source": [
    "## 2.4 Create the rating and category dictionaries "
   ],
   "cell_type": "markdown",
   "metadata": {}
  },
  {
   "cell_type": "code",
   "execution_count": 10,
   "metadata": {},
   "outputs": [],
   "source": [
    "ingredients_rating_dict = {name.lower(): row['rating_num'] for (idx, row) in ingredientInfo.iterrows() for name in row[\"name\"].split('/')}"
   ]
  },
  {
   "cell_type": "code",
   "execution_count": 11,
   "metadata": {},
   "outputs": [],
   "source": [
    "ingredients_category_dict = {name.lower(): row[\"Category\"] for (idx, row) in ingredientInfo.iterrows() for name in row[\"name\"].split('/')}"
   ]
  },
  {
   "source": [
    "## 2.5 Ingredient Matching \n",
    "### Create a set of all unique ingredients in our dataframe. Use this set to build the matching dictionary. "
   ],
   "cell_type": "markdown",
   "metadata": {}
  },
  {
   "cell_type": "code",
   "execution_count": 12,
   "metadata": {},
   "outputs": [],
   "source": [
    "all_ingredients = set(list(itertools.chain(*df_cleaned['inactive_ingredient_list'].values)))"
   ]
  },
  {
   "cell_type": "code",
   "execution_count": 13,
   "metadata": {},
   "outputs": [],
   "source": [
    "Match_dict={}\n",
    "for ingredient in all_ingredients:\n",
    "    match_matric = {key: difflib.SequenceMatcher(None, key, ingredient).ratio() for key in ingredients_category_dict.keys()} \n",
    "    best_match, best_metric = max(match_matric.items(), key = operator.itemgetter(1))\n",
    "\n",
    "    if best_metric > .5:\n",
    "        Match_dict[ingredient.lower()] = best_match\n",
    "    else: \n",
    "        Match_dict[ingredient.lower()] = \"unknown\" "
   ]
  },
  {
   "cell_type": "code",
   "execution_count": 26,
   "metadata": {},
   "outputs": [],
   "source": [
    "Match_ratings = {}\n",
    "Match_categories ={}\n",
    "for k in Match_dict.keys():\n",
    "    if k in ingredients_rating_dict.keys():\n",
    "        Match_ratings[k] = ingredients_rating_dict.get(k)\n",
    "        Match_categories[k] = ingredients_category_dict.get(k).replace(\"[\", '').replace(\"]\", '').split(\",\")\n"
   ]
  },
  {
   "source": [
    "## 2.6 Map over the Ingredient rating and category(s)\n",
    "### For all products loop over the ingredient list and find each ingredient's rating and category "
   ],
   "cell_type": "markdown",
   "metadata": {}
  },
  {
   "cell_type": "code",
   "execution_count": 27,
   "metadata": {},
   "outputs": [],
   "source": [
    "category_list = []\n",
    "ratings_list = []\n",
    "for Ingredients in df_cleaned['inactive_ingredient_list'].values:\n",
    "    temp_list = []\n",
    "    temp_list2 = []\n",
    "    for i in Ingredients:\n",
    "        i = i.lower()\n",
    "        temp_list.append(Match_ratings.get(i))\n",
    "        temp_list2.append(Match_categories.get(i))\n",
    "    ratings_list.append(temp_list)\n",
    "    category_list.append(temp_list2)\n",
    "\n",
    "df_cleaned[\"ingredients_ratings_list\"] = ratings_list\n",
    "df_cleaned[\"ingredients_category_list\"] = category_list"
   ]
  },
  {
   "source": [
    "## The ingredient category list as of right now is 2 dimensional list. We need it to be 1 dimensional."
   ],
   "cell_type": "markdown",
   "metadata": {}
  },
  {
   "cell_type": "code",
   "execution_count": 28,
   "metadata": {},
   "outputs": [],
   "source": [
    "from iteration_utilities import deepflatten\n",
    "flatten_list = []\n",
    "for i in range(len(df_cleaned.ingredients_category_list)):\n",
    "    flat = list(deepflatten(df_cleaned[\"ingredients_category_list\"][i], depth =1))\n",
    "    flatten_list.append(flat)"
   ]
  },
  {
   "cell_type": "code",
   "execution_count": 29,
   "metadata": {},
   "outputs": [
    {
     "output_type": "execute_result",
     "data": {
      "text/plain": [
       "                                                Product              Brand  \\\n",
       "0                      Glycolic Acid 7% Toning Solution       The Ordinary   \n",
       "1             The Microdelivery Exfoliating Facial Wash         Philosophy   \n",
       "2                          AHA/BHA Exfoliating Cleanser              Murad   \n",
       "3                              Anti-Aging Cleansing Gel  Peter Thomas Roth   \n",
       "4                             Hydrating Facial Cleanser             CeraVe   \n",
       "...                                                 ...                ...   \n",
       "2036                Instant Hydration Facial Sheet Mask   Andalou Naturals   \n",
       "2037                        Prep Cicaronic SOS Ampoules                SNP   \n",
       "2038                    Pro-Collagen Hydra-Gel Eye Mask             ELEMIS   \n",
       "2039  ADVANCED Ceramide Capsules Daily Youth Restori...    Elizabeth Arden   \n",
       "2040                    Calm + Restore Triple Oat Serum             Aveeno   \n",
       "\n",
       "                                            Ingredients  Price  Skin Type  \\\n",
       "0     Aqua (Water), Glycolic Acid, Rosa Damascena Fl...   8.70       Oily   \n",
       "1     Aqua/Water/Eau, Solum Diatomeae/Diatomaceous E...  29.00       Oily   \n",
       "2     Water (Aqua), Sodium Laureth Sulfate, Cocamido...  40.00       Oily   \n",
       "3     Water/Aqua/Eau, Sodium Laureth Sulfate, Cocami...  39.00       Oily   \n",
       "4     Purified Water, Glycerin, Behentrimonium Metho...  13.49       Oily   \n",
       "...                                                 ...    ...        ...   \n",
       "2036  Aloe Barbadensis Leaf Juice*, Purified Water (...   4.99  Sensitive   \n",
       "2037  Water, Glycerin, Butylene Glycol, Glycereth-26...  16.00  Sensitive   \n",
       "2038  Aqua/Water/Eau, Glycerin, Ceratonia Siliqua Gu...  76.00  Sensitive   \n",
       "2039  Cyclopentasiloxane, Isononyl Isononanoate, Iso...  63.00  Sensitive   \n",
       "2040  Water, Glycerin, Butylene Glycol, Bis-PEG-18 M...  23.99  Sensitive   \n",
       "\n",
       "      Combination  Dry  Normal  Oily  Sensitive  ... num_of_Emollients  \\\n",
       "0               1    1       1     1          1  ...                 0   \n",
       "1               1    1       1     1          1  ...                 0   \n",
       "2               1    1       1     1          1  ...                 0   \n",
       "3               1    1       1     1          1  ...                 0   \n",
       "4               1    1       1     1          1  ...                 1   \n",
       "...           ...  ...     ...   ...        ...  ...               ...   \n",
       "2036            0    0       0     0          1  ...                 0   \n",
       "2037            0    0       0     0          1  ...                 0   \n",
       "2038            0    0       0     0          1  ...                 0   \n",
       "2039            0    0       0     0          1  ...                 5   \n",
       "2040            0    0       0     0          1  ...                 0   \n",
       "\n",
       "     num_of_Hydration num_of_Skin-Restoring num_of_Plant Extracts  \\\n",
       "0                   1                     0                     0   \n",
       "1                   0                     0                     0   \n",
       "2                   0                     0                     1   \n",
       "3                   0                     0                     0   \n",
       "4                   0                     0                     0   \n",
       "...               ...                   ...                   ...   \n",
       "2036                0                     0                     0   \n",
       "2037                0                     0                     1   \n",
       "2038                0                     0                     4   \n",
       "2039                0                     0                     0   \n",
       "2040                0                     0                     0   \n",
       "\n",
       "      num_of_Preservatives  num_of_Skin-Softening  num_of_Sensitizing  \\\n",
       "0                        2                      0                   0   \n",
       "1                        3                      0                   0   \n",
       "2                        2                      0                   0   \n",
       "3                        3                      0                   0   \n",
       "4                        3                      0                   0   \n",
       "...                    ...                    ...                 ...   \n",
       "2036                     0                      0                   0   \n",
       "2037                     0                      0                   0   \n",
       "2038                     1                      0                   0   \n",
       "2039                     1                      0                   0   \n",
       "2040                     2                      0                   0   \n",
       "\n",
       "     num_of_Skin-Replenishing  \\\n",
       "0                           6   \n",
       "1                           2   \n",
       "2                           1   \n",
       "3                           0   \n",
       "4                           1   \n",
       "...                       ...   \n",
       "2036                        0   \n",
       "2037                        2   \n",
       "2038                        2   \n",
       "2039                        0   \n",
       "2040                        1   \n",
       "\n",
       "                                                  top_3  \\\n",
       "0     [Glycolic Acid, Rosa Damascena Flower Water, C...   \n",
       "1     [Solum Diatomeae/Diatomaceous Earth/Terre De D...   \n",
       "2     [Sodium Laureth Sulfate, Cocamidopropyl Betain...   \n",
       "3     [Sodium Laureth Sulfate, Cocamidopropyl Betain...   \n",
       "4     [Glycerin, Behentrimonium Methosulfate and Cet...   \n",
       "...                                                 ...   \n",
       "2036  [Boswellia Serrata (boswellin) Extract], Biosa...   \n",
       "2037          [Glycerin, Butylene Glycol, Glycereth-26]   \n",
       "2038     [Glycerin, Ceratonia Siliqua Gum, Carrageenan]   \n",
       "2039  [Isononyl Isononanoate, Isododecane, Isopropyl...   \n",
       "2040  [Glycerin, Butylene Glycol, Bis-PEG-18 Methyl ...   \n",
       "\n",
       "                                     top3_category_list  \n",
       "0                                    [None, None, None]  \n",
       "1                                    [None, None, None]  \n",
       "2                        [None, Cleansing Agents, None]  \n",
       "3                        [None, Cleansing Agents, None]  \n",
       "4       [Skin-Replenishing, Skin-Restoring, None, None]  \n",
       "...                                                 ...  \n",
       "2036                                 [None, None, None]  \n",
       "2037  [Skin-Replenishing, Skin-Restoring, Texture En...  \n",
       "2038    [Skin-Replenishing, Skin-Restoring, None, None]  \n",
       "2039                                 [None, None, None]  \n",
       "2040  [Skin-Replenishing, Skin-Restoring, Texture En...  \n",
       "\n",
       "[2041 rows x 30 columns]"
      ],
      "text/html": "<div>\n<style scoped>\n    .dataframe tbody tr th:only-of-type {\n        vertical-align: middle;\n    }\n\n    .dataframe tbody tr th {\n        vertical-align: top;\n    }\n\n    .dataframe thead th {\n        text-align: right;\n    }\n</style>\n<table border=\"1\" class=\"dataframe\">\n  <thead>\n    <tr style=\"text-align: right;\">\n      <th></th>\n      <th>Product</th>\n      <th>Brand</th>\n      <th>Ingredients</th>\n      <th>Price</th>\n      <th>Skin Type</th>\n      <th>Combination</th>\n      <th>Dry</th>\n      <th>Normal</th>\n      <th>Oily</th>\n      <th>Sensitive</th>\n      <th>...</th>\n      <th>num_of_Emollients</th>\n      <th>num_of_Hydration</th>\n      <th>num_of_Skin-Restoring</th>\n      <th>num_of_Plant Extracts</th>\n      <th>num_of_Preservatives</th>\n      <th>num_of_Skin-Softening</th>\n      <th>num_of_Sensitizing</th>\n      <th>num_of_Skin-Replenishing</th>\n      <th>top_3</th>\n      <th>top3_category_list</th>\n    </tr>\n  </thead>\n  <tbody>\n    <tr>\n      <th>0</th>\n      <td>Glycolic Acid 7% Toning Solution</td>\n      <td>The Ordinary</td>\n      <td>Aqua (Water), Glycolic Acid, Rosa Damascena Fl...</td>\n      <td>8.70</td>\n      <td>Oily</td>\n      <td>1</td>\n      <td>1</td>\n      <td>1</td>\n      <td>1</td>\n      <td>1</td>\n      <td>...</td>\n      <td>0</td>\n      <td>1</td>\n      <td>0</td>\n      <td>0</td>\n      <td>2</td>\n      <td>0</td>\n      <td>0</td>\n      <td>6</td>\n      <td>[Glycolic Acid, Rosa Damascena Flower Water, C...</td>\n      <td>[None, None, None]</td>\n    </tr>\n    <tr>\n      <th>1</th>\n      <td>The Microdelivery Exfoliating Facial Wash</td>\n      <td>Philosophy</td>\n      <td>Aqua/Water/Eau, Solum Diatomeae/Diatomaceous E...</td>\n      <td>29.00</td>\n      <td>Oily</td>\n      <td>1</td>\n      <td>1</td>\n      <td>1</td>\n      <td>1</td>\n      <td>1</td>\n      <td>...</td>\n      <td>0</td>\n      <td>0</td>\n      <td>0</td>\n      <td>0</td>\n      <td>3</td>\n      <td>0</td>\n      <td>0</td>\n      <td>2</td>\n      <td>[Solum Diatomeae/Diatomaceous Earth/Terre De D...</td>\n      <td>[None, None, None]</td>\n    </tr>\n    <tr>\n      <th>2</th>\n      <td>AHA/BHA Exfoliating Cleanser</td>\n      <td>Murad</td>\n      <td>Water (Aqua), Sodium Laureth Sulfate, Cocamido...</td>\n      <td>40.00</td>\n      <td>Oily</td>\n      <td>1</td>\n      <td>1</td>\n      <td>1</td>\n      <td>1</td>\n      <td>1</td>\n      <td>...</td>\n      <td>0</td>\n      <td>0</td>\n      <td>0</td>\n      <td>1</td>\n      <td>2</td>\n      <td>0</td>\n      <td>0</td>\n      <td>1</td>\n      <td>[Sodium Laureth Sulfate, Cocamidopropyl Betain...</td>\n      <td>[None, Cleansing Agents, None]</td>\n    </tr>\n    <tr>\n      <th>3</th>\n      <td>Anti-Aging Cleansing Gel</td>\n      <td>Peter Thomas Roth</td>\n      <td>Water/Aqua/Eau, Sodium Laureth Sulfate, Cocami...</td>\n      <td>39.00</td>\n      <td>Oily</td>\n      <td>1</td>\n      <td>1</td>\n      <td>1</td>\n      <td>1</td>\n      <td>1</td>\n      <td>...</td>\n      <td>0</td>\n      <td>0</td>\n      <td>0</td>\n      <td>0</td>\n      <td>3</td>\n      <td>0</td>\n      <td>0</td>\n      <td>0</td>\n      <td>[Sodium Laureth Sulfate, Cocamidopropyl Betain...</td>\n      <td>[None, Cleansing Agents, None]</td>\n    </tr>\n    <tr>\n      <th>4</th>\n      <td>Hydrating Facial Cleanser</td>\n      <td>CeraVe</td>\n      <td>Purified Water, Glycerin, Behentrimonium Metho...</td>\n      <td>13.49</td>\n      <td>Oily</td>\n      <td>1</td>\n      <td>1</td>\n      <td>1</td>\n      <td>1</td>\n      <td>1</td>\n      <td>...</td>\n      <td>1</td>\n      <td>0</td>\n      <td>0</td>\n      <td>0</td>\n      <td>3</td>\n      <td>0</td>\n      <td>0</td>\n      <td>1</td>\n      <td>[Glycerin, Behentrimonium Methosulfate and Cet...</td>\n      <td>[Skin-Replenishing, Skin-Restoring, None, None]</td>\n    </tr>\n    <tr>\n      <th>...</th>\n      <td>...</td>\n      <td>...</td>\n      <td>...</td>\n      <td>...</td>\n      <td>...</td>\n      <td>...</td>\n      <td>...</td>\n      <td>...</td>\n      <td>...</td>\n      <td>...</td>\n      <td>...</td>\n      <td>...</td>\n      <td>...</td>\n      <td>...</td>\n      <td>...</td>\n      <td>...</td>\n      <td>...</td>\n      <td>...</td>\n      <td>...</td>\n      <td>...</td>\n      <td>...</td>\n    </tr>\n    <tr>\n      <th>2036</th>\n      <td>Instant Hydration Facial Sheet Mask</td>\n      <td>Andalou Naturals</td>\n      <td>Aloe Barbadensis Leaf Juice*, Purified Water (...</td>\n      <td>4.99</td>\n      <td>Sensitive</td>\n      <td>0</td>\n      <td>0</td>\n      <td>0</td>\n      <td>0</td>\n      <td>1</td>\n      <td>...</td>\n      <td>0</td>\n      <td>0</td>\n      <td>0</td>\n      <td>0</td>\n      <td>0</td>\n      <td>0</td>\n      <td>0</td>\n      <td>0</td>\n      <td>[Boswellia Serrata (boswellin) Extract], Biosa...</td>\n      <td>[None, None, None]</td>\n    </tr>\n    <tr>\n      <th>2037</th>\n      <td>Prep Cicaronic SOS Ampoules</td>\n      <td>SNP</td>\n      <td>Water, Glycerin, Butylene Glycol, Glycereth-26...</td>\n      <td>16.00</td>\n      <td>Sensitive</td>\n      <td>0</td>\n      <td>0</td>\n      <td>0</td>\n      <td>0</td>\n      <td>1</td>\n      <td>...</td>\n      <td>0</td>\n      <td>0</td>\n      <td>0</td>\n      <td>1</td>\n      <td>0</td>\n      <td>0</td>\n      <td>0</td>\n      <td>2</td>\n      <td>[Glycerin, Butylene Glycol, Glycereth-26]</td>\n      <td>[Skin-Replenishing, Skin-Restoring, Texture En...</td>\n    </tr>\n    <tr>\n      <th>2038</th>\n      <td>Pro-Collagen Hydra-Gel Eye Mask</td>\n      <td>ELEMIS</td>\n      <td>Aqua/Water/Eau, Glycerin, Ceratonia Siliqua Gu...</td>\n      <td>76.00</td>\n      <td>Sensitive</td>\n      <td>0</td>\n      <td>0</td>\n      <td>0</td>\n      <td>0</td>\n      <td>1</td>\n      <td>...</td>\n      <td>0</td>\n      <td>0</td>\n      <td>0</td>\n      <td>4</td>\n      <td>1</td>\n      <td>0</td>\n      <td>0</td>\n      <td>2</td>\n      <td>[Glycerin, Ceratonia Siliqua Gum, Carrageenan]</td>\n      <td>[Skin-Replenishing, Skin-Restoring, None, None]</td>\n    </tr>\n    <tr>\n      <th>2039</th>\n      <td>ADVANCED Ceramide Capsules Daily Youth Restori...</td>\n      <td>Elizabeth Arden</td>\n      <td>Cyclopentasiloxane, Isononyl Isononanoate, Iso...</td>\n      <td>63.00</td>\n      <td>Sensitive</td>\n      <td>0</td>\n      <td>0</td>\n      <td>0</td>\n      <td>0</td>\n      <td>1</td>\n      <td>...</td>\n      <td>5</td>\n      <td>0</td>\n      <td>0</td>\n      <td>0</td>\n      <td>1</td>\n      <td>0</td>\n      <td>0</td>\n      <td>0</td>\n      <td>[Isononyl Isononanoate, Isododecane, Isopropyl...</td>\n      <td>[None, None, None]</td>\n    </tr>\n    <tr>\n      <th>2040</th>\n      <td>Calm + Restore Triple Oat Serum</td>\n      <td>Aveeno</td>\n      <td>Water, Glycerin, Butylene Glycol, Bis-PEG-18 M...</td>\n      <td>23.99</td>\n      <td>Sensitive</td>\n      <td>0</td>\n      <td>0</td>\n      <td>0</td>\n      <td>0</td>\n      <td>1</td>\n      <td>...</td>\n      <td>0</td>\n      <td>0</td>\n      <td>0</td>\n      <td>0</td>\n      <td>2</td>\n      <td>0</td>\n      <td>0</td>\n      <td>1</td>\n      <td>[Glycerin, Butylene Glycol, Bis-PEG-18 Methyl ...</td>\n      <td>[Skin-Replenishing, Skin-Restoring, Texture En...</td>\n    </tr>\n  </tbody>\n</table>\n<p>2041 rows × 30 columns</p>\n</div>"
     },
     "metadata": {},
     "execution_count": 29
    }
   ],
   "source": [
    "df_cleaned[\"ingredients_category_list\"] = flatten_list\n",
    "df_cleaned"
   ]
  },
  {
   "source": [
    "## 2.7 Count Ingredient Categories \n",
    "\n",
    "### The categories to count for are:\n",
    "1. Antioxidants\n",
    "2. Emollients\n",
    "3. Hydration\n",
    "4. Skin-Restoring\n",
    "5. Plant Extracts\n",
    "6. Preservatives\n",
    "7. Skin-Softening\n",
    "8. Sensitizing\n",
    "9. Skin-Replenishing\n"
   ],
   "cell_type": "markdown",
   "metadata": {}
  },
  {
   "cell_type": "code",
   "execution_count": 30,
   "metadata": {},
   "outputs": [],
   "source": [
    "from collections import Counter \n",
    "categories = [\"Antioxidants\", \"Emollients\", \"Hydration\", \"Skin-Restoring\", \"Plant Extracts\", \"Preservatives\", \"Skin-Softening\", \"Sensitizing\", \"Skin-Replenishing\"]\n",
    "\n",
    "\n",
    "for category in categories:\n",
    "    count = []\n",
    "    for i in df_cleaned.ingredients_category_list.values:\n",
    "        # declaring category to count\n",
    "        x = category\n",
    "        # initiating counter\n",
    "        d = Counter(i) \n",
    "        # Add count \n",
    "        count.append(d[x])\n",
    "    df_cleaned[\"num_of_\" + category] = count"
   ]
  },
  {
   "source": [
    "## 2.8 Find the top 3 ingredients by concentration\n",
    "### Since the ingredients are not listed alphabetically, we can find the top 3 ingredients by concentration. The top 3 would be the first 3 listed ingredients or the first 4 listed ingredients if including water. "
   ],
   "cell_type": "markdown",
   "metadata": {}
  },
  {
   "cell_type": "code",
   "execution_count": 31,
   "metadata": {},
   "outputs": [],
   "source": [
    "top3 =[]\n",
    "for i in range(len(df_cleaned)):\n",
    "    main = df_cleaned.inactive_ingredient[i].split(\", \")[:4]\n",
    "    #print(main[0]) #print all the ways water is listed and to check what is the first listed ingredient in all products. It turns out to be water and it is not unusal that the ingredient in highest concentration is water. \n",
    "    if (\"Water\" or \"Aqua\" or \"Eau\" or \"Water (Aqua)\" in main[0]):\n",
    "        main = main[1:4]\n",
    "    else:\n",
    "        main = main[:3]\n",
    "    top3.append(main)\n",
    "         \n",
    "df_cleaned[\"top_3\"] = top3"
   ]
  },
  {
   "cell_type": "code",
   "execution_count": 32,
   "metadata": {},
   "outputs": [],
   "source": [
    "top_categories ={}\n",
    "for Ingredients in df_cleaned['top_3'].values:\n",
    "    for i in Ingredients:\n",
    "        top_categories[i] = ingredients_category_dict.get(i)\n",
    "\n",
    "top3category = []\n",
    "for Ingredients in df_cleaned['top_3'].values:\n",
    "    temp_list = []\n",
    "    for i in Ingredients:\n",
    "        i = i.lower()\n",
    "        temp_list.append(top_categories.get(i))\n",
    "    top3category.append(temp_list)\n",
    "df_cleaned[\"top3_category_list\"] = top3category"
   ]
  },
  {
   "source": [
    "## Remove unnecessary columns and save data set"
   ],
   "cell_type": "markdown",
   "metadata": {}
  },
  {
   "cell_type": "code",
   "execution_count": 37,
   "metadata": {},
   "outputs": [
    {
     "output_type": "execute_result",
     "data": {
      "text/plain": [
       "                                                Product              Brand  \\\n",
       "0                      Glycolic Acid 7% Toning Solution       The Ordinary   \n",
       "1             The Microdelivery Exfoliating Facial Wash         Philosophy   \n",
       "2                          AHA/BHA Exfoliating Cleanser              Murad   \n",
       "3                              Anti-Aging Cleansing Gel  Peter Thomas Roth   \n",
       "4                             Hydrating Facial Cleanser             CeraVe   \n",
       "...                                                 ...                ...   \n",
       "2036                Instant Hydration Facial Sheet Mask   Andalou Naturals   \n",
       "2037                        Prep Cicaronic SOS Ampoules                SNP   \n",
       "2038                    Pro-Collagen Hydra-Gel Eye Mask             ELEMIS   \n",
       "2039  ADVANCED Ceramide Capsules Daily Youth Restori...    Elizabeth Arden   \n",
       "2040                    Calm + Restore Triple Oat Serum             Aveeno   \n",
       "\n",
       "                                            Ingredients  Price  Combination  \\\n",
       "0     Aqua (Water), Glycolic Acid, Rosa Damascena Fl...   8.70            1   \n",
       "1     Aqua/Water/Eau, Solum Diatomeae/Diatomaceous E...  29.00            1   \n",
       "2     Water (Aqua), Sodium Laureth Sulfate, Cocamido...  40.00            1   \n",
       "3     Water/Aqua/Eau, Sodium Laureth Sulfate, Cocami...  39.00            1   \n",
       "4     Purified Water, Glycerin, Behentrimonium Metho...  13.49            1   \n",
       "...                                                 ...    ...          ...   \n",
       "2036  Aloe Barbadensis Leaf Juice*, Purified Water (...   4.99            0   \n",
       "2037  Water, Glycerin, Butylene Glycol, Glycereth-26...  16.00            0   \n",
       "2038  Aqua/Water/Eau, Glycerin, Ceratonia Siliqua Gu...  76.00            0   \n",
       "2039  Cyclopentasiloxane, Isononyl Isononanoate, Iso...  63.00            0   \n",
       "2040  Water, Glycerin, Butylene Glycol, Bis-PEG-18 M...  23.99            0   \n",
       "\n",
       "      Dry  Normal  Oily  Sensitive active_ingredient  ... num_of_Emollients  \\\n",
       "0       1       1     1          1                    ...                 0   \n",
       "1       1       1     1          1                    ...                 0   \n",
       "2       1       1     1          1                    ...                 0   \n",
       "3       1       1     1          1                    ...                 0   \n",
       "4       1       1     1          1                    ...                 1   \n",
       "...   ...     ...   ...        ...               ...  ...               ...   \n",
       "2036    0       0     0          1                    ...                 0   \n",
       "2037    0       0     0          1                    ...                 0   \n",
       "2038    0       0     0          1                    ...                 0   \n",
       "2039    0       0     0          1                    ...                 5   \n",
       "2040    0       0     0          1                    ...                 0   \n",
       "\n",
       "      num_of_Hydration  num_of_Skin-Restoring  num_of_Plant Extracts  \\\n",
       "0                    1                      0                      0   \n",
       "1                    0                      0                      0   \n",
       "2                    0                      0                      1   \n",
       "3                    0                      0                      0   \n",
       "4                    0                      0                      0   \n",
       "...                ...                    ...                    ...   \n",
       "2036                 0                      0                      0   \n",
       "2037                 0                      0                      1   \n",
       "2038                 0                      0                      4   \n",
       "2039                 0                      0                      0   \n",
       "2040                 0                      0                      0   \n",
       "\n",
       "     num_of_Preservatives num_of_Skin-Softening  num_of_Sensitizing  \\\n",
       "0                       2                     0                   0   \n",
       "1                       3                     0                   0   \n",
       "2                       2                     0                   0   \n",
       "3                       3                     0                   0   \n",
       "4                       3                     0                   0   \n",
       "...                   ...                   ...                 ...   \n",
       "2036                    0                     0                   0   \n",
       "2037                    0                     0                   0   \n",
       "2038                    1                     0                   0   \n",
       "2039                    1                     0                   0   \n",
       "2040                    2                     0                   0   \n",
       "\n",
       "      num_of_Skin-Replenishing  \\\n",
       "0                            6   \n",
       "1                            2   \n",
       "2                            1   \n",
       "3                            0   \n",
       "4                            1   \n",
       "...                        ...   \n",
       "2036                         0   \n",
       "2037                         2   \n",
       "2038                         2   \n",
       "2039                         0   \n",
       "2040                         1   \n",
       "\n",
       "                                                  top_3  \\\n",
       "0     [Glycolic Acid, Rosa Damascena Flower Water, C...   \n",
       "1     [Solum Diatomeae/Diatomaceous Earth/Terre De D...   \n",
       "2     [Sodium Laureth Sulfate, Cocamidopropyl Betain...   \n",
       "3     [Sodium Laureth Sulfate, Cocamidopropyl Betain...   \n",
       "4     [Glycerin, Behentrimonium Methosulfate and Cet...   \n",
       "...                                                 ...   \n",
       "2036  [Boswellia Serrata (boswellin) Extract], Biosa...   \n",
       "2037          [Glycerin, Butylene Glycol, Glycereth-26]   \n",
       "2038     [Glycerin, Ceratonia Siliqua Gum, Carrageenan]   \n",
       "2039  [Isononyl Isononanoate, Isododecane, Isopropyl...   \n",
       "2040  [Glycerin, Butylene Glycol, Bis-PEG-18 Methyl ...   \n",
       "\n",
       "                                     top3_category_list  \n",
       "0                                    [None, None, None]  \n",
       "1                                    [None, None, None]  \n",
       "2                        [None, Cleansing Agents, None]  \n",
       "3                        [None, Cleansing Agents, None]  \n",
       "4       [Skin-Replenishing, Skin-Restoring, None, None]  \n",
       "...                                                 ...  \n",
       "2036                                 [None, None, None]  \n",
       "2037  [Skin-Replenishing, Skin-Restoring, Texture En...  \n",
       "2038    [Skin-Replenishing, Skin-Restoring, None, None]  \n",
       "2039                                 [None, None, None]  \n",
       "2040  [Skin-Replenishing, Skin-Restoring, Texture En...  \n",
       "\n",
       "[2041 rows x 27 columns]"
      ],
      "text/html": "<div>\n<style scoped>\n    .dataframe tbody tr th:only-of-type {\n        vertical-align: middle;\n    }\n\n    .dataframe tbody tr th {\n        vertical-align: top;\n    }\n\n    .dataframe thead th {\n        text-align: right;\n    }\n</style>\n<table border=\"1\" class=\"dataframe\">\n  <thead>\n    <tr style=\"text-align: right;\">\n      <th></th>\n      <th>Product</th>\n      <th>Brand</th>\n      <th>Ingredients</th>\n      <th>Price</th>\n      <th>Combination</th>\n      <th>Dry</th>\n      <th>Normal</th>\n      <th>Oily</th>\n      <th>Sensitive</th>\n      <th>active_ingredient</th>\n      <th>...</th>\n      <th>num_of_Emollients</th>\n      <th>num_of_Hydration</th>\n      <th>num_of_Skin-Restoring</th>\n      <th>num_of_Plant Extracts</th>\n      <th>num_of_Preservatives</th>\n      <th>num_of_Skin-Softening</th>\n      <th>num_of_Sensitizing</th>\n      <th>num_of_Skin-Replenishing</th>\n      <th>top_3</th>\n      <th>top3_category_list</th>\n    </tr>\n  </thead>\n  <tbody>\n    <tr>\n      <th>0</th>\n      <td>Glycolic Acid 7% Toning Solution</td>\n      <td>The Ordinary</td>\n      <td>Aqua (Water), Glycolic Acid, Rosa Damascena Fl...</td>\n      <td>8.70</td>\n      <td>1</td>\n      <td>1</td>\n      <td>1</td>\n      <td>1</td>\n      <td>1</td>\n      <td></td>\n      <td>...</td>\n      <td>0</td>\n      <td>1</td>\n      <td>0</td>\n      <td>0</td>\n      <td>2</td>\n      <td>0</td>\n      <td>0</td>\n      <td>6</td>\n      <td>[Glycolic Acid, Rosa Damascena Flower Water, C...</td>\n      <td>[None, None, None]</td>\n    </tr>\n    <tr>\n      <th>1</th>\n      <td>The Microdelivery Exfoliating Facial Wash</td>\n      <td>Philosophy</td>\n      <td>Aqua/Water/Eau, Solum Diatomeae/Diatomaceous E...</td>\n      <td>29.00</td>\n      <td>1</td>\n      <td>1</td>\n      <td>1</td>\n      <td>1</td>\n      <td>1</td>\n      <td></td>\n      <td>...</td>\n      <td>0</td>\n      <td>0</td>\n      <td>0</td>\n      <td>0</td>\n      <td>3</td>\n      <td>0</td>\n      <td>0</td>\n      <td>2</td>\n      <td>[Solum Diatomeae/Diatomaceous Earth/Terre De D...</td>\n      <td>[None, None, None]</td>\n    </tr>\n    <tr>\n      <th>2</th>\n      <td>AHA/BHA Exfoliating Cleanser</td>\n      <td>Murad</td>\n      <td>Water (Aqua), Sodium Laureth Sulfate, Cocamido...</td>\n      <td>40.00</td>\n      <td>1</td>\n      <td>1</td>\n      <td>1</td>\n      <td>1</td>\n      <td>1</td>\n      <td></td>\n      <td>...</td>\n      <td>0</td>\n      <td>0</td>\n      <td>0</td>\n      <td>1</td>\n      <td>2</td>\n      <td>0</td>\n      <td>0</td>\n      <td>1</td>\n      <td>[Sodium Laureth Sulfate, Cocamidopropyl Betain...</td>\n      <td>[None, Cleansing Agents, None]</td>\n    </tr>\n    <tr>\n      <th>3</th>\n      <td>Anti-Aging Cleansing Gel</td>\n      <td>Peter Thomas Roth</td>\n      <td>Water/Aqua/Eau, Sodium Laureth Sulfate, Cocami...</td>\n      <td>39.00</td>\n      <td>1</td>\n      <td>1</td>\n      <td>1</td>\n      <td>1</td>\n      <td>1</td>\n      <td></td>\n      <td>...</td>\n      <td>0</td>\n      <td>0</td>\n      <td>0</td>\n      <td>0</td>\n      <td>3</td>\n      <td>0</td>\n      <td>0</td>\n      <td>0</td>\n      <td>[Sodium Laureth Sulfate, Cocamidopropyl Betain...</td>\n      <td>[None, Cleansing Agents, None]</td>\n    </tr>\n    <tr>\n      <th>4</th>\n      <td>Hydrating Facial Cleanser</td>\n      <td>CeraVe</td>\n      <td>Purified Water, Glycerin, Behentrimonium Metho...</td>\n      <td>13.49</td>\n      <td>1</td>\n      <td>1</td>\n      <td>1</td>\n      <td>1</td>\n      <td>1</td>\n      <td></td>\n      <td>...</td>\n      <td>1</td>\n      <td>0</td>\n      <td>0</td>\n      <td>0</td>\n      <td>3</td>\n      <td>0</td>\n      <td>0</td>\n      <td>1</td>\n      <td>[Glycerin, Behentrimonium Methosulfate and Cet...</td>\n      <td>[Skin-Replenishing, Skin-Restoring, None, None]</td>\n    </tr>\n    <tr>\n      <th>...</th>\n      <td>...</td>\n      <td>...</td>\n      <td>...</td>\n      <td>...</td>\n      <td>...</td>\n      <td>...</td>\n      <td>...</td>\n      <td>...</td>\n      <td>...</td>\n      <td>...</td>\n      <td>...</td>\n      <td>...</td>\n      <td>...</td>\n      <td>...</td>\n      <td>...</td>\n      <td>...</td>\n      <td>...</td>\n      <td>...</td>\n      <td>...</td>\n      <td>...</td>\n      <td>...</td>\n    </tr>\n    <tr>\n      <th>2036</th>\n      <td>Instant Hydration Facial Sheet Mask</td>\n      <td>Andalou Naturals</td>\n      <td>Aloe Barbadensis Leaf Juice*, Purified Water (...</td>\n      <td>4.99</td>\n      <td>0</td>\n      <td>0</td>\n      <td>0</td>\n      <td>0</td>\n      <td>1</td>\n      <td></td>\n      <td>...</td>\n      <td>0</td>\n      <td>0</td>\n      <td>0</td>\n      <td>0</td>\n      <td>0</td>\n      <td>0</td>\n      <td>0</td>\n      <td>0</td>\n      <td>[Boswellia Serrata (boswellin) Extract], Biosa...</td>\n      <td>[None, None, None]</td>\n    </tr>\n    <tr>\n      <th>2037</th>\n      <td>Prep Cicaronic SOS Ampoules</td>\n      <td>SNP</td>\n      <td>Water, Glycerin, Butylene Glycol, Glycereth-26...</td>\n      <td>16.00</td>\n      <td>0</td>\n      <td>0</td>\n      <td>0</td>\n      <td>0</td>\n      <td>1</td>\n      <td></td>\n      <td>...</td>\n      <td>0</td>\n      <td>0</td>\n      <td>0</td>\n      <td>1</td>\n      <td>0</td>\n      <td>0</td>\n      <td>0</td>\n      <td>2</td>\n      <td>[Glycerin, Butylene Glycol, Glycereth-26]</td>\n      <td>[Skin-Replenishing, Skin-Restoring, Texture En...</td>\n    </tr>\n    <tr>\n      <th>2038</th>\n      <td>Pro-Collagen Hydra-Gel Eye Mask</td>\n      <td>ELEMIS</td>\n      <td>Aqua/Water/Eau, Glycerin, Ceratonia Siliqua Gu...</td>\n      <td>76.00</td>\n      <td>0</td>\n      <td>0</td>\n      <td>0</td>\n      <td>0</td>\n      <td>1</td>\n      <td></td>\n      <td>...</td>\n      <td>0</td>\n      <td>0</td>\n      <td>0</td>\n      <td>4</td>\n      <td>1</td>\n      <td>0</td>\n      <td>0</td>\n      <td>2</td>\n      <td>[Glycerin, Ceratonia Siliqua Gum, Carrageenan]</td>\n      <td>[Skin-Replenishing, Skin-Restoring, None, None]</td>\n    </tr>\n    <tr>\n      <th>2039</th>\n      <td>ADVANCED Ceramide Capsules Daily Youth Restori...</td>\n      <td>Elizabeth Arden</td>\n      <td>Cyclopentasiloxane, Isononyl Isononanoate, Iso...</td>\n      <td>63.00</td>\n      <td>0</td>\n      <td>0</td>\n      <td>0</td>\n      <td>0</td>\n      <td>1</td>\n      <td></td>\n      <td>...</td>\n      <td>5</td>\n      <td>0</td>\n      <td>0</td>\n      <td>0</td>\n      <td>1</td>\n      <td>0</td>\n      <td>0</td>\n      <td>0</td>\n      <td>[Isononyl Isononanoate, Isododecane, Isopropyl...</td>\n      <td>[None, None, None]</td>\n    </tr>\n    <tr>\n      <th>2040</th>\n      <td>Calm + Restore Triple Oat Serum</td>\n      <td>Aveeno</td>\n      <td>Water, Glycerin, Butylene Glycol, Bis-PEG-18 M...</td>\n      <td>23.99</td>\n      <td>0</td>\n      <td>0</td>\n      <td>0</td>\n      <td>0</td>\n      <td>1</td>\n      <td></td>\n      <td>...</td>\n      <td>0</td>\n      <td>0</td>\n      <td>0</td>\n      <td>0</td>\n      <td>2</td>\n      <td>0</td>\n      <td>0</td>\n      <td>1</td>\n      <td>[Glycerin, Butylene Glycol, Bis-PEG-18 Methyl ...</td>\n      <td>[Skin-Replenishing, Skin-Restoring, Texture En...</td>\n    </tr>\n  </tbody>\n</table>\n<p>2041 rows × 27 columns</p>\n</div>"
     },
     "metadata": {},
     "execution_count": 37
    }
   ],
   "source": [
    "df_cleaned.drop([\"Skin Type\", \"inactive_ingredient_list\", \"active_ingredient_list\"], axis =1)\n"
   ]
  },
  {
   "cell_type": "code",
   "execution_count": 38,
   "metadata": {},
   "outputs": [],
   "source": [
    "df_cleaned.to_csv('Master_cleaned.csv', index= False)"
   ]
  },
  {
   "source": [
    "## The data set is now ready for exploratory analysis and plots. Refer to notebook 3 for this process. "
   ],
   "cell_type": "markdown",
   "metadata": {}
  }
 ]
}