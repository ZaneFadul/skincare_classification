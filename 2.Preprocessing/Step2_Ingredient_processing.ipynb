{
 "metadata": {
  "language_info": {
   "codemirror_mode": {
    "name": "ipython",
    "version": 3
   },
   "file_extension": ".py",
   "mimetype": "text/x-python",
   "name": "python",
   "nbconvert_exporter": "python",
   "pygments_lexer": "ipython3",
   "version": "3.8.3-final"
  },
  "orig_nbformat": 2,
  "kernelspec": {
   "name": "Python 3.8.3 64-bit ('base': conda)",
   "display_name": "Python 3.8.3 64-bit ('base': conda)",
   "metadata": {
    "interpreter": {
     "hash": "f85c0ae1067a86ad6a96b144378883e79fd1516474b579ba33ee3a7084540002"
    }
   }
  }
 },
 "nbformat": 4,
 "nbformat_minor": 2,
 "cells": [
  {
   "cell_type": "code",
   "execution_count": 103,
   "metadata": {},
   "outputs": [],
   "source": [
    "import numpy as np \n",
    "import pandas as pd\n",
    "import csv \n",
    "import difflib\n",
    "import itertools\n",
    "import operator\n",
    "\n",
    "\n",
    "import os \n",
    "os.chdir(\"/Users/susanchen/Documents/GitHub/skincare_classification/Data_sets\")"
   ]
  },
  {
   "source": [
    "## 2.0 Load the dataset "
   ],
   "cell_type": "markdown",
   "metadata": {}
  },
  {
   "cell_type": "code",
   "execution_count": 104,
   "metadata": {},
   "outputs": [],
   "source": [
    "ingredientInfo = pd.read_csv('ingredient_cleaned.txt', sep = \",\")\n",
    "df = pd.read_csv('Master_uncleaned.csv')"
   ]
  },
  {
   "cell_type": "code",
   "execution_count": 105,
   "metadata": {},
   "outputs": [
    {
     "output_type": "execute_result",
     "data": {
      "text/plain": [
       "                                     Product              Brand  \\\n",
       "0           Glycolic Acid 7% Toning Solution       The Ordinary   \n",
       "1  The Microdelivery Exfoliating Facial Wash         Philosophy   \n",
       "2               AHA/BHA Exfoliating Cleanser              Murad   \n",
       "3                   Anti-Aging Cleansing Gel  Peter Thomas Roth   \n",
       "4                  Hydrating Facial Cleanser             CeraVe   \n",
       "\n",
       "                                         Ingredients  Price Skin Type  \\\n",
       "0  Aqua (Water), Glycolic Acid, Rosa Damascena Fl...   8.70      Oily   \n",
       "1  Aqua/Water/Eau, Solum Diatomeae/Diatomaceous E...  29.00      Oily   \n",
       "2  Water (Aqua), Sodium Laureth Sulfate, Cocamido...  40.00      Oily   \n",
       "3  Water/Aqua/Eau, Sodium Laureth Sulfate, Cocami...  39.00      Oily   \n",
       "4  Purified Water, Glycerin, Behentrimonium Metho...  13.49      Oily   \n",
       "\n",
       "   Combination  Dry  Normal  Oily  Sensitive  \n",
       "0            1    1       1     1          1  \n",
       "1            1    1       1     1          1  \n",
       "2            1    1       1     1          1  \n",
       "3            1    1       1     1          1  \n",
       "4            1    1       1     1          1  "
      ],
      "text/html": "<div>\n<style scoped>\n    .dataframe tbody tr th:only-of-type {\n        vertical-align: middle;\n    }\n\n    .dataframe tbody tr th {\n        vertical-align: top;\n    }\n\n    .dataframe thead th {\n        text-align: right;\n    }\n</style>\n<table border=\"1\" class=\"dataframe\">\n  <thead>\n    <tr style=\"text-align: right;\">\n      <th></th>\n      <th>Product</th>\n      <th>Brand</th>\n      <th>Ingredients</th>\n      <th>Price</th>\n      <th>Skin Type</th>\n      <th>Combination</th>\n      <th>Dry</th>\n      <th>Normal</th>\n      <th>Oily</th>\n      <th>Sensitive</th>\n    </tr>\n  </thead>\n  <tbody>\n    <tr>\n      <th>0</th>\n      <td>Glycolic Acid 7% Toning Solution</td>\n      <td>The Ordinary</td>\n      <td>Aqua (Water), Glycolic Acid, Rosa Damascena Fl...</td>\n      <td>8.70</td>\n      <td>Oily</td>\n      <td>1</td>\n      <td>1</td>\n      <td>1</td>\n      <td>1</td>\n      <td>1</td>\n    </tr>\n    <tr>\n      <th>1</th>\n      <td>The Microdelivery Exfoliating Facial Wash</td>\n      <td>Philosophy</td>\n      <td>Aqua/Water/Eau, Solum Diatomeae/Diatomaceous E...</td>\n      <td>29.00</td>\n      <td>Oily</td>\n      <td>1</td>\n      <td>1</td>\n      <td>1</td>\n      <td>1</td>\n      <td>1</td>\n    </tr>\n    <tr>\n      <th>2</th>\n      <td>AHA/BHA Exfoliating Cleanser</td>\n      <td>Murad</td>\n      <td>Water (Aqua), Sodium Laureth Sulfate, Cocamido...</td>\n      <td>40.00</td>\n      <td>Oily</td>\n      <td>1</td>\n      <td>1</td>\n      <td>1</td>\n      <td>1</td>\n      <td>1</td>\n    </tr>\n    <tr>\n      <th>3</th>\n      <td>Anti-Aging Cleansing Gel</td>\n      <td>Peter Thomas Roth</td>\n      <td>Water/Aqua/Eau, Sodium Laureth Sulfate, Cocami...</td>\n      <td>39.00</td>\n      <td>Oily</td>\n      <td>1</td>\n      <td>1</td>\n      <td>1</td>\n      <td>1</td>\n      <td>1</td>\n    </tr>\n    <tr>\n      <th>4</th>\n      <td>Hydrating Facial Cleanser</td>\n      <td>CeraVe</td>\n      <td>Purified Water, Glycerin, Behentrimonium Metho...</td>\n      <td>13.49</td>\n      <td>Oily</td>\n      <td>1</td>\n      <td>1</td>\n      <td>1</td>\n      <td>1</td>\n      <td>1</td>\n    </tr>\n  </tbody>\n</table>\n</div>"
     },
     "metadata": {},
     "execution_count": 105
    }
   ],
   "source": [
    "df.head()"
   ]
  },
  {
   "cell_type": "code",
   "execution_count": 106,
   "metadata": {},
   "outputs": [
    {
     "output_type": "execute_result",
     "data": {
      "text/plain": [
       "                        name  \\\n",
       "0            1, 2-Hexanediol   \n",
       "1    10-Hydroxydecanoic Acid   \n",
       "2      4-T-butylcyclohexanol   \n",
       "3  Acacia farnesiana extract   \n",
       "4         acacia senegal gum   \n",
       "\n",
       "                                            category rating  rating_num  \n",
       "0                                  ['Preservatives']   Good           2  \n",
       "1                                     ['Emollients']   Good           2  \n",
       "2                    ['Emollients', 'Skin-Soothing']   Good           2  \n",
       "3  ['Plant Extracts', 'Fragrance: Synthetic and F...   Poor           0  \n",
       "4  ['Texture Enhancer', 'Plant Extracts', 'Skin-S...   Good           2  "
      ],
      "text/html": "<div>\n<style scoped>\n    .dataframe tbody tr th:only-of-type {\n        vertical-align: middle;\n    }\n\n    .dataframe tbody tr th {\n        vertical-align: top;\n    }\n\n    .dataframe thead th {\n        text-align: right;\n    }\n</style>\n<table border=\"1\" class=\"dataframe\">\n  <thead>\n    <tr style=\"text-align: right;\">\n      <th></th>\n      <th>name</th>\n      <th>category</th>\n      <th>rating</th>\n      <th>rating_num</th>\n    </tr>\n  </thead>\n  <tbody>\n    <tr>\n      <th>0</th>\n      <td>1, 2-Hexanediol</td>\n      <td>['Preservatives']</td>\n      <td>Good</td>\n      <td>2</td>\n    </tr>\n    <tr>\n      <th>1</th>\n      <td>10-Hydroxydecanoic Acid</td>\n      <td>['Emollients']</td>\n      <td>Good</td>\n      <td>2</td>\n    </tr>\n    <tr>\n      <th>2</th>\n      <td>4-T-butylcyclohexanol</td>\n      <td>['Emollients', 'Skin-Soothing']</td>\n      <td>Good</td>\n      <td>2</td>\n    </tr>\n    <tr>\n      <th>3</th>\n      <td>Acacia farnesiana extract</td>\n      <td>['Plant Extracts', 'Fragrance: Synthetic and F...</td>\n      <td>Poor</td>\n      <td>0</td>\n    </tr>\n    <tr>\n      <th>4</th>\n      <td>acacia senegal gum</td>\n      <td>['Texture Enhancer', 'Plant Extracts', 'Skin-S...</td>\n      <td>Good</td>\n      <td>2</td>\n    </tr>\n  </tbody>\n</table>\n</div>"
     },
     "metadata": {},
     "execution_count": 106
    }
   ],
   "source": [
    "ingredientInfo.head()"
   ]
  },
  {
   "cell_type": "code",
   "execution_count": 107,
   "metadata": {},
   "outputs": [],
   "source": [
    "class look_up_ingredient():\n",
    "\n",
    "    def __init__(self, rating_dict, category_dict):\n",
    "        self.rating_dict = rating_dict\n",
    "        self.rating_dict['unknown'] = []\n",
    "        self.category_dict = category_dict\n",
    "        self.category_dict[\"unknown\"] = []\n",
    "\n",
    "        self.rating = [value for value in self.rating_dict.values()]\n",
    "        self.category = set([value for values in self.category_dict.values() for value in values])\n",
    "        self.match_dict = {}\n",
    "\n",
    "    def find_matching_ingredient(self, my_ingredients, threshold = .25):\n",
    "        for ingredient in my_ingredients:\n",
    "            continue\n",
    "        match_matric ={key: difflib.SequenceMatcher(None, key, ingredient).ratio() for key in self.rating_dict.keys()} \n",
    "        best_match, best_metric = max(match_matric.items(), key = operator.itemgetter(1))\n",
    "\n",
    "        if best_metric > threshold:\n",
    "            self.match_dict[ingredient] = best_match\n",
    "        else: \n",
    "            self.match_dict[ingredient] = \"unknown\" \n",
    "\n",
    "    def lookup(self, ingredient, option = ''):\n",
    "        key = self.match_dict.get(ingredient, 'unknown')\n",
    "        rating = self.rating_dict.get(key, -1)\n",
    "        category = self.category_dict.get(key, [])\n",
    "\n",
    "        if option == 'ingredient':\n",
    "            return key\n",
    "        elif option == \"rating\":\n",
    "            return rating \n",
    "        elif option == 'category':\n",
    "            return category\n",
    "        else:\n",
    "            return key, rating, category"
   ]
  },
  {
   "cell_type": "code",
   "execution_count": 108,
   "metadata": {},
   "outputs": [],
   "source": [
    "ingredients_rating_dict = {name: row['rating_num'] for (idx, row) in ingredientInfo.iterrows() for name in row[\"name\"].split('/')}"
   ]
  },
  {
   "cell_type": "code",
   "execution_count": 109,
   "metadata": {},
   "outputs": [],
   "source": [
    "ingredients_category_dict = {name: row[\"category\"] for (idx, row) in ingredientInfo.iterrows() for name in row[\"name\"].split('/')}"
   ]
  },
  {
   "cell_type": "code",
   "execution_count": 110,
   "metadata": {},
   "outputs": [],
   "source": [
    "lookup = look_up_ingredient(ingredients_rating_dict, ingredients_category_dict)"
   ]
  },
  {
   "cell_type": "code",
   "execution_count": 111,
   "metadata": {},
   "outputs": [],
   "source": [
    "class data_cleaning: \n",
    "    def __init__(self, df):\n",
    "        self.df = df.copy(deep = True)\n",
    "\n",
    "    def clean_ingredients(self):\n",
    "        def split_by_active_inactive(sr_ingredient):\n",
    "            inactive_start = pd.concat([sr_ingredient.str.find('Other'),\n",
    "                                       sr_ingredient.str.find('Inactive')],\n",
    "                                       axis=1).max(axis=1)\n",
    "            \n",
    "            inactive_start = inactive_start.replace(-1, 0)\n",
    "            inactive = [ingredient[start:] for (ingredient, start) in zip(sr_ingredient, inactive_start)]\n",
    "            inactive = [ingredient[ingredient.find(':')+1:] for ingredient in inactive]                           \n",
    "            active = [ingredient[:start] for (ingredient, start) in zip(sr_ingredient, inactive_start)]\n",
    "            active = [ingredient[ingredient.rfind(':')+1:] for ingredient in active]\n",
    "            return active, inactive \n",
    "        \n",
    "        self.df[\"Ingredients\"].fillna('', inplace = True)\n",
    "        self.df['active_ingredient'], self.df['inactive_ingredient']= split_by_active_inactive(self.df['Ingredients'])\n",
    "        \n",
    "        self.df['active_ingredient_list'] = self.df['active_ingredient'].apply(lambda x: [l.strip() for l in str(x).split(',') if l.lower().islower()])\n",
    "        self.df['inactive_ingredient_list'] = self.df['inactive_ingredient'].apply(lambda x: [l.strip() for l in str(x).split(',') if l.lower().islower()])\n",
    "\n",
    "        self.df[\"num_inactive_ingredients\"] = self.df[\"inactive_ingredient_list\"].apply(lambda x: len(x))\n",
    "        self.df[\"num_active_ingredients\"] = self.df[\"active_ingredient_list\"].apply(lambda x: len (x))\n",
    "\n",
    "    def search_for_ingredients(self, lookup):\n",
    "        print('processing all ingredients...')\n",
    "        merged_ingredients = set(list(itertools.chain(*self.df['inactive_ingredient_list'].values)))\n",
    "        merged_ingredients = merged_ingredients.union(\n",
    "                            set(list(itertools.chain(*self.df['active_ingredient_list'].values))))\n",
    "        lookup.find_matching_ingredient(merged_ingredients)\n",
    "        ingredient_property = pd.DataFrame(index=merged_ingredients)\n",
    "        \n",
    "        print(\"find all ingredients information...\")\n",
    "        ingredient_property['matching'] = [lookup.lookup(ingredient, option='ingredient') \n",
    "                                        for ingredient in merged_ingredients]\n",
    "        ingredient_property['rating'] = [lookup.lookup(ingredient, option='rating') \n",
    "                                        for ingredient in merged_ingredients]\n",
    "        ingredient_property['category'] = [lookup.lookup(ingredient, option='category') \n",
    "                                        for ingredient in merged_ingredients]\n",
    "        \n",
    "        # map origianal ingredient list to matched ingredient\n",
    "        self.df['inactive_ingredient_matched_list'] = [[ingredient_property.loc[ingredient, 'matching'] \n",
    "                                                        for ingredient in ingredients]\n",
    "                                                        for ingredients in self.df['inactive_ingredient_list'].values]\n",
    "        self.df['active_ingredient_matched_list'] = [[ingredient_property.loc[ingredient, 'matching'] \n",
    "                                                        for ingredient in ingredients]\n",
    "                                                        for ingredients in self.df['active_ingredient_list'].values]\n",
    "        \n",
    "        # map original ingredient list to ingredient rating\n",
    "        self.df['inactive_ingredient_rating_list'] = [[ingredient_property.loc[ingredient, 'rating'] \n",
    "                                                        for ingredient in ingredients]\n",
    "                                                        for ingredients in self.df['inactive_ingredient_list'].values]\n",
    "        self.df['active_ingredient_rating_list'] = [[ingredient_property.loc[ingredient, 'rating'] \n",
    "                                                        for ingredient in ingredients]\n",
    "                                                        for ingredients in self.df['active_ingredient_list'].values]\n",
    "        \n",
    "        # map original ingredient list to ingredient category\n",
    "        self.df['inactive_ingredient_category_list'] = [[ingredient_property.loc[ingredient, 'category'] \n",
    "                                                        for ingredient in ingredients]\n",
    "                                                        for ingredients in self.df['inactive_ingredient_list'].values]\n",
    "        self.df['active_ingredient_category_list'] = [[ingredient_property.loc[ingredient, 'category'] \n",
    "                                                        for ingredient in ingredients]\n",
    "                                                        for ingredients in self.df['active_ingredient_list'].values]\n",
    "    \n",
    "    \n",
    "    def clean(self):\n",
    "        self.clean_ingredients()\n",
    "\n",
    "    def get_df(self):\n",
    "        return self.df\n"
   ]
  },
  {
   "source": [
    "### Test the cleaning on a sample"
   ],
   "cell_type": "markdown",
   "metadata": {}
  },
  {
   "cell_type": "code",
   "execution_count": 112,
   "metadata": {},
   "outputs": [],
   "source": [
    "sample = df.sample(10)\n",
    "data_cleaner= data_cleaning(sample)\n",
    "data_cleaner.clean()\n",
    "sample_cleaned = data_cleaner.get_df()"
   ]
  },
  {
   "cell_type": "code",
   "execution_count": 113,
   "metadata": {},
   "outputs": [
    {
     "output_type": "execute_result",
     "data": {
      "text/plain": [
       "                                                        matching rating  \\\n",
       "Mica                                                     unknown     []   \n",
       "Juniperus Virginiana (Juniper) Oil¿                      unknown     []   \n",
       "Citric Acid.                                             unknown     []   \n",
       "Sodium Polyacrylate                                      unknown     []   \n",
       "Betaine                                                  unknown     []   \n",
       "...                                                          ...    ...   \n",
       "Bis-Peg-18 Methyl Ether Dimethyl Silane                  unknown     []   \n",
       "Microcitrus Australasica Fruit Extract¿                  unknown     []   \n",
       "Tripeptide-1                                             unknown     []   \n",
       "Stearyl Glycyrrhetinate                                  unknown     []   \n",
       "Methyl Perfluorobutyl Ether              acetyl tributyl citrate      1   \n",
       "\n",
       "                                                                category  \n",
       "Mica                                                                  []  \n",
       "Juniperus Virginiana (Juniper) Oil¿                                   []  \n",
       "Citric Acid.                                                          []  \n",
       "Sodium Polyacrylate                                                   []  \n",
       "Betaine                                                               []  \n",
       "...                                                                  ...  \n",
       "Bis-Peg-18 Methyl Ether Dimethyl Silane                               []  \n",
       "Microcitrus Australasica Fruit Extract¿                               []  \n",
       "Tripeptide-1                                                          []  \n",
       "Stearyl Glycyrrhetinate                                               []  \n",
       "Methyl Perfluorobutyl Ether              ['Film-Forming/Holding Agents']  \n",
       "\n",
       "[309 rows x 3 columns]"
      ],
      "text/html": "<div>\n<style scoped>\n    .dataframe tbody tr th:only-of-type {\n        vertical-align: middle;\n    }\n\n    .dataframe tbody tr th {\n        vertical-align: top;\n    }\n\n    .dataframe thead th {\n        text-align: right;\n    }\n</style>\n<table border=\"1\" class=\"dataframe\">\n  <thead>\n    <tr style=\"text-align: right;\">\n      <th></th>\n      <th>matching</th>\n      <th>rating</th>\n      <th>category</th>\n    </tr>\n  </thead>\n  <tbody>\n    <tr>\n      <th>Mica</th>\n      <td>unknown</td>\n      <td>[]</td>\n      <td>[]</td>\n    </tr>\n    <tr>\n      <th>Juniperus Virginiana (Juniper) Oil¿</th>\n      <td>unknown</td>\n      <td>[]</td>\n      <td>[]</td>\n    </tr>\n    <tr>\n      <th>Citric Acid.</th>\n      <td>unknown</td>\n      <td>[]</td>\n      <td>[]</td>\n    </tr>\n    <tr>\n      <th>Sodium Polyacrylate</th>\n      <td>unknown</td>\n      <td>[]</td>\n      <td>[]</td>\n    </tr>\n    <tr>\n      <th>Betaine</th>\n      <td>unknown</td>\n      <td>[]</td>\n      <td>[]</td>\n    </tr>\n    <tr>\n      <th>...</th>\n      <td>...</td>\n      <td>...</td>\n      <td>...</td>\n    </tr>\n    <tr>\n      <th>Bis-Peg-18 Methyl Ether Dimethyl Silane</th>\n      <td>unknown</td>\n      <td>[]</td>\n      <td>[]</td>\n    </tr>\n    <tr>\n      <th>Microcitrus Australasica Fruit Extract¿</th>\n      <td>unknown</td>\n      <td>[]</td>\n      <td>[]</td>\n    </tr>\n    <tr>\n      <th>Tripeptide-1</th>\n      <td>unknown</td>\n      <td>[]</td>\n      <td>[]</td>\n    </tr>\n    <tr>\n      <th>Stearyl Glycyrrhetinate</th>\n      <td>unknown</td>\n      <td>[]</td>\n      <td>[]</td>\n    </tr>\n    <tr>\n      <th>Methyl Perfluorobutyl Ether</th>\n      <td>acetyl tributyl citrate</td>\n      <td>1</td>\n      <td>['Film-Forming/Holding Agents']</td>\n    </tr>\n  </tbody>\n</table>\n<p>309 rows × 3 columns</p>\n</div>"
     },
     "metadata": {},
     "execution_count": 113
    }
   ],
   "source": [
    "\n",
    "merged_ingredients = set(list(itertools.chain(*sample_cleaned['inactive_ingredient_list'].values)))\n",
    "ingredient_property = pd.DataFrame(index=merged_ingredients)\n",
    "lookup.find_matching_ingredient(merged_ingredients)\n",
    "ingredient_property['matching'] = [lookup.lookup(ingredient, option='ingredient') for ingredient in merged_ingredients]\n",
    "ingredient_property['rating'] = [lookup.lookup(ingredient, option='rating') for ingredient in merged_ingredients]\n",
    "ingredient_property['category'] = [lookup.lookup(ingredient, option='category') for ingredient in merged_ingredients]\n",
    "ingredient_property\n",
    "\n"
   ]
  },
  {
   "cell_type": "code",
   "execution_count": 122,
   "metadata": {},
   "outputs": [
    {
     "output_type": "stream",
     "name": "stdout",
     "text": [
      "processing all ingredients...\nfind all ingredients information...\n"
     ]
    },
    {
     "output_type": "execute_result",
     "data": {
      "text/plain": [
       "                                                Product         Brand  \\\n",
       "1599  Bienfait Aqua Vital Lotion Continuous Infusing...       Lancôme   \n",
       "24                                  Clarifying Cleanser         Murad   \n",
       "14                                   Deep Cleansing Oil           DHC   \n",
       "789                  Rapid Tone Repair Correcting Cream    Neutrogena   \n",
       "1080                                 Triple Oxygen Mask         Bliss   \n",
       "289                      PREBIOTIX Instant Flash Facial  Juice Beauty   \n",
       "710   Travel Size Revitalizing Supreme+ Global Anti-...  Estée Lauder   \n",
       "862   Kakadu C Intensive Vitamin C Peel Pad with Fer...   Dermadoctor   \n",
       "1270  Clear Improvement Charcoal Honey Mask To Purif...       Origins   \n",
       "1441  The Night Night Eyes - Nighttime Retinoid Eye ...     THE ROUTE   \n",
       "\n",
       "                                            Ingredients  \\\n",
       "1599  Aqua / Water / Eau, Glycerin, Alcohol Denat., ...   \n",
       "24    Active Ingredient: Salicylic Acid (1.51%). Oth...   \n",
       "14    Olea Europaea (Olive) Fruit Oil, Caprylic/Capr...   \n",
       "789   Water, Pentaerythrityl Tetraethylhexanoate, Di...   \n",
       "1080  Disodium Laureth Sulfosuccinate, Methyl Perflu...   \n",
       "289   Aloe Barbadensis Leaf Juice*, Pyrus Malus (App...   \n",
       "710   Water\\Aqua\\Eau, Dimethicone, Glycerin, Isohexa...   \n",
       "862   Aqua (Water), Glycolic Acid, Rose Centifolia F...   \n",
       "1270  Water\\Aqua\\Eau Butylene Glycol Bentonite Montm...   \n",
       "1441  Water/Aqua/Eau, Cetearyl Alcohol, Caprylic/Cap...   \n",
       "\n",
       "                               Price Skin Type  Combination  Dry  Normal  \\\n",
       "1599                           52.00       Dry            0    1       1   \n",
       "24                             32.00      Oily            1    0       0   \n",
       "14                             28.00      Oily            1    1       1   \n",
       "789                            35.99      Oily            1    1       1   \n",
       "1080                           22.00      Oily            1    1       1   \n",
       "289   rice$36.40Original Price$52.00      Oily            1    1       1   \n",
       "710                            27.00      Oily            1    1       1   \n",
       "862   rice$58.50Original Price$78.00      Oily            1    1       1   \n",
       "1270                           34.00      Oily            1    1       1   \n",
       "1441                           65.00      Oily            1    1       1   \n",
       "\n",
       "      Oily  Sensitive  ...     active_ingredient_list  \\\n",
       "1599     0          1  ...                         []   \n",
       "24       1          0  ...  [Salicylic Acid (1.51%).]   \n",
       "14       1          1  ...                         []   \n",
       "789      1          1  ...                         []   \n",
       "1080     1          1  ...                         []   \n",
       "289      1          0  ...                         []   \n",
       "710      1          1  ...                         []   \n",
       "862      1          1  ...                         []   \n",
       "1270     1          0  ...                         []   \n",
       "1441     1          1  ...                         []   \n",
       "\n",
       "                               inactive_ingredient_list  \\\n",
       "1599  [Aqua / Water / Eau, Glycerin, Alcohol Denat.,...   \n",
       "24    [Water (Aqua), Cocamidopropyl Betaine, Sodium ...   \n",
       "14    [Olea Europaea (Olive) Fruit Oil, Caprylic/Cap...   \n",
       "789   [Water, Pentaerythrityl Tetraethylhexanoate, D...   \n",
       "1080  [Disodium Laureth Sulfosuccinate, Methyl Perfl...   \n",
       "289   [Aloe Barbadensis Leaf Juice*, Pyrus Malus (Ap...   \n",
       "710   [Water\\Aqua\\Eau, Dimethicone, Glycerin, Isohex...   \n",
       "862   [Aqua (Water), Glycolic Acid, Rose Centifolia ...   \n",
       "1270  [Water\\Aqua\\Eau Butylene Glycol Bentonite Mont...   \n",
       "1441  [Water/Aqua/Eau, Cetearyl Alcohol, Caprylic/Ca...   \n",
       "\n",
       "     num_inactive_ingredients num_active_ingredients  \\\n",
       "1599                       51                      0   \n",
       "24                         31                      1   \n",
       "14                          8                      0   \n",
       "789                        32                      0   \n",
       "1080                       59                      0   \n",
       "289                        41                      0   \n",
       "710                        51                      0   \n",
       "862                        31                      0   \n",
       "1270                       18                      0   \n",
       "1441                       60                      0   \n",
       "\n",
       "                       inactive_ingredient_matched_list  \\\n",
       "1599  [unknown, unknown, unknown, unknown, unknown, ...   \n",
       "24    [unknown, unknown, unknown, unknown, unknown, ...   \n",
       "14    [unknown, unknown, unknown, unknown, unknown, ...   \n",
       "789   [unknown, unknown, unknown, unknown, unknown, ...   \n",
       "1080  [unknown, unknown, acetyl tributyl citrate, un...   \n",
       "289   [unknown, unknown, unknown, unknown, unknown, ...   \n",
       "710   [unknown, unknown, unknown, unknown, unknown, ...   \n",
       "862   [unknown, unknown, unknown, unknown, unknown, ...   \n",
       "1270  [unknown, unknown, unknown, unknown, unknown, ...   \n",
       "1441  [unknown, unknown, unknown, unknown, unknown, ...   \n",
       "\n",
       "      active_ingredient_matched_list  \\\n",
       "1599                              []   \n",
       "24                         [unknown]   \n",
       "14                                []   \n",
       "789                               []   \n",
       "1080                              []   \n",
       "289                               []   \n",
       "710                               []   \n",
       "862                               []   \n",
       "1270                              []   \n",
       "1441                              []   \n",
       "\n",
       "                        inactive_ingredient_rating_list  \\\n",
       "1599  [[], [], [], [], [], [], [], [], [], [], [], [...   \n",
       "24    [[], [], [], [], [], [], [], [], [], [], [], [...   \n",
       "14                     [[], [], [], [], [], [], [], []]   \n",
       "789   [[], [], [], [], [], [], [], [], [], [], [], [...   \n",
       "1080  [[], [], 1, [], [], [], [], [], [], [], [], []...   \n",
       "289   [[], [], [], [], [], [], [], [], [], [], [], [...   \n",
       "710   [[], [], [], [], [], [], [], [], [], [], [], [...   \n",
       "862   [[], [], [], [], [], [], [], [], [], [], [], [...   \n",
       "1270  [[], [], [], [], [], [], [], [], [], [], [], [...   \n",
       "1441  [[], [], [], [], [], [], [], [], [], [], [], [...   \n",
       "\n",
       "     active_ingredient_rating_list  \\\n",
       "1599                            []   \n",
       "24                            [[]]   \n",
       "14                              []   \n",
       "789                             []   \n",
       "1080                            []   \n",
       "289                             []   \n",
       "710                             []   \n",
       "862                             []   \n",
       "1270                            []   \n",
       "1441                            []   \n",
       "\n",
       "                      inactive_ingredient_category_list  \\\n",
       "1599  [[], [], [], [], [], [], [], [], [], [], [], [...   \n",
       "24    [[], [], [], [], [], [], [], [], [], [], [], [...   \n",
       "14                     [[], [], [], [], [], [], [], []]   \n",
       "789   [[], [], [], [], [], [], [], [], [], [], [], [...   \n",
       "1080  [[], [], ['Film-Forming/Holding Agents'], [], ...   \n",
       "289   [[], [], [], [], [], [], [], [], [], [], [], [...   \n",
       "710   [[], [], [], [], [], [], [], [], [], [], [], [...   \n",
       "862   [[], [], [], [], [], [], [], [], [], [], [], [...   \n",
       "1270  [[], [], [], [], [], [], [], [], [], [], [], [...   \n",
       "1441  [[], [], [], [], [], [], [], [], [], [], [], [...   \n",
       "\n",
       "     active_ingredient_category_list  \n",
       "1599                              []  \n",
       "24                              [[]]  \n",
       "14                                []  \n",
       "789                               []  \n",
       "1080                              []  \n",
       "289                               []  \n",
       "710                               []  \n",
       "862                               []  \n",
       "1270                              []  \n",
       "1441                              []  \n",
       "\n",
       "[10 rows x 22 columns]"
      ],
      "text/html": "<div>\n<style scoped>\n    .dataframe tbody tr th:only-of-type {\n        vertical-align: middle;\n    }\n\n    .dataframe tbody tr th {\n        vertical-align: top;\n    }\n\n    .dataframe thead th {\n        text-align: right;\n    }\n</style>\n<table border=\"1\" class=\"dataframe\">\n  <thead>\n    <tr style=\"text-align: right;\">\n      <th></th>\n      <th>Product</th>\n      <th>Brand</th>\n      <th>Ingredients</th>\n      <th>Price</th>\n      <th>Skin Type</th>\n      <th>Combination</th>\n      <th>Dry</th>\n      <th>Normal</th>\n      <th>Oily</th>\n      <th>Sensitive</th>\n      <th>...</th>\n      <th>active_ingredient_list</th>\n      <th>inactive_ingredient_list</th>\n      <th>num_inactive_ingredients</th>\n      <th>num_active_ingredients</th>\n      <th>inactive_ingredient_matched_list</th>\n      <th>active_ingredient_matched_list</th>\n      <th>inactive_ingredient_rating_list</th>\n      <th>active_ingredient_rating_list</th>\n      <th>inactive_ingredient_category_list</th>\n      <th>active_ingredient_category_list</th>\n    </tr>\n  </thead>\n  <tbody>\n    <tr>\n      <th>1599</th>\n      <td>Bienfait Aqua Vital Lotion Continuous Infusing...</td>\n      <td>Lancôme</td>\n      <td>Aqua / Water / Eau, Glycerin, Alcohol Denat., ...</td>\n      <td>52.00</td>\n      <td>Dry</td>\n      <td>0</td>\n      <td>1</td>\n      <td>1</td>\n      <td>0</td>\n      <td>1</td>\n      <td>...</td>\n      <td>[]</td>\n      <td>[Aqua / Water / Eau, Glycerin, Alcohol Denat.,...</td>\n      <td>51</td>\n      <td>0</td>\n      <td>[unknown, unknown, unknown, unknown, unknown, ...</td>\n      <td>[]</td>\n      <td>[[], [], [], [], [], [], [], [], [], [], [], [...</td>\n      <td>[]</td>\n      <td>[[], [], [], [], [], [], [], [], [], [], [], [...</td>\n      <td>[]</td>\n    </tr>\n    <tr>\n      <th>24</th>\n      <td>Clarifying Cleanser</td>\n      <td>Murad</td>\n      <td>Active Ingredient: Salicylic Acid (1.51%). Oth...</td>\n      <td>32.00</td>\n      <td>Oily</td>\n      <td>1</td>\n      <td>0</td>\n      <td>0</td>\n      <td>1</td>\n      <td>0</td>\n      <td>...</td>\n      <td>[Salicylic Acid (1.51%).]</td>\n      <td>[Water (Aqua), Cocamidopropyl Betaine, Sodium ...</td>\n      <td>31</td>\n      <td>1</td>\n      <td>[unknown, unknown, unknown, unknown, unknown, ...</td>\n      <td>[unknown]</td>\n      <td>[[], [], [], [], [], [], [], [], [], [], [], [...</td>\n      <td>[[]]</td>\n      <td>[[], [], [], [], [], [], [], [], [], [], [], [...</td>\n      <td>[[]]</td>\n    </tr>\n    <tr>\n      <th>14</th>\n      <td>Deep Cleansing Oil</td>\n      <td>DHC</td>\n      <td>Olea Europaea (Olive) Fruit Oil, Caprylic/Capr...</td>\n      <td>28.00</td>\n      <td>Oily</td>\n      <td>1</td>\n      <td>1</td>\n      <td>1</td>\n      <td>1</td>\n      <td>1</td>\n      <td>...</td>\n      <td>[]</td>\n      <td>[Olea Europaea (Olive) Fruit Oil, Caprylic/Cap...</td>\n      <td>8</td>\n      <td>0</td>\n      <td>[unknown, unknown, unknown, unknown, unknown, ...</td>\n      <td>[]</td>\n      <td>[[], [], [], [], [], [], [], []]</td>\n      <td>[]</td>\n      <td>[[], [], [], [], [], [], [], []]</td>\n      <td>[]</td>\n    </tr>\n    <tr>\n      <th>789</th>\n      <td>Rapid Tone Repair Correcting Cream</td>\n      <td>Neutrogena</td>\n      <td>Water, Pentaerythrityl Tetraethylhexanoate, Di...</td>\n      <td>35.99</td>\n      <td>Oily</td>\n      <td>1</td>\n      <td>1</td>\n      <td>1</td>\n      <td>1</td>\n      <td>1</td>\n      <td>...</td>\n      <td>[]</td>\n      <td>[Water, Pentaerythrityl Tetraethylhexanoate, D...</td>\n      <td>32</td>\n      <td>0</td>\n      <td>[unknown, unknown, unknown, unknown, unknown, ...</td>\n      <td>[]</td>\n      <td>[[], [], [], [], [], [], [], [], [], [], [], [...</td>\n      <td>[]</td>\n      <td>[[], [], [], [], [], [], [], [], [], [], [], [...</td>\n      <td>[]</td>\n    </tr>\n    <tr>\n      <th>1080</th>\n      <td>Triple Oxygen Mask</td>\n      <td>Bliss</td>\n      <td>Disodium Laureth Sulfosuccinate, Methyl Perflu...</td>\n      <td>22.00</td>\n      <td>Oily</td>\n      <td>1</td>\n      <td>1</td>\n      <td>1</td>\n      <td>1</td>\n      <td>1</td>\n      <td>...</td>\n      <td>[]</td>\n      <td>[Disodium Laureth Sulfosuccinate, Methyl Perfl...</td>\n      <td>59</td>\n      <td>0</td>\n      <td>[unknown, unknown, acetyl tributyl citrate, un...</td>\n      <td>[]</td>\n      <td>[[], [], 1, [], [], [], [], [], [], [], [], []...</td>\n      <td>[]</td>\n      <td>[[], [], ['Film-Forming/Holding Agents'], [], ...</td>\n      <td>[]</td>\n    </tr>\n    <tr>\n      <th>289</th>\n      <td>PREBIOTIX Instant Flash Facial</td>\n      <td>Juice Beauty</td>\n      <td>Aloe Barbadensis Leaf Juice*, Pyrus Malus (App...</td>\n      <td>rice$36.40Original Price$52.00</td>\n      <td>Oily</td>\n      <td>1</td>\n      <td>1</td>\n      <td>1</td>\n      <td>1</td>\n      <td>0</td>\n      <td>...</td>\n      <td>[]</td>\n      <td>[Aloe Barbadensis Leaf Juice*, Pyrus Malus (Ap...</td>\n      <td>41</td>\n      <td>0</td>\n      <td>[unknown, unknown, unknown, unknown, unknown, ...</td>\n      <td>[]</td>\n      <td>[[], [], [], [], [], [], [], [], [], [], [], [...</td>\n      <td>[]</td>\n      <td>[[], [], [], [], [], [], [], [], [], [], [], [...</td>\n      <td>[]</td>\n    </tr>\n    <tr>\n      <th>710</th>\n      <td>Travel Size Revitalizing Supreme+ Global Anti-...</td>\n      <td>Estée Lauder</td>\n      <td>Water\\Aqua\\Eau, Dimethicone, Glycerin, Isohexa...</td>\n      <td>27.00</td>\n      <td>Oily</td>\n      <td>1</td>\n      <td>1</td>\n      <td>1</td>\n      <td>1</td>\n      <td>1</td>\n      <td>...</td>\n      <td>[]</td>\n      <td>[Water\\Aqua\\Eau, Dimethicone, Glycerin, Isohex...</td>\n      <td>51</td>\n      <td>0</td>\n      <td>[unknown, unknown, unknown, unknown, unknown, ...</td>\n      <td>[]</td>\n      <td>[[], [], [], [], [], [], [], [], [], [], [], [...</td>\n      <td>[]</td>\n      <td>[[], [], [], [], [], [], [], [], [], [], [], [...</td>\n      <td>[]</td>\n    </tr>\n    <tr>\n      <th>862</th>\n      <td>Kakadu C Intensive Vitamin C Peel Pad with Fer...</td>\n      <td>Dermadoctor</td>\n      <td>Aqua (Water), Glycolic Acid, Rose Centifolia F...</td>\n      <td>rice$58.50Original Price$78.00</td>\n      <td>Oily</td>\n      <td>1</td>\n      <td>1</td>\n      <td>1</td>\n      <td>1</td>\n      <td>1</td>\n      <td>...</td>\n      <td>[]</td>\n      <td>[Aqua (Water), Glycolic Acid, Rose Centifolia ...</td>\n      <td>31</td>\n      <td>0</td>\n      <td>[unknown, unknown, unknown, unknown, unknown, ...</td>\n      <td>[]</td>\n      <td>[[], [], [], [], [], [], [], [], [], [], [], [...</td>\n      <td>[]</td>\n      <td>[[], [], [], [], [], [], [], [], [], [], [], [...</td>\n      <td>[]</td>\n    </tr>\n    <tr>\n      <th>1270</th>\n      <td>Clear Improvement Charcoal Honey Mask To Purif...</td>\n      <td>Origins</td>\n      <td>Water\\Aqua\\Eau Butylene Glycol Bentonite Montm...</td>\n      <td>34.00</td>\n      <td>Oily</td>\n      <td>1</td>\n      <td>1</td>\n      <td>1</td>\n      <td>1</td>\n      <td>0</td>\n      <td>...</td>\n      <td>[]</td>\n      <td>[Water\\Aqua\\Eau Butylene Glycol Bentonite Mont...</td>\n      <td>18</td>\n      <td>0</td>\n      <td>[unknown, unknown, unknown, unknown, unknown, ...</td>\n      <td>[]</td>\n      <td>[[], [], [], [], [], [], [], [], [], [], [], [...</td>\n      <td>[]</td>\n      <td>[[], [], [], [], [], [], [], [], [], [], [], [...</td>\n      <td>[]</td>\n    </tr>\n    <tr>\n      <th>1441</th>\n      <td>The Night Night Eyes - Nighttime Retinoid Eye ...</td>\n      <td>THE ROUTE</td>\n      <td>Water/Aqua/Eau, Cetearyl Alcohol, Caprylic/Cap...</td>\n      <td>65.00</td>\n      <td>Oily</td>\n      <td>1</td>\n      <td>1</td>\n      <td>1</td>\n      <td>1</td>\n      <td>1</td>\n      <td>...</td>\n      <td>[]</td>\n      <td>[Water/Aqua/Eau, Cetearyl Alcohol, Caprylic/Ca...</td>\n      <td>60</td>\n      <td>0</td>\n      <td>[unknown, unknown, unknown, unknown, unknown, ...</td>\n      <td>[]</td>\n      <td>[[], [], [], [], [], [], [], [], [], [], [], [...</td>\n      <td>[]</td>\n      <td>[[], [], [], [], [], [], [], [], [], [], [], [...</td>\n      <td>[]</td>\n    </tr>\n  </tbody>\n</table>\n<p>10 rows × 22 columns</p>\n</div>"
     },
     "metadata": {},
     "execution_count": 122
    }
   ],
   "source": [
    "data_cleaner.search_for_ingredients(lookup)\n",
    "sample_cleaned = data_cleaner.get_df()\n",
    "sample_cleaned"
   ]
  },
  {
   "cell_type": "code",
   "execution_count": 129,
   "metadata": {},
   "outputs": [
    {
     "output_type": "execute_result",
     "data": {
      "text/plain": [
       "[[],\n",
       " [],\n",
       " [],\n",
       " [],\n",
       " [],\n",
       " [],\n",
       " [],\n",
       " [],\n",
       " [],\n",
       " [],\n",
       " [],\n",
       " [],\n",
       " [],\n",
       " [],\n",
       " [],\n",
       " [],\n",
       " [],\n",
       " [],\n",
       " [],\n",
       " [],\n",
       " [],\n",
       " [],\n",
       " [],\n",
       " [],\n",
       " [],\n",
       " [],\n",
       " [],\n",
       " [],\n",
       " [],\n",
       " [],\n",
       " [],\n",
       " [],\n",
       " [],\n",
       " [],\n",
       " [],\n",
       " [],\n",
       " [],\n",
       " [],\n",
       " [],\n",
       " [],\n",
       " [],\n",
       " [],\n",
       " [],\n",
       " [],\n",
       " [],\n",
       " [],\n",
       " [],\n",
       " [],\n",
       " [],\n",
       " [],\n",
       " []]"
      ]
     },
     "metadata": {},
     "execution_count": 129
    }
   ],
   "source": [
    "sample_cleaned.inactive_ingredient_category_list[1599]"
   ]
  },
  {
   "source": [
    "### Cleaing the entire dataset "
   ],
   "cell_type": "markdown",
   "metadata": {}
  },
  {
   "cell_type": "code",
   "execution_count": 146,
   "metadata": {},
   "outputs": [
    {
     "output_type": "execute_result",
     "data": {
      "text/plain": [
       "                                                Product              Brand  \\\n",
       "0                      Glycolic Acid 7% Toning Solution       The Ordinary   \n",
       "1             The Microdelivery Exfoliating Facial Wash         Philosophy   \n",
       "2                          AHA/BHA Exfoliating Cleanser              Murad   \n",
       "3                              Anti-Aging Cleansing Gel  Peter Thomas Roth   \n",
       "4                             Hydrating Facial Cleanser             CeraVe   \n",
       "...                                                 ...                ...   \n",
       "2036                Instant Hydration Facial Sheet Mask   Andalou Naturals   \n",
       "2037                        Prep Cicaronic SOS Ampoules                SNP   \n",
       "2038                    Pro-Collagen Hydra-Gel Eye Mask             ELEMIS   \n",
       "2039  ADVANCED Ceramide Capsules Daily Youth Restori...    Elizabeth Arden   \n",
       "2040                    Calm + Restore Triple Oat Serum             Aveeno   \n",
       "\n",
       "                                            Ingredients  Price  Skin Type  \\\n",
       "0     Aqua (Water), Glycolic Acid, Rosa Damascena Fl...   8.70       Oily   \n",
       "1     Aqua/Water/Eau, Solum Diatomeae/Diatomaceous E...  29.00       Oily   \n",
       "2     Water (Aqua), Sodium Laureth Sulfate, Cocamido...  40.00       Oily   \n",
       "3     Water/Aqua/Eau, Sodium Laureth Sulfate, Cocami...  39.00       Oily   \n",
       "4     Purified Water, Glycerin, Behentrimonium Metho...  13.49       Oily   \n",
       "...                                                 ...    ...        ...   \n",
       "2036  Aloe Barbadensis Leaf Juice*, Purified Water (...   4.99  Sensitive   \n",
       "2037  Water, Glycerin, Butylene Glycol, Glycereth-26...  16.00  Sensitive   \n",
       "2038  Aqua/Water/Eau, Glycerin, Ceratonia Siliqua Gu...  76.00  Sensitive   \n",
       "2039  Cyclopentasiloxane, Isononyl Isononanoate, Iso...  63.00  Sensitive   \n",
       "2040  Water, Glycerin, Butylene Glycol, Bis-PEG-18 M...  23.99  Sensitive   \n",
       "\n",
       "      Combination  Dry  Normal  Oily  Sensitive active_ingredient  \\\n",
       "0               1    1       1     1          1                     \n",
       "1               1    1       1     1          1                     \n",
       "2               1    1       1     1          1                     \n",
       "3               1    1       1     1          1                     \n",
       "4               1    1       1     1          1                     \n",
       "...           ...  ...     ...   ...        ...               ...   \n",
       "2036            0    0       0     0          1                     \n",
       "2037            0    0       0     0          1                     \n",
       "2038            0    0       0     0          1                     \n",
       "2039            0    0       0     0          1                     \n",
       "2040            0    0       0     0          1                     \n",
       "\n",
       "                                    inactive_ingredient  \\\n",
       "0     Aqua (Water), Glycolic Acid, Rosa Damascena Fl...   \n",
       "1     Aqua/Water/Eau, Solum Diatomeae/Diatomaceous E...   \n",
       "2     Water (Aqua), Sodium Laureth Sulfate, Cocamido...   \n",
       "3     Water/Aqua/Eau, Sodium Laureth Sulfate, Cocami...   \n",
       "4     Purified Water, Glycerin, Behentrimonium Metho...   \n",
       "...                                                 ...   \n",
       "2036   [magnolia Officinalis Bark Extract, Boswellia...   \n",
       "2037  Water, Glycerin, Butylene Glycol, Glycereth-26...   \n",
       "2038  Aqua/Water/Eau, Glycerin, Ceratonia Siliqua Gu...   \n",
       "2039  Cyclopentasiloxane, Isononyl Isononanoate, Iso...   \n",
       "2040  Water, Glycerin, Butylene Glycol, Bis-PEG-18 M...   \n",
       "\n",
       "     active_ingredient_list  \\\n",
       "0                        []   \n",
       "1                        []   \n",
       "2                        []   \n",
       "3                        []   \n",
       "4                        []   \n",
       "...                     ...   \n",
       "2036                     []   \n",
       "2037                     []   \n",
       "2038                     []   \n",
       "2039                     []   \n",
       "2040                     []   \n",
       "\n",
       "                               inactive_ingredient_list  \\\n",
       "0     [Aqua (Water), Glycolic Acid, Rosa Damascena F...   \n",
       "1     [Aqua/Water/Eau, Solum Diatomeae/Diatomaceous ...   \n",
       "2     [Water (Aqua), Sodium Laureth Sulfate, Cocamid...   \n",
       "3     [Water/Aqua/Eau, Sodium Laureth Sulfate, Cocam...   \n",
       "4     [Purified Water, Glycerin, Behentrimonium Meth...   \n",
       "...                                                 ...   \n",
       "2036  [[magnolia Officinalis Bark Extract, Boswellia...   \n",
       "2037  [Water, Glycerin, Butylene Glycol, Glycereth-2...   \n",
       "2038  [Aqua/Water/Eau, Glycerin, Ceratonia Siliqua G...   \n",
       "2039  [Cyclopentasiloxane, Isononyl Isononanoate, Is...   \n",
       "2040  [Water, Glycerin, Butylene Glycol, Bis-PEG-18 ...   \n",
       "\n",
       "      num_inactive_ingredients  num_active_ingredients  \n",
       "0                           42                       0  \n",
       "1                           32                       0  \n",
       "2                           21                       0  \n",
       "3                           26                       0  \n",
       "4                           22                       0  \n",
       "...                        ...                     ...  \n",
       "2036                        16                       0  \n",
       "2037                        31                       0  \n",
       "2038                        21                       0  \n",
       "2039                        27                       0  \n",
       "2040                        19                       0  \n",
       "\n",
       "[2041 rows x 16 columns]"
      ],
      "text/html": "<div>\n<style scoped>\n    .dataframe tbody tr th:only-of-type {\n        vertical-align: middle;\n    }\n\n    .dataframe tbody tr th {\n        vertical-align: top;\n    }\n\n    .dataframe thead th {\n        text-align: right;\n    }\n</style>\n<table border=\"1\" class=\"dataframe\">\n  <thead>\n    <tr style=\"text-align: right;\">\n      <th></th>\n      <th>Product</th>\n      <th>Brand</th>\n      <th>Ingredients</th>\n      <th>Price</th>\n      <th>Skin Type</th>\n      <th>Combination</th>\n      <th>Dry</th>\n      <th>Normal</th>\n      <th>Oily</th>\n      <th>Sensitive</th>\n      <th>active_ingredient</th>\n      <th>inactive_ingredient</th>\n      <th>active_ingredient_list</th>\n      <th>inactive_ingredient_list</th>\n      <th>num_inactive_ingredients</th>\n      <th>num_active_ingredients</th>\n    </tr>\n  </thead>\n  <tbody>\n    <tr>\n      <th>0</th>\n      <td>Glycolic Acid 7% Toning Solution</td>\n      <td>The Ordinary</td>\n      <td>Aqua (Water), Glycolic Acid, Rosa Damascena Fl...</td>\n      <td>8.70</td>\n      <td>Oily</td>\n      <td>1</td>\n      <td>1</td>\n      <td>1</td>\n      <td>1</td>\n      <td>1</td>\n      <td></td>\n      <td>Aqua (Water), Glycolic Acid, Rosa Damascena Fl...</td>\n      <td>[]</td>\n      <td>[Aqua (Water), Glycolic Acid, Rosa Damascena F...</td>\n      <td>42</td>\n      <td>0</td>\n    </tr>\n    <tr>\n      <th>1</th>\n      <td>The Microdelivery Exfoliating Facial Wash</td>\n      <td>Philosophy</td>\n      <td>Aqua/Water/Eau, Solum Diatomeae/Diatomaceous E...</td>\n      <td>29.00</td>\n      <td>Oily</td>\n      <td>1</td>\n      <td>1</td>\n      <td>1</td>\n      <td>1</td>\n      <td>1</td>\n      <td></td>\n      <td>Aqua/Water/Eau, Solum Diatomeae/Diatomaceous E...</td>\n      <td>[]</td>\n      <td>[Aqua/Water/Eau, Solum Diatomeae/Diatomaceous ...</td>\n      <td>32</td>\n      <td>0</td>\n    </tr>\n    <tr>\n      <th>2</th>\n      <td>AHA/BHA Exfoliating Cleanser</td>\n      <td>Murad</td>\n      <td>Water (Aqua), Sodium Laureth Sulfate, Cocamido...</td>\n      <td>40.00</td>\n      <td>Oily</td>\n      <td>1</td>\n      <td>1</td>\n      <td>1</td>\n      <td>1</td>\n      <td>1</td>\n      <td></td>\n      <td>Water (Aqua), Sodium Laureth Sulfate, Cocamido...</td>\n      <td>[]</td>\n      <td>[Water (Aqua), Sodium Laureth Sulfate, Cocamid...</td>\n      <td>21</td>\n      <td>0</td>\n    </tr>\n    <tr>\n      <th>3</th>\n      <td>Anti-Aging Cleansing Gel</td>\n      <td>Peter Thomas Roth</td>\n      <td>Water/Aqua/Eau, Sodium Laureth Sulfate, Cocami...</td>\n      <td>39.00</td>\n      <td>Oily</td>\n      <td>1</td>\n      <td>1</td>\n      <td>1</td>\n      <td>1</td>\n      <td>1</td>\n      <td></td>\n      <td>Water/Aqua/Eau, Sodium Laureth Sulfate, Cocami...</td>\n      <td>[]</td>\n      <td>[Water/Aqua/Eau, Sodium Laureth Sulfate, Cocam...</td>\n      <td>26</td>\n      <td>0</td>\n    </tr>\n    <tr>\n      <th>4</th>\n      <td>Hydrating Facial Cleanser</td>\n      <td>CeraVe</td>\n      <td>Purified Water, Glycerin, Behentrimonium Metho...</td>\n      <td>13.49</td>\n      <td>Oily</td>\n      <td>1</td>\n      <td>1</td>\n      <td>1</td>\n      <td>1</td>\n      <td>1</td>\n      <td></td>\n      <td>Purified Water, Glycerin, Behentrimonium Metho...</td>\n      <td>[]</td>\n      <td>[Purified Water, Glycerin, Behentrimonium Meth...</td>\n      <td>22</td>\n      <td>0</td>\n    </tr>\n    <tr>\n      <th>...</th>\n      <td>...</td>\n      <td>...</td>\n      <td>...</td>\n      <td>...</td>\n      <td>...</td>\n      <td>...</td>\n      <td>...</td>\n      <td>...</td>\n      <td>...</td>\n      <td>...</td>\n      <td>...</td>\n      <td>...</td>\n      <td>...</td>\n      <td>...</td>\n      <td>...</td>\n      <td>...</td>\n    </tr>\n    <tr>\n      <th>2036</th>\n      <td>Instant Hydration Facial Sheet Mask</td>\n      <td>Andalou Naturals</td>\n      <td>Aloe Barbadensis Leaf Juice*, Purified Water (...</td>\n      <td>4.99</td>\n      <td>Sensitive</td>\n      <td>0</td>\n      <td>0</td>\n      <td>0</td>\n      <td>0</td>\n      <td>1</td>\n      <td></td>\n      <td>[magnolia Officinalis Bark Extract, Boswellia...</td>\n      <td>[]</td>\n      <td>[[magnolia Officinalis Bark Extract, Boswellia...</td>\n      <td>16</td>\n      <td>0</td>\n    </tr>\n    <tr>\n      <th>2037</th>\n      <td>Prep Cicaronic SOS Ampoules</td>\n      <td>SNP</td>\n      <td>Water, Glycerin, Butylene Glycol, Glycereth-26...</td>\n      <td>16.00</td>\n      <td>Sensitive</td>\n      <td>0</td>\n      <td>0</td>\n      <td>0</td>\n      <td>0</td>\n      <td>1</td>\n      <td></td>\n      <td>Water, Glycerin, Butylene Glycol, Glycereth-26...</td>\n      <td>[]</td>\n      <td>[Water, Glycerin, Butylene Glycol, Glycereth-2...</td>\n      <td>31</td>\n      <td>0</td>\n    </tr>\n    <tr>\n      <th>2038</th>\n      <td>Pro-Collagen Hydra-Gel Eye Mask</td>\n      <td>ELEMIS</td>\n      <td>Aqua/Water/Eau, Glycerin, Ceratonia Siliqua Gu...</td>\n      <td>76.00</td>\n      <td>Sensitive</td>\n      <td>0</td>\n      <td>0</td>\n      <td>0</td>\n      <td>0</td>\n      <td>1</td>\n      <td></td>\n      <td>Aqua/Water/Eau, Glycerin, Ceratonia Siliqua Gu...</td>\n      <td>[]</td>\n      <td>[Aqua/Water/Eau, Glycerin, Ceratonia Siliqua G...</td>\n      <td>21</td>\n      <td>0</td>\n    </tr>\n    <tr>\n      <th>2039</th>\n      <td>ADVANCED Ceramide Capsules Daily Youth Restori...</td>\n      <td>Elizabeth Arden</td>\n      <td>Cyclopentasiloxane, Isononyl Isononanoate, Iso...</td>\n      <td>63.00</td>\n      <td>Sensitive</td>\n      <td>0</td>\n      <td>0</td>\n      <td>0</td>\n      <td>0</td>\n      <td>1</td>\n      <td></td>\n      <td>Cyclopentasiloxane, Isononyl Isononanoate, Iso...</td>\n      <td>[]</td>\n      <td>[Cyclopentasiloxane, Isononyl Isononanoate, Is...</td>\n      <td>27</td>\n      <td>0</td>\n    </tr>\n    <tr>\n      <th>2040</th>\n      <td>Calm + Restore Triple Oat Serum</td>\n      <td>Aveeno</td>\n      <td>Water, Glycerin, Butylene Glycol, Bis-PEG-18 M...</td>\n      <td>23.99</td>\n      <td>Sensitive</td>\n      <td>0</td>\n      <td>0</td>\n      <td>0</td>\n      <td>0</td>\n      <td>1</td>\n      <td></td>\n      <td>Water, Glycerin, Butylene Glycol, Bis-PEG-18 M...</td>\n      <td>[]</td>\n      <td>[Water, Glycerin, Butylene Glycol, Bis-PEG-18 ...</td>\n      <td>19</td>\n      <td>0</td>\n    </tr>\n  </tbody>\n</table>\n<p>2041 rows × 16 columns</p>\n</div>"
     },
     "metadata": {},
     "execution_count": 146
    }
   ],
   "source": [
    "data_cleaner2= data_cleaning(df)\n",
    "data_cleaner2.clean()\n",
    "df_cleaned = data_cleaner2.get_df()\n",
    "df_cleaned"
   ]
  },
  {
   "cell_type": "code",
   "execution_count": 149,
   "metadata": {},
   "outputs": [
    {
     "output_type": "stream",
     "name": "stdout",
     "text": [
      "Water (Aqua)\n"
     ]
    }
   ],
   "source": [
    "main = df_cleaned.inactive_ingredient[2].split(\", \")[0]\n",
    "print(main)"
   ]
  },
  {
   "cell_type": "code",
   "execution_count": 177,
   "metadata": {},
   "outputs": [
    {
     "output_type": "stream",
     "name": "stdout",
     "text": [
      "Aqua (Water)\n"
     ]
    },
    {
     "output_type": "error",
     "ename": "KeyError",
     "evalue": "'main_ingredients'",
     "traceback": [
      "\u001b[0;31m---------------------------------------------------------------------------\u001b[0m",
      "\u001b[0;31mKeyError\u001b[0m                                  Traceback (most recent call last)",
      "\u001b[0;32m/usr/local/Caskroom/miniconda/base/lib/python3.8/site-packages/pandas/core/indexes/base.py\u001b[0m in \u001b[0;36mget_loc\u001b[0;34m(self, key, method, tolerance)\u001b[0m\n\u001b[1;32m   2645\u001b[0m             \u001b[0;32mtry\u001b[0m\u001b[0;34m:\u001b[0m\u001b[0;34m\u001b[0m\u001b[0;34m\u001b[0m\u001b[0m\n\u001b[0;32m-> 2646\u001b[0;31m                 \u001b[0;32mreturn\u001b[0m \u001b[0mself\u001b[0m\u001b[0;34m.\u001b[0m\u001b[0m_engine\u001b[0m\u001b[0;34m.\u001b[0m\u001b[0mget_loc\u001b[0m\u001b[0;34m(\u001b[0m\u001b[0mkey\u001b[0m\u001b[0;34m)\u001b[0m\u001b[0;34m\u001b[0m\u001b[0;34m\u001b[0m\u001b[0m\n\u001b[0m\u001b[1;32m   2647\u001b[0m             \u001b[0;32mexcept\u001b[0m \u001b[0mKeyError\u001b[0m\u001b[0;34m:\u001b[0m\u001b[0;34m\u001b[0m\u001b[0;34m\u001b[0m\u001b[0m\n",
      "\u001b[0;32mpandas/_libs/index.pyx\u001b[0m in \u001b[0;36mpandas._libs.index.IndexEngine.get_loc\u001b[0;34m()\u001b[0m\n",
      "\u001b[0;32mpandas/_libs/index.pyx\u001b[0m in \u001b[0;36mpandas._libs.index.IndexEngine.get_loc\u001b[0;34m()\u001b[0m\n",
      "\u001b[0;32mpandas/_libs/hashtable_class_helper.pxi\u001b[0m in \u001b[0;36mpandas._libs.hashtable.PyObjectHashTable.get_item\u001b[0;34m()\u001b[0m\n",
      "\u001b[0;32mpandas/_libs/hashtable_class_helper.pxi\u001b[0m in \u001b[0;36mpandas._libs.hashtable.PyObjectHashTable.get_item\u001b[0;34m()\u001b[0m\n",
      "\u001b[0;31mKeyError\u001b[0m: 'main_ingredients'",
      "\nDuring handling of the above exception, another exception occurred:\n",
      "\u001b[0;31mKeyError\u001b[0m                                  Traceback (most recent call last)",
      "\u001b[0;32m<ipython-input-177-e92b3f5739a4>\u001b[0m in \u001b[0;36m<module>\u001b[0;34m\u001b[0m\n\u001b[1;32m      5\u001b[0m     \u001b[0;32mif\u001b[0m \u001b[0;34m(\u001b[0m\u001b[0;34m\"Water\"\u001b[0m \u001b[0;32mor\u001b[0m \u001b[0;34m\"Aqua\"\u001b[0m \u001b[0;32mor\u001b[0m \u001b[0;34m\"Eau\"\u001b[0m \u001b[0;32mor\u001b[0m \u001b[0;34m\"Water (Aqua)\"\u001b[0m \u001b[0;32min\u001b[0m \u001b[0mmain\u001b[0m\u001b[0;34m[\u001b[0m\u001b[0;36m0\u001b[0m\u001b[0;34m]\u001b[0m\u001b[0;34m)\u001b[0m\u001b[0;34m:\u001b[0m\u001b[0;34m\u001b[0m\u001b[0;34m\u001b[0m\u001b[0m\n\u001b[1;32m      6\u001b[0m         \u001b[0mmain\u001b[0m \u001b[0;34m=\u001b[0m \u001b[0mmain\u001b[0m\u001b[0;34m[\u001b[0m\u001b[0;36m1\u001b[0m\u001b[0;34m:\u001b[0m\u001b[0;36m4\u001b[0m\u001b[0;34m]\u001b[0m\u001b[0;34m\u001b[0m\u001b[0;34m\u001b[0m\u001b[0m\n\u001b[0;32m----> 7\u001b[0;31m     \u001b[0mdf_cleaned\u001b[0m\u001b[0;34m[\u001b[0m\u001b[0;34m'main_ingredients'\u001b[0m\u001b[0;34m]\u001b[0m\u001b[0;34m[\u001b[0m\u001b[0mi\u001b[0m\u001b[0;34m]\u001b[0m \u001b[0;34m=\u001b[0m \u001b[0mmain\u001b[0m\u001b[0;34m\u001b[0m\u001b[0;34m\u001b[0m\u001b[0m\n\u001b[0m",
      "\u001b[0;32m/usr/local/Caskroom/miniconda/base/lib/python3.8/site-packages/pandas/core/frame.py\u001b[0m in \u001b[0;36m__getitem__\u001b[0;34m(self, key)\u001b[0m\n\u001b[1;32m   2798\u001b[0m             \u001b[0;32mif\u001b[0m \u001b[0mself\u001b[0m\u001b[0;34m.\u001b[0m\u001b[0mcolumns\u001b[0m\u001b[0;34m.\u001b[0m\u001b[0mnlevels\u001b[0m \u001b[0;34m>\u001b[0m \u001b[0;36m1\u001b[0m\u001b[0;34m:\u001b[0m\u001b[0;34m\u001b[0m\u001b[0;34m\u001b[0m\u001b[0m\n\u001b[1;32m   2799\u001b[0m                 \u001b[0;32mreturn\u001b[0m \u001b[0mself\u001b[0m\u001b[0;34m.\u001b[0m\u001b[0m_getitem_multilevel\u001b[0m\u001b[0;34m(\u001b[0m\u001b[0mkey\u001b[0m\u001b[0;34m)\u001b[0m\u001b[0;34m\u001b[0m\u001b[0;34m\u001b[0m\u001b[0m\n\u001b[0;32m-> 2800\u001b[0;31m             \u001b[0mindexer\u001b[0m \u001b[0;34m=\u001b[0m \u001b[0mself\u001b[0m\u001b[0;34m.\u001b[0m\u001b[0mcolumns\u001b[0m\u001b[0;34m.\u001b[0m\u001b[0mget_loc\u001b[0m\u001b[0;34m(\u001b[0m\u001b[0mkey\u001b[0m\u001b[0;34m)\u001b[0m\u001b[0;34m\u001b[0m\u001b[0;34m\u001b[0m\u001b[0m\n\u001b[0m\u001b[1;32m   2801\u001b[0m             \u001b[0;32mif\u001b[0m \u001b[0mis_integer\u001b[0m\u001b[0;34m(\u001b[0m\u001b[0mindexer\u001b[0m\u001b[0;34m)\u001b[0m\u001b[0;34m:\u001b[0m\u001b[0;34m\u001b[0m\u001b[0;34m\u001b[0m\u001b[0m\n\u001b[1;32m   2802\u001b[0m                 \u001b[0mindexer\u001b[0m \u001b[0;34m=\u001b[0m \u001b[0;34m[\u001b[0m\u001b[0mindexer\u001b[0m\u001b[0;34m]\u001b[0m\u001b[0;34m\u001b[0m\u001b[0;34m\u001b[0m\u001b[0m\n",
      "\u001b[0;32m/usr/local/Caskroom/miniconda/base/lib/python3.8/site-packages/pandas/core/indexes/base.py\u001b[0m in \u001b[0;36mget_loc\u001b[0;34m(self, key, method, tolerance)\u001b[0m\n\u001b[1;32m   2646\u001b[0m                 \u001b[0;32mreturn\u001b[0m \u001b[0mself\u001b[0m\u001b[0;34m.\u001b[0m\u001b[0m_engine\u001b[0m\u001b[0;34m.\u001b[0m\u001b[0mget_loc\u001b[0m\u001b[0;34m(\u001b[0m\u001b[0mkey\u001b[0m\u001b[0;34m)\u001b[0m\u001b[0;34m\u001b[0m\u001b[0;34m\u001b[0m\u001b[0m\n\u001b[1;32m   2647\u001b[0m             \u001b[0;32mexcept\u001b[0m \u001b[0mKeyError\u001b[0m\u001b[0;34m:\u001b[0m\u001b[0;34m\u001b[0m\u001b[0;34m\u001b[0m\u001b[0m\n\u001b[0;32m-> 2648\u001b[0;31m                 \u001b[0;32mreturn\u001b[0m \u001b[0mself\u001b[0m\u001b[0;34m.\u001b[0m\u001b[0m_engine\u001b[0m\u001b[0;34m.\u001b[0m\u001b[0mget_loc\u001b[0m\u001b[0;34m(\u001b[0m\u001b[0mself\u001b[0m\u001b[0;34m.\u001b[0m\u001b[0m_maybe_cast_indexer\u001b[0m\u001b[0;34m(\u001b[0m\u001b[0mkey\u001b[0m\u001b[0;34m)\u001b[0m\u001b[0;34m)\u001b[0m\u001b[0;34m\u001b[0m\u001b[0;34m\u001b[0m\u001b[0m\n\u001b[0m\u001b[1;32m   2649\u001b[0m         \u001b[0mindexer\u001b[0m \u001b[0;34m=\u001b[0m \u001b[0mself\u001b[0m\u001b[0;34m.\u001b[0m\u001b[0mget_indexer\u001b[0m\u001b[0;34m(\u001b[0m\u001b[0;34m[\u001b[0m\u001b[0mkey\u001b[0m\u001b[0;34m]\u001b[0m\u001b[0;34m,\u001b[0m \u001b[0mmethod\u001b[0m\u001b[0;34m=\u001b[0m\u001b[0mmethod\u001b[0m\u001b[0;34m,\u001b[0m \u001b[0mtolerance\u001b[0m\u001b[0;34m=\u001b[0m\u001b[0mtolerance\u001b[0m\u001b[0;34m)\u001b[0m\u001b[0;34m\u001b[0m\u001b[0;34m\u001b[0m\u001b[0m\n\u001b[1;32m   2650\u001b[0m         \u001b[0;32mif\u001b[0m \u001b[0mindexer\u001b[0m\u001b[0;34m.\u001b[0m\u001b[0mndim\u001b[0m \u001b[0;34m>\u001b[0m \u001b[0;36m1\u001b[0m \u001b[0;32mor\u001b[0m \u001b[0mindexer\u001b[0m\u001b[0;34m.\u001b[0m\u001b[0msize\u001b[0m \u001b[0;34m>\u001b[0m \u001b[0;36m1\u001b[0m\u001b[0;34m:\u001b[0m\u001b[0;34m\u001b[0m\u001b[0;34m\u001b[0m\u001b[0m\n",
      "\u001b[0;32mpandas/_libs/index.pyx\u001b[0m in \u001b[0;36mpandas._libs.index.IndexEngine.get_loc\u001b[0;34m()\u001b[0m\n",
      "\u001b[0;32mpandas/_libs/index.pyx\u001b[0m in \u001b[0;36mpandas._libs.index.IndexEngine.get_loc\u001b[0;34m()\u001b[0m\n",
      "\u001b[0;32mpandas/_libs/hashtable_class_helper.pxi\u001b[0m in \u001b[0;36mpandas._libs.hashtable.PyObjectHashTable.get_item\u001b[0;34m()\u001b[0m\n",
      "\u001b[0;32mpandas/_libs/hashtable_class_helper.pxi\u001b[0m in \u001b[0;36mpandas._libs.hashtable.PyObjectHashTable.get_item\u001b[0;34m()\u001b[0m\n",
      "\u001b[0;31mKeyError\u001b[0m: 'main_ingredients'"
     ]
    }
   ],
   "source": [
    "#main =[]\n",
    "for i in range(len(df_cleaned)):\n",
    "    main = df_cleaned.inactive_ingredient[i].split(\", \")[:4]\n",
    "    print(main[0]) #print all the ways water is listed \n",
    "    if (\"Water\" or \"Aqua\" or \"Eau\" or \"Water (Aqua)\" in main[0]):\n",
    "        main = main[1:4]\n",
    "    df_cleaned['main_ingredients'][i] = main\n"
   ]
  },
  {
   "cell_type": "code",
   "execution_count": 174,
   "metadata": {},
   "outputs": [
    {
     "output_type": "execute_result",
     "data": {
      "text/plain": [
       "'8.70'"
      ]
     },
     "metadata": {},
     "execution_count": 174
    }
   ],
   "source": [
    "df_cleaned['Price'][0]"
   ]
  },
  {
   "cell_type": "code",
   "execution_count": null,
   "metadata": {},
   "outputs": [],
   "source": []
  }
 ]
}